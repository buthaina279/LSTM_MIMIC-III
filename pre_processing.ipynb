{
  "nbformat": 4,
  "nbformat_minor": 0,
  "metadata": {
    "colab": {
      "name": "pre-processing.ipynb",
      "provenance": [],
      "collapsed_sections": [],
      "authorship_tag": "ABX9TyP7HO8DZVNXGfTFXKxIkarR",
      "include_colab_link": true
    },
    "kernelspec": {
      "name": "python3",
      "display_name": "Python 3"
    },
    "language_info": {
      "name": "python"
    }
  },
  "cells": [
    {
      "cell_type": "markdown",
      "metadata": {
        "id": "view-in-github",
        "colab_type": "text"
      },
      "source": [
        "<a href=\"https://colab.research.google.com/github/buthaina279/LSTM_MIMIC-III/blob/main/pre_processing.ipynb\" target=\"_parent\"><img src=\"https://colab.research.google.com/assets/colab-badge.svg\" alt=\"Open In Colab\"/></a>"
      ]
    },
    {
      "cell_type": "code",
      "execution_count": null,
      "metadata": {
        "colab": {
          "base_uri": "https://localhost:8080/"
        },
        "id": "5tAGP2_TR1o5",
        "outputId": "444740a7-b4bf-4ae6-dbed-79ed749e90fd"
      },
      "outputs": [
        {
          "output_type": "stream",
          "name": "stdout",
          "text": [
            "Mounted at /content/drive\n"
          ]
        }
      ],
      "source": [
        "from google.colab import drive\n",
        "drive.mount('/content/drive')"
      ]
    },
    {
      "cell_type": "code",
      "source": [
        "#for google drive\n",
        "DATA_FILEPATH = \"/content/drive/MyDrive/final_project/\""
      ],
      "metadata": {
        "id": "OPt5BfJcSLoA"
      },
      "execution_count": null,
      "outputs": []
    },
    {
      "cell_type": "code",
      "source": [
        "import warnings\n",
        "warnings.filterwarnings(\"ignore\")\n",
        "\n",
        "from __future__ import division\n",
        "import numpy as np\n",
        "import pandas as pd\n",
        "import matplotlib.pyplot as plt"
      ],
      "metadata": {
        "id": "vyIYcNMeSNv3"
      },
      "execution_count": null,
      "outputs": []
    },
    {
      "cell_type": "code",
      "source": [
        "df = pd.read_csv(DATA_FILEPATH + 'stat_cv_vitals_labs.csv',index_col=0) "
      ],
      "metadata": {
        "id": "Y1l5-XXtSPiY"
      },
      "execution_count": null,
      "outputs": []
    },
    {
      "cell_type": "code",
      "source": [
        "df.head()"
      ],
      "metadata": {
        "colab": {
          "base_uri": "https://localhost:8080/",
          "height": 365
        },
        "id": "RuOtvxY0SSTc",
        "outputId": "d7ed1cc8-53d0-492d-bf5d-db2af7e11c62"
      },
      "execution_count": null,
      "outputs": [
        {
          "output_type": "execute_result",
          "data": {
            "text/plain": [
              "   subject_id  hadm_id  icustay_id gender ethnicity  age insurance  \\\n",
              "0           3   145834      211552      M     WHITE   76  Medicare   \n",
              "1           3   145834      211552      M     WHITE   76  Medicare   \n",
              "2           3   145834      211552      M     WHITE   76  Medicare   \n",
              "3           3   145834      211552      M     WHITE   76  Medicare   \n",
              "4           3   145834      211552      M     WHITE   76  Medicare   \n",
              "\n",
              "   fullcode_first  dnr_first  fullcode  ...  weight_mean  weight_std  \\\n",
              "0             1.0        0.0       1.0  ...          NaN         NaN   \n",
              "1             1.0        0.0       1.0  ...          NaN         NaN   \n",
              "2             1.0        0.0       1.0  ...          NaN         NaN   \n",
              "3             1.0        0.0       1.0  ...          NaN         NaN   \n",
              "4             1.0        0.0       1.0  ...          NaN         NaN   \n",
              "\n",
              "   white blood cell count_mean  white blood cell count_std  \\\n",
              "0                    14.842857                    4.012837   \n",
              "1                          NaN                         NaN   \n",
              "2                          NaN                         NaN   \n",
              "3                          NaN                         NaN   \n",
              "4                          NaN                         NaN   \n",
              "\n",
              "   white blood cell count urine_mean white blood cell count urine_std ph_mean  \\\n",
              "0                                NaN                              NaN    7.40   \n",
              "1                                NaN                              NaN     NaN   \n",
              "2                                NaN                              NaN    7.26   \n",
              "3                                NaN                              NaN     NaN   \n",
              "4                                NaN                              NaN     NaN   \n",
              "\n",
              "     ph_std  ph urine_mean  ph urine_std  \n",
              "0  0.147733            5.0           NaN  \n",
              "1       NaN            NaN           NaN  \n",
              "2  0.000000            NaN           NaN  \n",
              "3       NaN            NaN           NaN  \n",
              "4       NaN            NaN           NaN  \n",
              "\n",
              "[5 rows x 230 columns]"
            ],
            "text/html": [
              "\n",
              "  <div id=\"df-a5dfb2a4-4d7f-4aed-90e8-6d178ec2b4a0\">\n",
              "    <div class=\"colab-df-container\">\n",
              "      <div>\n",
              "<style scoped>\n",
              "    .dataframe tbody tr th:only-of-type {\n",
              "        vertical-align: middle;\n",
              "    }\n",
              "\n",
              "    .dataframe tbody tr th {\n",
              "        vertical-align: top;\n",
              "    }\n",
              "\n",
              "    .dataframe thead th {\n",
              "        text-align: right;\n",
              "    }\n",
              "</style>\n",
              "<table border=\"1\" class=\"dataframe\">\n",
              "  <thead>\n",
              "    <tr style=\"text-align: right;\">\n",
              "      <th></th>\n",
              "      <th>subject_id</th>\n",
              "      <th>hadm_id</th>\n",
              "      <th>icustay_id</th>\n",
              "      <th>gender</th>\n",
              "      <th>ethnicity</th>\n",
              "      <th>age</th>\n",
              "      <th>insurance</th>\n",
              "      <th>fullcode_first</th>\n",
              "      <th>dnr_first</th>\n",
              "      <th>fullcode</th>\n",
              "      <th>...</th>\n",
              "      <th>weight_mean</th>\n",
              "      <th>weight_std</th>\n",
              "      <th>white blood cell count_mean</th>\n",
              "      <th>white blood cell count_std</th>\n",
              "      <th>white blood cell count urine_mean</th>\n",
              "      <th>white blood cell count urine_std</th>\n",
              "      <th>ph_mean</th>\n",
              "      <th>ph_std</th>\n",
              "      <th>ph urine_mean</th>\n",
              "      <th>ph urine_std</th>\n",
              "    </tr>\n",
              "  </thead>\n",
              "  <tbody>\n",
              "    <tr>\n",
              "      <th>0</th>\n",
              "      <td>3</td>\n",
              "      <td>145834</td>\n",
              "      <td>211552</td>\n",
              "      <td>M</td>\n",
              "      <td>WHITE</td>\n",
              "      <td>76</td>\n",
              "      <td>Medicare</td>\n",
              "      <td>1.0</td>\n",
              "      <td>0.0</td>\n",
              "      <td>1.0</td>\n",
              "      <td>...</td>\n",
              "      <td>NaN</td>\n",
              "      <td>NaN</td>\n",
              "      <td>14.842857</td>\n",
              "      <td>4.012837</td>\n",
              "      <td>NaN</td>\n",
              "      <td>NaN</td>\n",
              "      <td>7.40</td>\n",
              "      <td>0.147733</td>\n",
              "      <td>5.0</td>\n",
              "      <td>NaN</td>\n",
              "    </tr>\n",
              "    <tr>\n",
              "      <th>1</th>\n",
              "      <td>3</td>\n",
              "      <td>145834</td>\n",
              "      <td>211552</td>\n",
              "      <td>M</td>\n",
              "      <td>WHITE</td>\n",
              "      <td>76</td>\n",
              "      <td>Medicare</td>\n",
              "      <td>1.0</td>\n",
              "      <td>0.0</td>\n",
              "      <td>1.0</td>\n",
              "      <td>...</td>\n",
              "      <td>NaN</td>\n",
              "      <td>NaN</td>\n",
              "      <td>NaN</td>\n",
              "      <td>NaN</td>\n",
              "      <td>NaN</td>\n",
              "      <td>NaN</td>\n",
              "      <td>NaN</td>\n",
              "      <td>NaN</td>\n",
              "      <td>NaN</td>\n",
              "      <td>NaN</td>\n",
              "    </tr>\n",
              "    <tr>\n",
              "      <th>2</th>\n",
              "      <td>3</td>\n",
              "      <td>145834</td>\n",
              "      <td>211552</td>\n",
              "      <td>M</td>\n",
              "      <td>WHITE</td>\n",
              "      <td>76</td>\n",
              "      <td>Medicare</td>\n",
              "      <td>1.0</td>\n",
              "      <td>0.0</td>\n",
              "      <td>1.0</td>\n",
              "      <td>...</td>\n",
              "      <td>NaN</td>\n",
              "      <td>NaN</td>\n",
              "      <td>NaN</td>\n",
              "      <td>NaN</td>\n",
              "      <td>NaN</td>\n",
              "      <td>NaN</td>\n",
              "      <td>7.26</td>\n",
              "      <td>0.000000</td>\n",
              "      <td>NaN</td>\n",
              "      <td>NaN</td>\n",
              "    </tr>\n",
              "    <tr>\n",
              "      <th>3</th>\n",
              "      <td>3</td>\n",
              "      <td>145834</td>\n",
              "      <td>211552</td>\n",
              "      <td>M</td>\n",
              "      <td>WHITE</td>\n",
              "      <td>76</td>\n",
              "      <td>Medicare</td>\n",
              "      <td>1.0</td>\n",
              "      <td>0.0</td>\n",
              "      <td>1.0</td>\n",
              "      <td>...</td>\n",
              "      <td>NaN</td>\n",
              "      <td>NaN</td>\n",
              "      <td>NaN</td>\n",
              "      <td>NaN</td>\n",
              "      <td>NaN</td>\n",
              "      <td>NaN</td>\n",
              "      <td>NaN</td>\n",
              "      <td>NaN</td>\n",
              "      <td>NaN</td>\n",
              "      <td>NaN</td>\n",
              "    </tr>\n",
              "    <tr>\n",
              "      <th>4</th>\n",
              "      <td>3</td>\n",
              "      <td>145834</td>\n",
              "      <td>211552</td>\n",
              "      <td>M</td>\n",
              "      <td>WHITE</td>\n",
              "      <td>76</td>\n",
              "      <td>Medicare</td>\n",
              "      <td>1.0</td>\n",
              "      <td>0.0</td>\n",
              "      <td>1.0</td>\n",
              "      <td>...</td>\n",
              "      <td>NaN</td>\n",
              "      <td>NaN</td>\n",
              "      <td>NaN</td>\n",
              "      <td>NaN</td>\n",
              "      <td>NaN</td>\n",
              "      <td>NaN</td>\n",
              "      <td>NaN</td>\n",
              "      <td>NaN</td>\n",
              "      <td>NaN</td>\n",
              "      <td>NaN</td>\n",
              "    </tr>\n",
              "  </tbody>\n",
              "</table>\n",
              "<p>5 rows × 230 columns</p>\n",
              "</div>\n",
              "      <button class=\"colab-df-convert\" onclick=\"convertToInteractive('df-a5dfb2a4-4d7f-4aed-90e8-6d178ec2b4a0')\"\n",
              "              title=\"Convert this dataframe to an interactive table.\"\n",
              "              style=\"display:none;\">\n",
              "        \n",
              "  <svg xmlns=\"http://www.w3.org/2000/svg\" height=\"24px\"viewBox=\"0 0 24 24\"\n",
              "       width=\"24px\">\n",
              "    <path d=\"M0 0h24v24H0V0z\" fill=\"none\"/>\n",
              "    <path d=\"M18.56 5.44l.94 2.06.94-2.06 2.06-.94-2.06-.94-.94-2.06-.94 2.06-2.06.94zm-11 1L8.5 8.5l.94-2.06 2.06-.94-2.06-.94L8.5 2.5l-.94 2.06-2.06.94zm10 10l.94 2.06.94-2.06 2.06-.94-2.06-.94-.94-2.06-.94 2.06-2.06.94z\"/><path d=\"M17.41 7.96l-1.37-1.37c-.4-.4-.92-.59-1.43-.59-.52 0-1.04.2-1.43.59L10.3 9.45l-7.72 7.72c-.78.78-.78 2.05 0 2.83L4 21.41c.39.39.9.59 1.41.59.51 0 1.02-.2 1.41-.59l7.78-7.78 2.81-2.81c.8-.78.8-2.07 0-2.86zM5.41 20L4 18.59l7.72-7.72 1.47 1.35L5.41 20z\"/>\n",
              "  </svg>\n",
              "      </button>\n",
              "      \n",
              "  <style>\n",
              "    .colab-df-container {\n",
              "      display:flex;\n",
              "      flex-wrap:wrap;\n",
              "      gap: 12px;\n",
              "    }\n",
              "\n",
              "    .colab-df-convert {\n",
              "      background-color: #E8F0FE;\n",
              "      border: none;\n",
              "      border-radius: 50%;\n",
              "      cursor: pointer;\n",
              "      display: none;\n",
              "      fill: #1967D2;\n",
              "      height: 32px;\n",
              "      padding: 0 0 0 0;\n",
              "      width: 32px;\n",
              "    }\n",
              "\n",
              "    .colab-df-convert:hover {\n",
              "      background-color: #E2EBFA;\n",
              "      box-shadow: 0px 1px 2px rgba(60, 64, 67, 0.3), 0px 1px 3px 1px rgba(60, 64, 67, 0.15);\n",
              "      fill: #174EA6;\n",
              "    }\n",
              "\n",
              "    [theme=dark] .colab-df-convert {\n",
              "      background-color: #3B4455;\n",
              "      fill: #D2E3FC;\n",
              "    }\n",
              "\n",
              "    [theme=dark] .colab-df-convert:hover {\n",
              "      background-color: #434B5C;\n",
              "      box-shadow: 0px 1px 3px 1px rgba(0, 0, 0, 0.15);\n",
              "      filter: drop-shadow(0px 1px 2px rgba(0, 0, 0, 0.3));\n",
              "      fill: #FFFFFF;\n",
              "    }\n",
              "  </style>\n",
              "\n",
              "      <script>\n",
              "        const buttonEl =\n",
              "          document.querySelector('#df-a5dfb2a4-4d7f-4aed-90e8-6d178ec2b4a0 button.colab-df-convert');\n",
              "        buttonEl.style.display =\n",
              "          google.colab.kernel.accessAllowed ? 'block' : 'none';\n",
              "\n",
              "        async function convertToInteractive(key) {\n",
              "          const element = document.querySelector('#df-a5dfb2a4-4d7f-4aed-90e8-6d178ec2b4a0');\n",
              "          const dataTable =\n",
              "            await google.colab.kernel.invokeFunction('convertToInteractive',\n",
              "                                                     [key], {});\n",
              "          if (!dataTable) return;\n",
              "\n",
              "          const docLinkHtml = 'Like what you see? Visit the ' +\n",
              "            '<a target=\"_blank\" href=https://colab.research.google.com/notebooks/data_table.ipynb>data table notebook</a>'\n",
              "            + ' to learn more about interactive tables.';\n",
              "          element.innerHTML = '';\n",
              "          dataTable['output_type'] = 'display_data';\n",
              "          await google.colab.output.renderOutput(dataTable, element);\n",
              "          const docLink = document.createElement('div');\n",
              "          docLink.innerHTML = docLinkHtml;\n",
              "          element.appendChild(docLink);\n",
              "        }\n",
              "      </script>\n",
              "    </div>\n",
              "  </div>\n",
              "  "
            ]
          },
          "metadata": {},
          "execution_count": 5
        }
      ]
    },
    {
      "cell_type": "code",
      "source": [
        "df.shape"
      ],
      "metadata": {
        "colab": {
          "base_uri": "https://localhost:8080/"
        },
        "id": "fTXMCwTVKail",
        "outputId": "a18f4ce0-e305-446f-ed39-15272a0243a8"
      },
      "execution_count": null,
      "outputs": [
        {
          "output_type": "execute_result",
          "data": {
            "text/plain": [
              "(665138, 230)"
            ]
          },
          "metadata": {},
          "execution_count": 6
        }
      ]
    },
    {
      "cell_type": "code",
      "source": [
        "nnz_df = np.count_nonzero(df['mort_icu']) # class 1 population\n",
        "nz_df = len(df['mort_icu']) - nnz_df # class 0 population\n",
        "class_0_ratio = 100* (nz_df/ len(df['mort_icu']))\n",
        "class_1_ratio = 100* (nnz_df / len(df['mort_icu']))\n",
        "print('%0.2f percent of  data belong to the negative class' % class_0_ratio)\n",
        "print('%0.2f percent of  data belong to the positive class' % class_1_ratio)\n",
        "\n",
        "# Find out imbalance ratio\n",
        "imbalance_ratio = nz_df / nnz_df\n",
        "print('imbalance ratio: %0.2f' % (imbalance_ratio))"
      ],
      "metadata": {
        "colab": {
          "base_uri": "https://localhost:8080/"
        },
        "id": "Y3eVuYPJxr8U",
        "outputId": "92e40079-d127-4495-de98-1a1d98bc90c3"
      },
      "execution_count": null,
      "outputs": [
        {
          "output_type": "stream",
          "name": "stdout",
          "text": [
            "93.12 percent of  data belong to the negative class\n",
            "6.88 percent of  data belong to the positive class\n",
            "imbalance ratio: 13.53\n"
          ]
        }
      ]
    },
    {
      "cell_type": "markdown",
      "source": [
        "##Check the missing values"
      ],
      "metadata": {
        "id": "_4ggYcxvSZPF"
      }
    },
    {
      "cell_type": "code",
      "source": [
        "def missing(df):\n",
        "        # Total missing values\n",
        "        val = df.isnull().sum()\n",
        "        \n",
        "        # Percentage of missing values\n",
        "        percent = 100 * df.isnull().sum() / len(df)\n",
        "        \n",
        "        # Make a table with the results\n",
        "        table = pd.concat([val, percent], axis=1)\n",
        "        \n",
        "        # Rename the columns\n",
        "        table_ren_columns = table.rename(columns = {0 : 'Missing Values', 1 : '% of Total Values'})\n",
        "        \n",
        "        # Sort the table by percentage of missing descending\n",
        "        table_ren_columns = table_ren_columns[table_ren_columns.iloc[:,1] != 0].sort_values('% of Total Values', ascending=False).round(1)\n",
        "        # Return the dataframe with missing information\n",
        "        return table_ren_columns"
      ],
      "metadata": {
        "id": "jUxVFlQBSUON"
      },
      "execution_count": null,
      "outputs": []
    },
    {
      "cell_type": "code",
      "source": [
        "missing(df)"
      ],
      "metadata": {
        "colab": {
          "base_uri": "https://localhost:8080/",
          "height": 419
        },
        "id": "pH2rDGNXS2pL",
        "outputId": "f40b07a9-8dd6-46c5-b7e2-2157fd5260d8"
      },
      "execution_count": null,
      "outputs": [
        {
          "output_type": "execute_result",
          "data": {
            "text/plain": [
              "                                   Missing Values  % of Total Values\n",
              "lymphocytes pleural_std                    665138              100.0\n",
              "lactate dehydrogenase pleural_std          665138              100.0\n",
              "lymphocytes percent_std                    665138              100.0\n",
              "albumin pleural_std                        665138              100.0\n",
              "albumin ascites_std                        665138              100.0\n",
              "...                                           ...                ...\n",
              "mean blood pressure_mean                    79367               11.9\n",
              "diastolic blood pressure_mean               77214               11.6\n",
              "systolic blood pressure_mean                77078               11.6\n",
              "respiratory rate_mean                       72696               10.9\n",
              "heart rate_mean                             64079                9.6\n",
              "\n",
              "[215 rows x 2 columns]"
            ],
            "text/html": [
              "\n",
              "  <div id=\"df-b86408be-f118-4f93-9d9a-2a05b3211f45\">\n",
              "    <div class=\"colab-df-container\">\n",
              "      <div>\n",
              "<style scoped>\n",
              "    .dataframe tbody tr th:only-of-type {\n",
              "        vertical-align: middle;\n",
              "    }\n",
              "\n",
              "    .dataframe tbody tr th {\n",
              "        vertical-align: top;\n",
              "    }\n",
              "\n",
              "    .dataframe thead th {\n",
              "        text-align: right;\n",
              "    }\n",
              "</style>\n",
              "<table border=\"1\" class=\"dataframe\">\n",
              "  <thead>\n",
              "    <tr style=\"text-align: right;\">\n",
              "      <th></th>\n",
              "      <th>Missing Values</th>\n",
              "      <th>% of Total Values</th>\n",
              "    </tr>\n",
              "  </thead>\n",
              "  <tbody>\n",
              "    <tr>\n",
              "      <th>lymphocytes pleural_std</th>\n",
              "      <td>665138</td>\n",
              "      <td>100.0</td>\n",
              "    </tr>\n",
              "    <tr>\n",
              "      <th>lactate dehydrogenase pleural_std</th>\n",
              "      <td>665138</td>\n",
              "      <td>100.0</td>\n",
              "    </tr>\n",
              "    <tr>\n",
              "      <th>lymphocytes percent_std</th>\n",
              "      <td>665138</td>\n",
              "      <td>100.0</td>\n",
              "    </tr>\n",
              "    <tr>\n",
              "      <th>albumin pleural_std</th>\n",
              "      <td>665138</td>\n",
              "      <td>100.0</td>\n",
              "    </tr>\n",
              "    <tr>\n",
              "      <th>albumin ascites_std</th>\n",
              "      <td>665138</td>\n",
              "      <td>100.0</td>\n",
              "    </tr>\n",
              "    <tr>\n",
              "      <th>...</th>\n",
              "      <td>...</td>\n",
              "      <td>...</td>\n",
              "    </tr>\n",
              "    <tr>\n",
              "      <th>mean blood pressure_mean</th>\n",
              "      <td>79367</td>\n",
              "      <td>11.9</td>\n",
              "    </tr>\n",
              "    <tr>\n",
              "      <th>diastolic blood pressure_mean</th>\n",
              "      <td>77214</td>\n",
              "      <td>11.6</td>\n",
              "    </tr>\n",
              "    <tr>\n",
              "      <th>systolic blood pressure_mean</th>\n",
              "      <td>77078</td>\n",
              "      <td>11.6</td>\n",
              "    </tr>\n",
              "    <tr>\n",
              "      <th>respiratory rate_mean</th>\n",
              "      <td>72696</td>\n",
              "      <td>10.9</td>\n",
              "    </tr>\n",
              "    <tr>\n",
              "      <th>heart rate_mean</th>\n",
              "      <td>64079</td>\n",
              "      <td>9.6</td>\n",
              "    </tr>\n",
              "  </tbody>\n",
              "</table>\n",
              "<p>215 rows × 2 columns</p>\n",
              "</div>\n",
              "      <button class=\"colab-df-convert\" onclick=\"convertToInteractive('df-b86408be-f118-4f93-9d9a-2a05b3211f45')\"\n",
              "              title=\"Convert this dataframe to an interactive table.\"\n",
              "              style=\"display:none;\">\n",
              "        \n",
              "  <svg xmlns=\"http://www.w3.org/2000/svg\" height=\"24px\"viewBox=\"0 0 24 24\"\n",
              "       width=\"24px\">\n",
              "    <path d=\"M0 0h24v24H0V0z\" fill=\"none\"/>\n",
              "    <path d=\"M18.56 5.44l.94 2.06.94-2.06 2.06-.94-2.06-.94-.94-2.06-.94 2.06-2.06.94zm-11 1L8.5 8.5l.94-2.06 2.06-.94-2.06-.94L8.5 2.5l-.94 2.06-2.06.94zm10 10l.94 2.06.94-2.06 2.06-.94-2.06-.94-.94-2.06-.94 2.06-2.06.94z\"/><path d=\"M17.41 7.96l-1.37-1.37c-.4-.4-.92-.59-1.43-.59-.52 0-1.04.2-1.43.59L10.3 9.45l-7.72 7.72c-.78.78-.78 2.05 0 2.83L4 21.41c.39.39.9.59 1.41.59.51 0 1.02-.2 1.41-.59l7.78-7.78 2.81-2.81c.8-.78.8-2.07 0-2.86zM5.41 20L4 18.59l7.72-7.72 1.47 1.35L5.41 20z\"/>\n",
              "  </svg>\n",
              "      </button>\n",
              "      \n",
              "  <style>\n",
              "    .colab-df-container {\n",
              "      display:flex;\n",
              "      flex-wrap:wrap;\n",
              "      gap: 12px;\n",
              "    }\n",
              "\n",
              "    .colab-df-convert {\n",
              "      background-color: #E8F0FE;\n",
              "      border: none;\n",
              "      border-radius: 50%;\n",
              "      cursor: pointer;\n",
              "      display: none;\n",
              "      fill: #1967D2;\n",
              "      height: 32px;\n",
              "      padding: 0 0 0 0;\n",
              "      width: 32px;\n",
              "    }\n",
              "\n",
              "    .colab-df-convert:hover {\n",
              "      background-color: #E2EBFA;\n",
              "      box-shadow: 0px 1px 2px rgba(60, 64, 67, 0.3), 0px 1px 3px 1px rgba(60, 64, 67, 0.15);\n",
              "      fill: #174EA6;\n",
              "    }\n",
              "\n",
              "    [theme=dark] .colab-df-convert {\n",
              "      background-color: #3B4455;\n",
              "      fill: #D2E3FC;\n",
              "    }\n",
              "\n",
              "    [theme=dark] .colab-df-convert:hover {\n",
              "      background-color: #434B5C;\n",
              "      box-shadow: 0px 1px 3px 1px rgba(0, 0, 0, 0.15);\n",
              "      filter: drop-shadow(0px 1px 2px rgba(0, 0, 0, 0.3));\n",
              "      fill: #FFFFFF;\n",
              "    }\n",
              "  </style>\n",
              "\n",
              "      <script>\n",
              "        const buttonEl =\n",
              "          document.querySelector('#df-b86408be-f118-4f93-9d9a-2a05b3211f45 button.colab-df-convert');\n",
              "        buttonEl.style.display =\n",
              "          google.colab.kernel.accessAllowed ? 'block' : 'none';\n",
              "\n",
              "        async function convertToInteractive(key) {\n",
              "          const element = document.querySelector('#df-b86408be-f118-4f93-9d9a-2a05b3211f45');\n",
              "          const dataTable =\n",
              "            await google.colab.kernel.invokeFunction('convertToInteractive',\n",
              "                                                     [key], {});\n",
              "          if (!dataTable) return;\n",
              "\n",
              "          const docLinkHtml = 'Like what you see? Visit the ' +\n",
              "            '<a target=\"_blank\" href=https://colab.research.google.com/notebooks/data_table.ipynb>data table notebook</a>'\n",
              "            + ' to learn more about interactive tables.';\n",
              "          element.innerHTML = '';\n",
              "          dataTable['output_type'] = 'display_data';\n",
              "          await google.colab.output.renderOutput(dataTable, element);\n",
              "          const docLink = document.createElement('div');\n",
              "          docLink.innerHTML = docLinkHtml;\n",
              "          element.appendChild(docLink);\n",
              "        }\n",
              "      </script>\n",
              "    </div>\n",
              "  </div>\n",
              "  "
            ]
          },
          "metadata": {},
          "execution_count": 6
        }
      ]
    },
    {
      "cell_type": "markdown",
      "source": [
        "Remove the columns that have greater than 70% missing values"
      ],
      "metadata": {
        "id": "jZG04DUYS7Vl"
      }
    },
    {
      "cell_type": "code",
      "source": [
        "df = df.drop(df.loc[:,list((100*(df.isnull().sum()/len(df))>=70))].columns, 1)\n",
        "print(\"The shape is\",df.shape)"
      ],
      "metadata": {
        "colab": {
          "base_uri": "https://localhost:8080/"
        },
        "id": "6VxVjgalS6oZ",
        "outputId": "402e8e62-925c-4681-91fe-bc3b4214e202"
      },
      "execution_count": null,
      "outputs": [
        {
          "output_type": "stream",
          "name": "stdout",
          "text": [
            "The shape is (665138, 30)\n"
          ]
        }
      ]
    },
    {
      "cell_type": "code",
      "source": [
        "missing(df)"
      ],
      "metadata": {
        "colab": {
          "base_uri": "https://localhost:8080/",
          "height": 514
        },
        "id": "3s5Tr3sa2TgN",
        "outputId": "a6c36df9-88c2-47e6-ea14-f517cb6d75a3"
      },
      "execution_count": null,
      "outputs": [
        {
          "output_type": "execute_result",
          "data": {
            "text/plain": [
              "                               Missing Values  % of Total Values\n",
              "glucose_mean                           458581               68.9\n",
              "temperature_mean                       433947               65.2\n",
              "fullcode_first                         121075               18.2\n",
              "dnr_first                              121075               18.2\n",
              "fullcode                               121075               18.2\n",
              "dnr                                    121075               18.2\n",
              "cmo_first                              121075               18.2\n",
              "cmo_last                               121075               18.2\n",
              "cmo                                    121075               18.2\n",
              "oxygen saturation_mean                  83247               12.5\n",
              "mean blood pressure_mean                79367               11.9\n",
              "diastolic blood pressure_mean           77214               11.6\n",
              "systolic blood pressure_mean            77078               11.6\n",
              "respiratory rate_mean                   72696               10.9\n",
              "heart rate_mean                         64079                9.6"
            ],
            "text/html": [
              "\n",
              "  <div id=\"df-3fe0198f-eb15-4de0-b63e-5a94b4d1384d\">\n",
              "    <div class=\"colab-df-container\">\n",
              "      <div>\n",
              "<style scoped>\n",
              "    .dataframe tbody tr th:only-of-type {\n",
              "        vertical-align: middle;\n",
              "    }\n",
              "\n",
              "    .dataframe tbody tr th {\n",
              "        vertical-align: top;\n",
              "    }\n",
              "\n",
              "    .dataframe thead th {\n",
              "        text-align: right;\n",
              "    }\n",
              "</style>\n",
              "<table border=\"1\" class=\"dataframe\">\n",
              "  <thead>\n",
              "    <tr style=\"text-align: right;\">\n",
              "      <th></th>\n",
              "      <th>Missing Values</th>\n",
              "      <th>% of Total Values</th>\n",
              "    </tr>\n",
              "  </thead>\n",
              "  <tbody>\n",
              "    <tr>\n",
              "      <th>glucose_mean</th>\n",
              "      <td>458581</td>\n",
              "      <td>68.9</td>\n",
              "    </tr>\n",
              "    <tr>\n",
              "      <th>temperature_mean</th>\n",
              "      <td>433947</td>\n",
              "      <td>65.2</td>\n",
              "    </tr>\n",
              "    <tr>\n",
              "      <th>fullcode_first</th>\n",
              "      <td>121075</td>\n",
              "      <td>18.2</td>\n",
              "    </tr>\n",
              "    <tr>\n",
              "      <th>dnr_first</th>\n",
              "      <td>121075</td>\n",
              "      <td>18.2</td>\n",
              "    </tr>\n",
              "    <tr>\n",
              "      <th>fullcode</th>\n",
              "      <td>121075</td>\n",
              "      <td>18.2</td>\n",
              "    </tr>\n",
              "    <tr>\n",
              "      <th>dnr</th>\n",
              "      <td>121075</td>\n",
              "      <td>18.2</td>\n",
              "    </tr>\n",
              "    <tr>\n",
              "      <th>cmo_first</th>\n",
              "      <td>121075</td>\n",
              "      <td>18.2</td>\n",
              "    </tr>\n",
              "    <tr>\n",
              "      <th>cmo_last</th>\n",
              "      <td>121075</td>\n",
              "      <td>18.2</td>\n",
              "    </tr>\n",
              "    <tr>\n",
              "      <th>cmo</th>\n",
              "      <td>121075</td>\n",
              "      <td>18.2</td>\n",
              "    </tr>\n",
              "    <tr>\n",
              "      <th>oxygen saturation_mean</th>\n",
              "      <td>83247</td>\n",
              "      <td>12.5</td>\n",
              "    </tr>\n",
              "    <tr>\n",
              "      <th>mean blood pressure_mean</th>\n",
              "      <td>79367</td>\n",
              "      <td>11.9</td>\n",
              "    </tr>\n",
              "    <tr>\n",
              "      <th>diastolic blood pressure_mean</th>\n",
              "      <td>77214</td>\n",
              "      <td>11.6</td>\n",
              "    </tr>\n",
              "    <tr>\n",
              "      <th>systolic blood pressure_mean</th>\n",
              "      <td>77078</td>\n",
              "      <td>11.6</td>\n",
              "    </tr>\n",
              "    <tr>\n",
              "      <th>respiratory rate_mean</th>\n",
              "      <td>72696</td>\n",
              "      <td>10.9</td>\n",
              "    </tr>\n",
              "    <tr>\n",
              "      <th>heart rate_mean</th>\n",
              "      <td>64079</td>\n",
              "      <td>9.6</td>\n",
              "    </tr>\n",
              "  </tbody>\n",
              "</table>\n",
              "</div>\n",
              "      <button class=\"colab-df-convert\" onclick=\"convertToInteractive('df-3fe0198f-eb15-4de0-b63e-5a94b4d1384d')\"\n",
              "              title=\"Convert this dataframe to an interactive table.\"\n",
              "              style=\"display:none;\">\n",
              "        \n",
              "  <svg xmlns=\"http://www.w3.org/2000/svg\" height=\"24px\"viewBox=\"0 0 24 24\"\n",
              "       width=\"24px\">\n",
              "    <path d=\"M0 0h24v24H0V0z\" fill=\"none\"/>\n",
              "    <path d=\"M18.56 5.44l.94 2.06.94-2.06 2.06-.94-2.06-.94-.94-2.06-.94 2.06-2.06.94zm-11 1L8.5 8.5l.94-2.06 2.06-.94-2.06-.94L8.5 2.5l-.94 2.06-2.06.94zm10 10l.94 2.06.94-2.06 2.06-.94-2.06-.94-.94-2.06-.94 2.06-2.06.94z\"/><path d=\"M17.41 7.96l-1.37-1.37c-.4-.4-.92-.59-1.43-.59-.52 0-1.04.2-1.43.59L10.3 9.45l-7.72 7.72c-.78.78-.78 2.05 0 2.83L4 21.41c.39.39.9.59 1.41.59.51 0 1.02-.2 1.41-.59l7.78-7.78 2.81-2.81c.8-.78.8-2.07 0-2.86zM5.41 20L4 18.59l7.72-7.72 1.47 1.35L5.41 20z\"/>\n",
              "  </svg>\n",
              "      </button>\n",
              "      \n",
              "  <style>\n",
              "    .colab-df-container {\n",
              "      display:flex;\n",
              "      flex-wrap:wrap;\n",
              "      gap: 12px;\n",
              "    }\n",
              "\n",
              "    .colab-df-convert {\n",
              "      background-color: #E8F0FE;\n",
              "      border: none;\n",
              "      border-radius: 50%;\n",
              "      cursor: pointer;\n",
              "      display: none;\n",
              "      fill: #1967D2;\n",
              "      height: 32px;\n",
              "      padding: 0 0 0 0;\n",
              "      width: 32px;\n",
              "    }\n",
              "\n",
              "    .colab-df-convert:hover {\n",
              "      background-color: #E2EBFA;\n",
              "      box-shadow: 0px 1px 2px rgba(60, 64, 67, 0.3), 0px 1px 3px 1px rgba(60, 64, 67, 0.15);\n",
              "      fill: #174EA6;\n",
              "    }\n",
              "\n",
              "    [theme=dark] .colab-df-convert {\n",
              "      background-color: #3B4455;\n",
              "      fill: #D2E3FC;\n",
              "    }\n",
              "\n",
              "    [theme=dark] .colab-df-convert:hover {\n",
              "      background-color: #434B5C;\n",
              "      box-shadow: 0px 1px 3px 1px rgba(0, 0, 0, 0.15);\n",
              "      filter: drop-shadow(0px 1px 2px rgba(0, 0, 0, 0.3));\n",
              "      fill: #FFFFFF;\n",
              "    }\n",
              "  </style>\n",
              "\n",
              "      <script>\n",
              "        const buttonEl =\n",
              "          document.querySelector('#df-3fe0198f-eb15-4de0-b63e-5a94b4d1384d button.colab-df-convert');\n",
              "        buttonEl.style.display =\n",
              "          google.colab.kernel.accessAllowed ? 'block' : 'none';\n",
              "\n",
              "        async function convertToInteractive(key) {\n",
              "          const element = document.querySelector('#df-3fe0198f-eb15-4de0-b63e-5a94b4d1384d');\n",
              "          const dataTable =\n",
              "            await google.colab.kernel.invokeFunction('convertToInteractive',\n",
              "                                                     [key], {});\n",
              "          if (!dataTable) return;\n",
              "\n",
              "          const docLinkHtml = 'Like what you see? Visit the ' +\n",
              "            '<a target=\"_blank\" href=https://colab.research.google.com/notebooks/data_table.ipynb>data table notebook</a>'\n",
              "            + ' to learn more about interactive tables.';\n",
              "          element.innerHTML = '';\n",
              "          dataTable['output_type'] = 'display_data';\n",
              "          await google.colab.output.renderOutput(dataTable, element);\n",
              "          const docLink = document.createElement('div');\n",
              "          docLink.innerHTML = docLinkHtml;\n",
              "          element.appendChild(docLink);\n",
              "        }\n",
              "      </script>\n",
              "    </div>\n",
              "  </div>\n",
              "  "
            ]
          },
          "metadata": {},
          "execution_count": 11
        }
      ]
    },
    {
      "cell_type": "code",
      "source": [
        "df.head()"
      ],
      "metadata": {
        "colab": {
          "base_uri": "https://localhost:8080/",
          "height": 331
        },
        "id": "55NN_cyAS-PM",
        "outputId": "af2f2d45-bc1d-4772-8440-e73e4ef2deab"
      },
      "execution_count": null,
      "outputs": [
        {
          "output_type": "execute_result",
          "data": {
            "text/plain": [
              "   subject_id  hadm_id  icustay_id gender ethnicity  age insurance  \\\n",
              "0           3   145834      211552      M     WHITE   76  Medicare   \n",
              "1           3   145834      211552      M     WHITE   76  Medicare   \n",
              "2           3   145834      211552      M     WHITE   76  Medicare   \n",
              "3           3   145834      211552      M     WHITE   76  Medicare   \n",
              "4           3   145834      211552      M     WHITE   76  Medicare   \n",
              "\n",
              "   fullcode_first  dnr_first  fullcode  ...  max_hours  hours_in  \\\n",
              "0             1.0        0.0       1.0  ...        145         0   \n",
              "1             1.0        0.0       1.0  ...        145         1   \n",
              "2             1.0        0.0       1.0  ...        145         2   \n",
              "3             1.0        0.0       1.0  ...        145         3   \n",
              "4             1.0        0.0       1.0  ...        145         4   \n",
              "\n",
              "   diastolic blood pressure_mean  glucose_mean  heart rate_mean  \\\n",
              "0                      39.666667    198.555556           143.00   \n",
              "1                      44.125000           NaN           153.75   \n",
              "2                      47.333333    267.000000           137.75   \n",
              "3                      64.500000           NaN           129.25   \n",
              "4                      63.000000           NaN           146.00   \n",
              "\n",
              "  mean blood pressure_mean oxygen saturation_mean  respiratory rate_mean  \\\n",
              "0               101.555567                  74.00              16.000000   \n",
              "1                57.333337                    NaN              15.500000   \n",
              "2                63.222217                  98.50               7.000000   \n",
              "3                84.750000                  99.75               5.250000   \n",
              "4                77.000000                  98.00              13.666667   \n",
              "\n",
              "   systolic blood pressure_mean  temperature_mean  \n",
              "0                     95.166667               NaN  \n",
              "1                     81.000000               NaN  \n",
              "2                     90.666667               NaN  \n",
              "3                    117.000000               NaN  \n",
              "4                    102.000000               NaN  \n",
              "\n",
              "[5 rows x 30 columns]"
            ],
            "text/html": [
              "\n",
              "  <div id=\"df-9dc95719-233c-47bd-bb9e-fc79ea4df97b\">\n",
              "    <div class=\"colab-df-container\">\n",
              "      <div>\n",
              "<style scoped>\n",
              "    .dataframe tbody tr th:only-of-type {\n",
              "        vertical-align: middle;\n",
              "    }\n",
              "\n",
              "    .dataframe tbody tr th {\n",
              "        vertical-align: top;\n",
              "    }\n",
              "\n",
              "    .dataframe thead th {\n",
              "        text-align: right;\n",
              "    }\n",
              "</style>\n",
              "<table border=\"1\" class=\"dataframe\">\n",
              "  <thead>\n",
              "    <tr style=\"text-align: right;\">\n",
              "      <th></th>\n",
              "      <th>subject_id</th>\n",
              "      <th>hadm_id</th>\n",
              "      <th>icustay_id</th>\n",
              "      <th>gender</th>\n",
              "      <th>ethnicity</th>\n",
              "      <th>age</th>\n",
              "      <th>insurance</th>\n",
              "      <th>fullcode_first</th>\n",
              "      <th>dnr_first</th>\n",
              "      <th>fullcode</th>\n",
              "      <th>...</th>\n",
              "      <th>max_hours</th>\n",
              "      <th>hours_in</th>\n",
              "      <th>diastolic blood pressure_mean</th>\n",
              "      <th>glucose_mean</th>\n",
              "      <th>heart rate_mean</th>\n",
              "      <th>mean blood pressure_mean</th>\n",
              "      <th>oxygen saturation_mean</th>\n",
              "      <th>respiratory rate_mean</th>\n",
              "      <th>systolic blood pressure_mean</th>\n",
              "      <th>temperature_mean</th>\n",
              "    </tr>\n",
              "  </thead>\n",
              "  <tbody>\n",
              "    <tr>\n",
              "      <th>0</th>\n",
              "      <td>3</td>\n",
              "      <td>145834</td>\n",
              "      <td>211552</td>\n",
              "      <td>M</td>\n",
              "      <td>WHITE</td>\n",
              "      <td>76</td>\n",
              "      <td>Medicare</td>\n",
              "      <td>1.0</td>\n",
              "      <td>0.0</td>\n",
              "      <td>1.0</td>\n",
              "      <td>...</td>\n",
              "      <td>145</td>\n",
              "      <td>0</td>\n",
              "      <td>39.666667</td>\n",
              "      <td>198.555556</td>\n",
              "      <td>143.00</td>\n",
              "      <td>101.555567</td>\n",
              "      <td>74.00</td>\n",
              "      <td>16.000000</td>\n",
              "      <td>95.166667</td>\n",
              "      <td>NaN</td>\n",
              "    </tr>\n",
              "    <tr>\n",
              "      <th>1</th>\n",
              "      <td>3</td>\n",
              "      <td>145834</td>\n",
              "      <td>211552</td>\n",
              "      <td>M</td>\n",
              "      <td>WHITE</td>\n",
              "      <td>76</td>\n",
              "      <td>Medicare</td>\n",
              "      <td>1.0</td>\n",
              "      <td>0.0</td>\n",
              "      <td>1.0</td>\n",
              "      <td>...</td>\n",
              "      <td>145</td>\n",
              "      <td>1</td>\n",
              "      <td>44.125000</td>\n",
              "      <td>NaN</td>\n",
              "      <td>153.75</td>\n",
              "      <td>57.333337</td>\n",
              "      <td>NaN</td>\n",
              "      <td>15.500000</td>\n",
              "      <td>81.000000</td>\n",
              "      <td>NaN</td>\n",
              "    </tr>\n",
              "    <tr>\n",
              "      <th>2</th>\n",
              "      <td>3</td>\n",
              "      <td>145834</td>\n",
              "      <td>211552</td>\n",
              "      <td>M</td>\n",
              "      <td>WHITE</td>\n",
              "      <td>76</td>\n",
              "      <td>Medicare</td>\n",
              "      <td>1.0</td>\n",
              "      <td>0.0</td>\n",
              "      <td>1.0</td>\n",
              "      <td>...</td>\n",
              "      <td>145</td>\n",
              "      <td>2</td>\n",
              "      <td>47.333333</td>\n",
              "      <td>267.000000</td>\n",
              "      <td>137.75</td>\n",
              "      <td>63.222217</td>\n",
              "      <td>98.50</td>\n",
              "      <td>7.000000</td>\n",
              "      <td>90.666667</td>\n",
              "      <td>NaN</td>\n",
              "    </tr>\n",
              "    <tr>\n",
              "      <th>3</th>\n",
              "      <td>3</td>\n",
              "      <td>145834</td>\n",
              "      <td>211552</td>\n",
              "      <td>M</td>\n",
              "      <td>WHITE</td>\n",
              "      <td>76</td>\n",
              "      <td>Medicare</td>\n",
              "      <td>1.0</td>\n",
              "      <td>0.0</td>\n",
              "      <td>1.0</td>\n",
              "      <td>...</td>\n",
              "      <td>145</td>\n",
              "      <td>3</td>\n",
              "      <td>64.500000</td>\n",
              "      <td>NaN</td>\n",
              "      <td>129.25</td>\n",
              "      <td>84.750000</td>\n",
              "      <td>99.75</td>\n",
              "      <td>5.250000</td>\n",
              "      <td>117.000000</td>\n",
              "      <td>NaN</td>\n",
              "    </tr>\n",
              "    <tr>\n",
              "      <th>4</th>\n",
              "      <td>3</td>\n",
              "      <td>145834</td>\n",
              "      <td>211552</td>\n",
              "      <td>M</td>\n",
              "      <td>WHITE</td>\n",
              "      <td>76</td>\n",
              "      <td>Medicare</td>\n",
              "      <td>1.0</td>\n",
              "      <td>0.0</td>\n",
              "      <td>1.0</td>\n",
              "      <td>...</td>\n",
              "      <td>145</td>\n",
              "      <td>4</td>\n",
              "      <td>63.000000</td>\n",
              "      <td>NaN</td>\n",
              "      <td>146.00</td>\n",
              "      <td>77.000000</td>\n",
              "      <td>98.00</td>\n",
              "      <td>13.666667</td>\n",
              "      <td>102.000000</td>\n",
              "      <td>NaN</td>\n",
              "    </tr>\n",
              "  </tbody>\n",
              "</table>\n",
              "<p>5 rows × 30 columns</p>\n",
              "</div>\n",
              "      <button class=\"colab-df-convert\" onclick=\"convertToInteractive('df-9dc95719-233c-47bd-bb9e-fc79ea4df97b')\"\n",
              "              title=\"Convert this dataframe to an interactive table.\"\n",
              "              style=\"display:none;\">\n",
              "        \n",
              "  <svg xmlns=\"http://www.w3.org/2000/svg\" height=\"24px\"viewBox=\"0 0 24 24\"\n",
              "       width=\"24px\">\n",
              "    <path d=\"M0 0h24v24H0V0z\" fill=\"none\"/>\n",
              "    <path d=\"M18.56 5.44l.94 2.06.94-2.06 2.06-.94-2.06-.94-.94-2.06-.94 2.06-2.06.94zm-11 1L8.5 8.5l.94-2.06 2.06-.94-2.06-.94L8.5 2.5l-.94 2.06-2.06.94zm10 10l.94 2.06.94-2.06 2.06-.94-2.06-.94-.94-2.06-.94 2.06-2.06.94z\"/><path d=\"M17.41 7.96l-1.37-1.37c-.4-.4-.92-.59-1.43-.59-.52 0-1.04.2-1.43.59L10.3 9.45l-7.72 7.72c-.78.78-.78 2.05 0 2.83L4 21.41c.39.39.9.59 1.41.59.51 0 1.02-.2 1.41-.59l7.78-7.78 2.81-2.81c.8-.78.8-2.07 0-2.86zM5.41 20L4 18.59l7.72-7.72 1.47 1.35L5.41 20z\"/>\n",
              "  </svg>\n",
              "      </button>\n",
              "      \n",
              "  <style>\n",
              "    .colab-df-container {\n",
              "      display:flex;\n",
              "      flex-wrap:wrap;\n",
              "      gap: 12px;\n",
              "    }\n",
              "\n",
              "    .colab-df-convert {\n",
              "      background-color: #E8F0FE;\n",
              "      border: none;\n",
              "      border-radius: 50%;\n",
              "      cursor: pointer;\n",
              "      display: none;\n",
              "      fill: #1967D2;\n",
              "      height: 32px;\n",
              "      padding: 0 0 0 0;\n",
              "      width: 32px;\n",
              "    }\n",
              "\n",
              "    .colab-df-convert:hover {\n",
              "      background-color: #E2EBFA;\n",
              "      box-shadow: 0px 1px 2px rgba(60, 64, 67, 0.3), 0px 1px 3px 1px rgba(60, 64, 67, 0.15);\n",
              "      fill: #174EA6;\n",
              "    }\n",
              "\n",
              "    [theme=dark] .colab-df-convert {\n",
              "      background-color: #3B4455;\n",
              "      fill: #D2E3FC;\n",
              "    }\n",
              "\n",
              "    [theme=dark] .colab-df-convert:hover {\n",
              "      background-color: #434B5C;\n",
              "      box-shadow: 0px 1px 3px 1px rgba(0, 0, 0, 0.15);\n",
              "      filter: drop-shadow(0px 1px 2px rgba(0, 0, 0, 0.3));\n",
              "      fill: #FFFFFF;\n",
              "    }\n",
              "  </style>\n",
              "\n",
              "      <script>\n",
              "        const buttonEl =\n",
              "          document.querySelector('#df-9dc95719-233c-47bd-bb9e-fc79ea4df97b button.colab-df-convert');\n",
              "        buttonEl.style.display =\n",
              "          google.colab.kernel.accessAllowed ? 'block' : 'none';\n",
              "\n",
              "        async function convertToInteractive(key) {\n",
              "          const element = document.querySelector('#df-9dc95719-233c-47bd-bb9e-fc79ea4df97b');\n",
              "          const dataTable =\n",
              "            await google.colab.kernel.invokeFunction('convertToInteractive',\n",
              "                                                     [key], {});\n",
              "          if (!dataTable) return;\n",
              "\n",
              "          const docLinkHtml = 'Like what you see? Visit the ' +\n",
              "            '<a target=\"_blank\" href=https://colab.research.google.com/notebooks/data_table.ipynb>data table notebook</a>'\n",
              "            + ' to learn more about interactive tables.';\n",
              "          element.innerHTML = '';\n",
              "          dataTable['output_type'] = 'display_data';\n",
              "          await google.colab.output.renderOutput(dataTable, element);\n",
              "          const docLink = document.createElement('div');\n",
              "          docLink.innerHTML = docLinkHtml;\n",
              "          element.appendChild(docLink);\n",
              "        }\n",
              "      </script>\n",
              "    </div>\n",
              "  </div>\n",
              "  "
            ]
          },
          "metadata": {},
          "execution_count": 12
        }
      ]
    },
    {
      "cell_type": "code",
      "source": [
        "df.columns"
      ],
      "metadata": {
        "colab": {
          "base_uri": "https://localhost:8080/"
        },
        "id": "U2KCz0oF3jzd",
        "outputId": "5f468e86-43e8-4859-efca-9be2877010c4"
      },
      "execution_count": null,
      "outputs": [
        {
          "output_type": "execute_result",
          "data": {
            "text/plain": [
              "Index(['subject_id', 'hadm_id', 'icustay_id', 'gender', 'ethnicity', 'age',\n",
              "       'insurance', 'fullcode_first', 'dnr_first', 'fullcode', 'dnr',\n",
              "       'cmo_first', 'cmo_last', 'cmo', 'los_icu', 'admission_type',\n",
              "       'first_careunit', 'mort_icu', 'hospstay_seq', 'readmission_30',\n",
              "       'max_hours', 'hours_in', 'diastolic blood pressure_mean',\n",
              "       'glucose_mean', 'heart rate_mean', 'mean blood pressure_mean',\n",
              "       'oxygen saturation_mean', 'respiratory rate_mean',\n",
              "       'systolic blood pressure_mean', 'temperature_mean'],\n",
              "      dtype='object')"
            ]
          },
          "metadata": {},
          "execution_count": 13
        }
      ]
    },
    {
      "cell_type": "markdown",
      "source": [
        "forward filling and backward filling"
      ],
      "metadata": {
        "id": "G28sQMG_TFPi"
      }
    },
    {
      "cell_type": "code",
      "source": [
        "df = df.ffill().bfill()"
      ],
      "metadata": {
        "id": "ykQHpH_0TAGs"
      },
      "execution_count": null,
      "outputs": []
    },
    {
      "cell_type": "code",
      "source": [
        "df.head()"
      ],
      "metadata": {
        "colab": {
          "base_uri": "https://localhost:8080/",
          "height": 331
        },
        "id": "2KqG71hMTNdm",
        "outputId": "f15fbcaf-7fc2-47f9-a5ff-e5df9780556f"
      },
      "execution_count": null,
      "outputs": [
        {
          "output_type": "execute_result",
          "data": {
            "text/plain": [
              "   subject_id  hadm_id  icustay_id gender ethnicity  age insurance  \\\n",
              "0           3   145834      211552      M     WHITE   76  Medicare   \n",
              "1           3   145834      211552      M     WHITE   76  Medicare   \n",
              "2           3   145834      211552      M     WHITE   76  Medicare   \n",
              "3           3   145834      211552      M     WHITE   76  Medicare   \n",
              "4           3   145834      211552      M     WHITE   76  Medicare   \n",
              "\n",
              "   fullcode_first  dnr_first  fullcode  ...  max_hours  hours_in  \\\n",
              "0             1.0        0.0       1.0  ...        145         0   \n",
              "1             1.0        0.0       1.0  ...        145         1   \n",
              "2             1.0        0.0       1.0  ...        145         2   \n",
              "3             1.0        0.0       1.0  ...        145         3   \n",
              "4             1.0        0.0       1.0  ...        145         4   \n",
              "\n",
              "   diastolic blood pressure_mean  glucose_mean  heart rate_mean  \\\n",
              "0                      39.666667    198.555556           143.00   \n",
              "1                      44.125000    198.555556           153.75   \n",
              "2                      47.333333    267.000000           137.75   \n",
              "3                      64.500000    267.000000           129.25   \n",
              "4                      63.000000    267.000000           146.00   \n",
              "\n",
              "  mean blood pressure_mean oxygen saturation_mean  respiratory rate_mean  \\\n",
              "0               101.555567                  74.00              16.000000   \n",
              "1                57.333337                  74.00              15.500000   \n",
              "2                63.222217                  98.50               7.000000   \n",
              "3                84.750000                  99.75               5.250000   \n",
              "4                77.000000                  98.00              13.666667   \n",
              "\n",
              "   systolic blood pressure_mean  temperature_mean  \n",
              "0                     95.166667         36.488895  \n",
              "1                     81.000000         36.488895  \n",
              "2                     90.666667         36.488895  \n",
              "3                    117.000000         36.488895  \n",
              "4                    102.000000         36.488895  \n",
              "\n",
              "[5 rows x 30 columns]"
            ],
            "text/html": [
              "\n",
              "  <div id=\"df-ce441c19-c663-48ea-8847-ddbdfd25a171\">\n",
              "    <div class=\"colab-df-container\">\n",
              "      <div>\n",
              "<style scoped>\n",
              "    .dataframe tbody tr th:only-of-type {\n",
              "        vertical-align: middle;\n",
              "    }\n",
              "\n",
              "    .dataframe tbody tr th {\n",
              "        vertical-align: top;\n",
              "    }\n",
              "\n",
              "    .dataframe thead th {\n",
              "        text-align: right;\n",
              "    }\n",
              "</style>\n",
              "<table border=\"1\" class=\"dataframe\">\n",
              "  <thead>\n",
              "    <tr style=\"text-align: right;\">\n",
              "      <th></th>\n",
              "      <th>subject_id</th>\n",
              "      <th>hadm_id</th>\n",
              "      <th>icustay_id</th>\n",
              "      <th>gender</th>\n",
              "      <th>ethnicity</th>\n",
              "      <th>age</th>\n",
              "      <th>insurance</th>\n",
              "      <th>fullcode_first</th>\n",
              "      <th>dnr_first</th>\n",
              "      <th>fullcode</th>\n",
              "      <th>...</th>\n",
              "      <th>max_hours</th>\n",
              "      <th>hours_in</th>\n",
              "      <th>diastolic blood pressure_mean</th>\n",
              "      <th>glucose_mean</th>\n",
              "      <th>heart rate_mean</th>\n",
              "      <th>mean blood pressure_mean</th>\n",
              "      <th>oxygen saturation_mean</th>\n",
              "      <th>respiratory rate_mean</th>\n",
              "      <th>systolic blood pressure_mean</th>\n",
              "      <th>temperature_mean</th>\n",
              "    </tr>\n",
              "  </thead>\n",
              "  <tbody>\n",
              "    <tr>\n",
              "      <th>0</th>\n",
              "      <td>3</td>\n",
              "      <td>145834</td>\n",
              "      <td>211552</td>\n",
              "      <td>M</td>\n",
              "      <td>WHITE</td>\n",
              "      <td>76</td>\n",
              "      <td>Medicare</td>\n",
              "      <td>1.0</td>\n",
              "      <td>0.0</td>\n",
              "      <td>1.0</td>\n",
              "      <td>...</td>\n",
              "      <td>145</td>\n",
              "      <td>0</td>\n",
              "      <td>39.666667</td>\n",
              "      <td>198.555556</td>\n",
              "      <td>143.00</td>\n",
              "      <td>101.555567</td>\n",
              "      <td>74.00</td>\n",
              "      <td>16.000000</td>\n",
              "      <td>95.166667</td>\n",
              "      <td>36.488895</td>\n",
              "    </tr>\n",
              "    <tr>\n",
              "      <th>1</th>\n",
              "      <td>3</td>\n",
              "      <td>145834</td>\n",
              "      <td>211552</td>\n",
              "      <td>M</td>\n",
              "      <td>WHITE</td>\n",
              "      <td>76</td>\n",
              "      <td>Medicare</td>\n",
              "      <td>1.0</td>\n",
              "      <td>0.0</td>\n",
              "      <td>1.0</td>\n",
              "      <td>...</td>\n",
              "      <td>145</td>\n",
              "      <td>1</td>\n",
              "      <td>44.125000</td>\n",
              "      <td>198.555556</td>\n",
              "      <td>153.75</td>\n",
              "      <td>57.333337</td>\n",
              "      <td>74.00</td>\n",
              "      <td>15.500000</td>\n",
              "      <td>81.000000</td>\n",
              "      <td>36.488895</td>\n",
              "    </tr>\n",
              "    <tr>\n",
              "      <th>2</th>\n",
              "      <td>3</td>\n",
              "      <td>145834</td>\n",
              "      <td>211552</td>\n",
              "      <td>M</td>\n",
              "      <td>WHITE</td>\n",
              "      <td>76</td>\n",
              "      <td>Medicare</td>\n",
              "      <td>1.0</td>\n",
              "      <td>0.0</td>\n",
              "      <td>1.0</td>\n",
              "      <td>...</td>\n",
              "      <td>145</td>\n",
              "      <td>2</td>\n",
              "      <td>47.333333</td>\n",
              "      <td>267.000000</td>\n",
              "      <td>137.75</td>\n",
              "      <td>63.222217</td>\n",
              "      <td>98.50</td>\n",
              "      <td>7.000000</td>\n",
              "      <td>90.666667</td>\n",
              "      <td>36.488895</td>\n",
              "    </tr>\n",
              "    <tr>\n",
              "      <th>3</th>\n",
              "      <td>3</td>\n",
              "      <td>145834</td>\n",
              "      <td>211552</td>\n",
              "      <td>M</td>\n",
              "      <td>WHITE</td>\n",
              "      <td>76</td>\n",
              "      <td>Medicare</td>\n",
              "      <td>1.0</td>\n",
              "      <td>0.0</td>\n",
              "      <td>1.0</td>\n",
              "      <td>...</td>\n",
              "      <td>145</td>\n",
              "      <td>3</td>\n",
              "      <td>64.500000</td>\n",
              "      <td>267.000000</td>\n",
              "      <td>129.25</td>\n",
              "      <td>84.750000</td>\n",
              "      <td>99.75</td>\n",
              "      <td>5.250000</td>\n",
              "      <td>117.000000</td>\n",
              "      <td>36.488895</td>\n",
              "    </tr>\n",
              "    <tr>\n",
              "      <th>4</th>\n",
              "      <td>3</td>\n",
              "      <td>145834</td>\n",
              "      <td>211552</td>\n",
              "      <td>M</td>\n",
              "      <td>WHITE</td>\n",
              "      <td>76</td>\n",
              "      <td>Medicare</td>\n",
              "      <td>1.0</td>\n",
              "      <td>0.0</td>\n",
              "      <td>1.0</td>\n",
              "      <td>...</td>\n",
              "      <td>145</td>\n",
              "      <td>4</td>\n",
              "      <td>63.000000</td>\n",
              "      <td>267.000000</td>\n",
              "      <td>146.00</td>\n",
              "      <td>77.000000</td>\n",
              "      <td>98.00</td>\n",
              "      <td>13.666667</td>\n",
              "      <td>102.000000</td>\n",
              "      <td>36.488895</td>\n",
              "    </tr>\n",
              "  </tbody>\n",
              "</table>\n",
              "<p>5 rows × 30 columns</p>\n",
              "</div>\n",
              "      <button class=\"colab-df-convert\" onclick=\"convertToInteractive('df-ce441c19-c663-48ea-8847-ddbdfd25a171')\"\n",
              "              title=\"Convert this dataframe to an interactive table.\"\n",
              "              style=\"display:none;\">\n",
              "        \n",
              "  <svg xmlns=\"http://www.w3.org/2000/svg\" height=\"24px\"viewBox=\"0 0 24 24\"\n",
              "       width=\"24px\">\n",
              "    <path d=\"M0 0h24v24H0V0z\" fill=\"none\"/>\n",
              "    <path d=\"M18.56 5.44l.94 2.06.94-2.06 2.06-.94-2.06-.94-.94-2.06-.94 2.06-2.06.94zm-11 1L8.5 8.5l.94-2.06 2.06-.94-2.06-.94L8.5 2.5l-.94 2.06-2.06.94zm10 10l.94 2.06.94-2.06 2.06-.94-2.06-.94-.94-2.06-.94 2.06-2.06.94z\"/><path d=\"M17.41 7.96l-1.37-1.37c-.4-.4-.92-.59-1.43-.59-.52 0-1.04.2-1.43.59L10.3 9.45l-7.72 7.72c-.78.78-.78 2.05 0 2.83L4 21.41c.39.39.9.59 1.41.59.51 0 1.02-.2 1.41-.59l7.78-7.78 2.81-2.81c.8-.78.8-2.07 0-2.86zM5.41 20L4 18.59l7.72-7.72 1.47 1.35L5.41 20z\"/>\n",
              "  </svg>\n",
              "      </button>\n",
              "      \n",
              "  <style>\n",
              "    .colab-df-container {\n",
              "      display:flex;\n",
              "      flex-wrap:wrap;\n",
              "      gap: 12px;\n",
              "    }\n",
              "\n",
              "    .colab-df-convert {\n",
              "      background-color: #E8F0FE;\n",
              "      border: none;\n",
              "      border-radius: 50%;\n",
              "      cursor: pointer;\n",
              "      display: none;\n",
              "      fill: #1967D2;\n",
              "      height: 32px;\n",
              "      padding: 0 0 0 0;\n",
              "      width: 32px;\n",
              "    }\n",
              "\n",
              "    .colab-df-convert:hover {\n",
              "      background-color: #E2EBFA;\n",
              "      box-shadow: 0px 1px 2px rgba(60, 64, 67, 0.3), 0px 1px 3px 1px rgba(60, 64, 67, 0.15);\n",
              "      fill: #174EA6;\n",
              "    }\n",
              "\n",
              "    [theme=dark] .colab-df-convert {\n",
              "      background-color: #3B4455;\n",
              "      fill: #D2E3FC;\n",
              "    }\n",
              "\n",
              "    [theme=dark] .colab-df-convert:hover {\n",
              "      background-color: #434B5C;\n",
              "      box-shadow: 0px 1px 3px 1px rgba(0, 0, 0, 0.15);\n",
              "      filter: drop-shadow(0px 1px 2px rgba(0, 0, 0, 0.3));\n",
              "      fill: #FFFFFF;\n",
              "    }\n",
              "  </style>\n",
              "\n",
              "      <script>\n",
              "        const buttonEl =\n",
              "          document.querySelector('#df-ce441c19-c663-48ea-8847-ddbdfd25a171 button.colab-df-convert');\n",
              "        buttonEl.style.display =\n",
              "          google.colab.kernel.accessAllowed ? 'block' : 'none';\n",
              "\n",
              "        async function convertToInteractive(key) {\n",
              "          const element = document.querySelector('#df-ce441c19-c663-48ea-8847-ddbdfd25a171');\n",
              "          const dataTable =\n",
              "            await google.colab.kernel.invokeFunction('convertToInteractive',\n",
              "                                                     [key], {});\n",
              "          if (!dataTable) return;\n",
              "\n",
              "          const docLinkHtml = 'Like what you see? Visit the ' +\n",
              "            '<a target=\"_blank\" href=https://colab.research.google.com/notebooks/data_table.ipynb>data table notebook</a>'\n",
              "            + ' to learn more about interactive tables.';\n",
              "          element.innerHTML = '';\n",
              "          dataTable['output_type'] = 'display_data';\n",
              "          await google.colab.output.renderOutput(dataTable, element);\n",
              "          const docLink = document.createElement('div');\n",
              "          docLink.innerHTML = docLinkHtml;\n",
              "          element.appendChild(docLink);\n",
              "        }\n",
              "      </script>\n",
              "    </div>\n",
              "  </div>\n",
              "  "
            ]
          },
          "metadata": {},
          "execution_count": 15
        }
      ]
    },
    {
      "cell_type": "code",
      "source": [
        "missing(df)"
      ],
      "metadata": {
        "colab": {
          "base_uri": "https://localhost:8080/",
          "height": 49
        },
        "id": "YJSuCozeTPtD",
        "outputId": "5a20cb07-c546-4633-c45b-1a420e123285"
      },
      "execution_count": null,
      "outputs": [
        {
          "output_type": "execute_result",
          "data": {
            "text/plain": [
              "Empty DataFrame\n",
              "Columns: [Missing Values, % of Total Values]\n",
              "Index: []"
            ],
            "text/html": [
              "\n",
              "  <div id=\"df-beef77b1-3690-46ed-bda3-493c9cdc49bd\">\n",
              "    <div class=\"colab-df-container\">\n",
              "      <div>\n",
              "<style scoped>\n",
              "    .dataframe tbody tr th:only-of-type {\n",
              "        vertical-align: middle;\n",
              "    }\n",
              "\n",
              "    .dataframe tbody tr th {\n",
              "        vertical-align: top;\n",
              "    }\n",
              "\n",
              "    .dataframe thead th {\n",
              "        text-align: right;\n",
              "    }\n",
              "</style>\n",
              "<table border=\"1\" class=\"dataframe\">\n",
              "  <thead>\n",
              "    <tr style=\"text-align: right;\">\n",
              "      <th></th>\n",
              "      <th>Missing Values</th>\n",
              "      <th>% of Total Values</th>\n",
              "    </tr>\n",
              "  </thead>\n",
              "  <tbody>\n",
              "  </tbody>\n",
              "</table>\n",
              "</div>\n",
              "      <button class=\"colab-df-convert\" onclick=\"convertToInteractive('df-beef77b1-3690-46ed-bda3-493c9cdc49bd')\"\n",
              "              title=\"Convert this dataframe to an interactive table.\"\n",
              "              style=\"display:none;\">\n",
              "        \n",
              "  <svg xmlns=\"http://www.w3.org/2000/svg\" height=\"24px\"viewBox=\"0 0 24 24\"\n",
              "       width=\"24px\">\n",
              "    <path d=\"M0 0h24v24H0V0z\" fill=\"none\"/>\n",
              "    <path d=\"M18.56 5.44l.94 2.06.94-2.06 2.06-.94-2.06-.94-.94-2.06-.94 2.06-2.06.94zm-11 1L8.5 8.5l.94-2.06 2.06-.94-2.06-.94L8.5 2.5l-.94 2.06-2.06.94zm10 10l.94 2.06.94-2.06 2.06-.94-2.06-.94-.94-2.06-.94 2.06-2.06.94z\"/><path d=\"M17.41 7.96l-1.37-1.37c-.4-.4-.92-.59-1.43-.59-.52 0-1.04.2-1.43.59L10.3 9.45l-7.72 7.72c-.78.78-.78 2.05 0 2.83L4 21.41c.39.39.9.59 1.41.59.51 0 1.02-.2 1.41-.59l7.78-7.78 2.81-2.81c.8-.78.8-2.07 0-2.86zM5.41 20L4 18.59l7.72-7.72 1.47 1.35L5.41 20z\"/>\n",
              "  </svg>\n",
              "      </button>\n",
              "      \n",
              "  <style>\n",
              "    .colab-df-container {\n",
              "      display:flex;\n",
              "      flex-wrap:wrap;\n",
              "      gap: 12px;\n",
              "    }\n",
              "\n",
              "    .colab-df-convert {\n",
              "      background-color: #E8F0FE;\n",
              "      border: none;\n",
              "      border-radius: 50%;\n",
              "      cursor: pointer;\n",
              "      display: none;\n",
              "      fill: #1967D2;\n",
              "      height: 32px;\n",
              "      padding: 0 0 0 0;\n",
              "      width: 32px;\n",
              "    }\n",
              "\n",
              "    .colab-df-convert:hover {\n",
              "      background-color: #E2EBFA;\n",
              "      box-shadow: 0px 1px 2px rgba(60, 64, 67, 0.3), 0px 1px 3px 1px rgba(60, 64, 67, 0.15);\n",
              "      fill: #174EA6;\n",
              "    }\n",
              "\n",
              "    [theme=dark] .colab-df-convert {\n",
              "      background-color: #3B4455;\n",
              "      fill: #D2E3FC;\n",
              "    }\n",
              "\n",
              "    [theme=dark] .colab-df-convert:hover {\n",
              "      background-color: #434B5C;\n",
              "      box-shadow: 0px 1px 3px 1px rgba(0, 0, 0, 0.15);\n",
              "      filter: drop-shadow(0px 1px 2px rgba(0, 0, 0, 0.3));\n",
              "      fill: #FFFFFF;\n",
              "    }\n",
              "  </style>\n",
              "\n",
              "      <script>\n",
              "        const buttonEl =\n",
              "          document.querySelector('#df-beef77b1-3690-46ed-bda3-493c9cdc49bd button.colab-df-convert');\n",
              "        buttonEl.style.display =\n",
              "          google.colab.kernel.accessAllowed ? 'block' : 'none';\n",
              "\n",
              "        async function convertToInteractive(key) {\n",
              "          const element = document.querySelector('#df-beef77b1-3690-46ed-bda3-493c9cdc49bd');\n",
              "          const dataTable =\n",
              "            await google.colab.kernel.invokeFunction('convertToInteractive',\n",
              "                                                     [key], {});\n",
              "          if (!dataTable) return;\n",
              "\n",
              "          const docLinkHtml = 'Like what you see? Visit the ' +\n",
              "            '<a target=\"_blank\" href=https://colab.research.google.com/notebooks/data_table.ipynb>data table notebook</a>'\n",
              "            + ' to learn more about interactive tables.';\n",
              "          element.innerHTML = '';\n",
              "          dataTable['output_type'] = 'display_data';\n",
              "          await google.colab.output.renderOutput(dataTable, element);\n",
              "          const docLink = document.createElement('div');\n",
              "          docLink.innerHTML = docLinkHtml;\n",
              "          element.appendChild(docLink);\n",
              "        }\n",
              "      </script>\n",
              "    </div>\n",
              "  </div>\n",
              "  "
            ]
          },
          "metadata": {},
          "execution_count": 16
        }
      ]
    },
    {
      "cell_type": "markdown",
      "source": [
        "##Check duplicated"
      ],
      "metadata": {
        "id": "OJWXHqAoTR9U"
      }
    },
    {
      "cell_type": "code",
      "source": [
        "# Shows the duplicated data\n",
        "df.duplicated().sum()"
      ],
      "metadata": {
        "colab": {
          "base_uri": "https://localhost:8080/"
        },
        "id": "5DQkHzlATVU5",
        "outputId": "70cd3674-60a2-430b-b27d-d300e6ef02c1"
      },
      "execution_count": null,
      "outputs": [
        {
          "output_type": "execute_result",
          "data": {
            "text/plain": [
              "0"
            ]
          },
          "metadata": {},
          "execution_count": 18
        }
      ]
    },
    {
      "cell_type": "markdown",
      "source": [
        "##Remove hospital sequence\n",
        "\n",
        "because it has only 1 unique values"
      ],
      "metadata": {
        "id": "zzp2x9xOHieB"
      }
    },
    {
      "cell_type": "code",
      "source": [
        "df.drop(['hospstay_seq'], axis=1, inplace=True)"
      ],
      "metadata": {
        "id": "m7149621HmgR"
      },
      "execution_count": null,
      "outputs": []
    },
    {
      "cell_type": "markdown",
      "source": [
        "##Check outliers"
      ],
      "metadata": {
        "id": "kxXT66Q4Fk4B"
      }
    },
    {
      "cell_type": "code",
      "source": [
        "%matplotlib inline\n",
        "import matplotlib.pyplot as plt\n",
        "\n",
        "df.hist(bins=50,figsize=(25,20));"
      ],
      "metadata": {
        "colab": {
          "base_uri": "https://localhost:8080/",
          "height": 915
        },
        "id": "0g-_YudmFqu9",
        "outputId": "e4468ace-1fd2-472c-84b5-2524e77eb0fd"
      },
      "execution_count": null,
      "outputs": [
        {
          "output_type": "display_data",
          "data": {
            "text/plain": [
              "<Figure size 1800x1440 with 25 Axes>"
            ],
            "image/png": "[encoded data removed]"
          },
          "metadata": {
            "needs_background": "light"
          }
        }
      ]
    },
    {
      "cell_type": "markdown",
      "source": [
        "Replace age greater than 89 with 90 "
      ],
      "metadata": {
        "id": "8M--0bAzKIKs"
      }
    },
    {
      "cell_type": "code",
      "source": [
        "df['age'].hist(bins=50)"
      ],
      "metadata": {
        "colab": {
          "base_uri": "https://localhost:8080/",
          "height": 282
        },
        "id": "4U9HEDEcvfUu",
        "outputId": "6b696150-09b3-411b-f052-3007a586d411"
      },
      "execution_count": null,
      "outputs": [
        {
          "output_type": "execute_result",
          "data": {
            "text/plain": [
              "<matplotlib.axes._subplots.AxesSubplot at 0x7f08d80ab690>"
            ]
          },
          "metadata": {},
          "execution_count": 48
        },
        {
          "output_type": "display_data",
          "data": {
            "text/plain": [
              "<Figure size 432x288 with 1 Axes>"
            ],
            "image/png": "[encoded data removed]"
          },
          "metadata": {
            "needs_background": "light"
          }
        }
      ]
    },
    {
      "cell_type": "code",
      "source": [
        "df['age'] = np.where(df['age'] > 89, 90, df['age'])"
      ],
      "metadata": {
        "id": "AOAmymhMKqoK"
      },
      "execution_count": null,
      "outputs": []
    },
    {
      "cell_type": "code",
      "source": [
        "df['age'].hist(bins=50)"
      ],
      "metadata": {
        "colab": {
          "base_uri": "https://localhost:8080/",
          "height": 282
        },
        "id": "iABqtSMPtY5t",
        "outputId": "d3524a9b-47de-497d-d4ca-f9e9b5c790eb"
      },
      "execution_count": null,
      "outputs": [
        {
          "output_type": "execute_result",
          "data": {
            "text/plain": [
              "<matplotlib.axes._subplots.AxesSubplot at 0x7f643494cf10>"
            ]
          },
          "metadata": {},
          "execution_count": 22
        },
        {
          "output_type": "display_data",
          "data": {
            "text/plain": [
              "<Figure size 432x288 with 1 Axes>"
            ],
            "image/png": "[encoded data removed]"
          },
          "metadata": {
            "needs_background": "light"
          }
        }
      ]
    },
    {
      "cell_type": "markdown",
      "source": [
        "##Check the number of the unique values in the categorical features"
      ],
      "metadata": {
        "id": "2ZhN_nuz5l8w"
      }
    },
    {
      "cell_type": "code",
      "source": [
        "df['gender'].nunique()"
      ],
      "metadata": {
        "colab": {
          "base_uri": "https://localhost:8080/"
        },
        "id": "mR0_hekm1-fV",
        "outputId": "43368a8e-afa2-4d42-9e55-f5a2ea825807"
      },
      "execution_count": null,
      "outputs": [
        {
          "output_type": "execute_result",
          "data": {
            "text/plain": [
              "2"
            ]
          },
          "metadata": {},
          "execution_count": 30
        }
      ]
    },
    {
      "cell_type": "code",
      "source": [
        "df['ethnicity'].nunique()"
      ],
      "metadata": {
        "colab": {
          "base_uri": "https://localhost:8080/"
        },
        "id": "DKT3N4PL2NyI",
        "outputId": "eeefce2c-3957-4694-8598-50a34dbabb11"
      },
      "execution_count": null,
      "outputs": [
        {
          "output_type": "execute_result",
          "data": {
            "text/plain": [
              "41"
            ]
          },
          "metadata": {},
          "execution_count": 31
        }
      ]
    },
    {
      "cell_type": "code",
      "source": [
        "df['insurance'].nunique()"
      ],
      "metadata": {
        "colab": {
          "base_uri": "https://localhost:8080/"
        },
        "id": "w51gUAKq23bm",
        "outputId": "40948d4e-ddf2-4d25-8a49-5e54669d79fb"
      },
      "execution_count": null,
      "outputs": [
        {
          "output_type": "execute_result",
          "data": {
            "text/plain": [
              "5"
            ]
          },
          "metadata": {},
          "execution_count": 32
        }
      ]
    },
    {
      "cell_type": "code",
      "source": [
        "df['admission_type'].nunique()"
      ],
      "metadata": {
        "colab": {
          "base_uri": "https://localhost:8080/"
        },
        "id": "sxOPGd142--M",
        "outputId": "c180d1d6-a0b7-4d2a-a40e-0c632300602f"
      },
      "execution_count": null,
      "outputs": [
        {
          "output_type": "execute_result",
          "data": {
            "text/plain": [
              "3"
            ]
          },
          "metadata": {},
          "execution_count": 33
        }
      ]
    },
    {
      "cell_type": "code",
      "source": [
        "df['first_careunit'].nunique()"
      ],
      "metadata": {
        "colab": {
          "base_uri": "https://localhost:8080/"
        },
        "id": "4bTgH3Ww3P8F",
        "outputId": "0168e215-c6ae-43cb-856e-208018edc462"
      },
      "execution_count": null,
      "outputs": [
        {
          "output_type": "execute_result",
          "data": {
            "text/plain": [
              "5"
            ]
          },
          "metadata": {},
          "execution_count": 34
        }
      ]
    },
    {
      "cell_type": "markdown",
      "source": [
        "##Featre engineering\n",
        "One-hot encoding"
      ],
      "metadata": {
        "id": "DYBV1GVxTaJo"
      }
    },
    {
      "cell_type": "code",
      "source": [
        "df_dum = pd.get_dummies(df)\n",
        "print(\"The shape after applying the function is \",df_dum.shape)"
      ],
      "metadata": {
        "colab": {
          "base_uri": "https://localhost:8080/"
        },
        "id": "mUULFl43Ta3M",
        "outputId": "e4fa0599-c5cf-4bec-ad96-d59641c8385c"
      },
      "execution_count": null,
      "outputs": [
        {
          "output_type": "stream",
          "name": "stdout",
          "text": [
            "The shape after applying the function is  (665138, 80)\n"
          ]
        }
      ]
    },
    {
      "cell_type": "code",
      "source": [
        "df_dum.head()"
      ],
      "metadata": {
        "colab": {
          "base_uri": "https://localhost:8080/",
          "height": 314
        },
        "id": "osp17Sa7Tc9_",
        "outputId": "66d89d9f-6161-4a78-cfcb-b676b3bf7232"
      },
      "execution_count": null,
      "outputs": [
        {
          "output_type": "execute_result",
          "data": {
            "text/plain": [
              "   subject_id  hadm_id  icustay_id  age  fullcode_first  dnr_first  fullcode  \\\n",
              "0           3   145834      211552   76             1.0        0.0       1.0   \n",
              "1           3   145834      211552   76             1.0        0.0       1.0   \n",
              "2           3   145834      211552   76             1.0        0.0       1.0   \n",
              "3           3   145834      211552   76             1.0        0.0       1.0   \n",
              "4           3   145834      211552   76             1.0        0.0       1.0   \n",
              "\n",
              "   dnr  cmo_first  cmo_last  ...  insurance_Private  insurance_Self Pay  \\\n",
              "0  1.0        0.0       0.0  ...                  0                   0   \n",
              "1  1.0        0.0       0.0  ...                  0                   0   \n",
              "2  1.0        0.0       0.0  ...                  0                   0   \n",
              "3  1.0        0.0       0.0  ...                  0                   0   \n",
              "4  1.0        0.0       0.0  ...                  0                   0   \n",
              "\n",
              "   admission_type_ELECTIVE  admission_type_EMERGENCY  admission_type_URGENT  \\\n",
              "0                        0                         1                      0   \n",
              "1                        0                         1                      0   \n",
              "2                        0                         1                      0   \n",
              "3                        0                         1                      0   \n",
              "4                        0                         1                      0   \n",
              "\n",
              "   first_careunit_CCU  first_careunit_CSRU  first_careunit_MICU  \\\n",
              "0                   0                    0                    1   \n",
              "1                   0                    0                    1   \n",
              "2                   0                    0                    1   \n",
              "3                   0                    0                    1   \n",
              "4                   0                    0                    1   \n",
              "\n",
              "   first_careunit_SICU  first_careunit_TSICU  \n",
              "0                    0                     0  \n",
              "1                    0                     0  \n",
              "2                    0                     0  \n",
              "3                    0                     0  \n",
              "4                    0                     0  \n",
              "\n",
              "[5 rows x 80 columns]"
            ],
            "text/html": [
              "\n",
              "  <div id=\"df-d5440af6-60d9-4127-a593-e4d954b4b179\">\n",
              "    <div class=\"colab-df-container\">\n",
              "      <div>\n",
              "<style scoped>\n",
              "    .dataframe tbody tr th:only-of-type {\n",
              "        vertical-align: middle;\n",
              "    }\n",
              "\n",
              "    .dataframe tbody tr th {\n",
              "        vertical-align: top;\n",
              "    }\n",
              "\n",
              "    .dataframe thead th {\n",
              "        text-align: right;\n",
              "    }\n",
              "</style>\n",
              "<table border=\"1\" class=\"dataframe\">\n",
              "  <thead>\n",
              "    <tr style=\"text-align: right;\">\n",
              "      <th></th>\n",
              "      <th>subject_id</th>\n",
              "      <th>hadm_id</th>\n",
              "      <th>icustay_id</th>\n",
              "      <th>age</th>\n",
              "      <th>fullcode_first</th>\n",
              "      <th>dnr_first</th>\n",
              "      <th>fullcode</th>\n",
              "      <th>dnr</th>\n",
              "      <th>cmo_first</th>\n",
              "      <th>cmo_last</th>\n",
              "      <th>...</th>\n",
              "      <th>insurance_Private</th>\n",
              "      <th>insurance_Self Pay</th>\n",
              "      <th>admission_type_ELECTIVE</th>\n",
              "      <th>admission_type_EMERGENCY</th>\n",
              "      <th>admission_type_URGENT</th>\n",
              "      <th>first_careunit_CCU</th>\n",
              "      <th>first_careunit_CSRU</th>\n",
              "      <th>first_careunit_MICU</th>\n",
              "      <th>first_careunit_SICU</th>\n",
              "      <th>first_careunit_TSICU</th>\n",
              "    </tr>\n",
              "  </thead>\n",
              "  <tbody>\n",
              "    <tr>\n",
              "      <th>0</th>\n",
              "      <td>3</td>\n",
              "      <td>145834</td>\n",
              "      <td>211552</td>\n",
              "      <td>76</td>\n",
              "      <td>1.0</td>\n",
              "      <td>0.0</td>\n",
              "      <td>1.0</td>\n",
              "      <td>1.0</td>\n",
              "      <td>0.0</td>\n",
              "      <td>0.0</td>\n",
              "      <td>...</td>\n",
              "      <td>0</td>\n",
              "      <td>0</td>\n",
              "      <td>0</td>\n",
              "      <td>1</td>\n",
              "      <td>0</td>\n",
              "      <td>0</td>\n",
              "      <td>0</td>\n",
              "      <td>1</td>\n",
              "      <td>0</td>\n",
              "      <td>0</td>\n",
              "    </tr>\n",
              "    <tr>\n",
              "      <th>1</th>\n",
              "      <td>3</td>\n",
              "      <td>145834</td>\n",
              "      <td>211552</td>\n",
              "      <td>76</td>\n",
              "      <td>1.0</td>\n",
              "      <td>0.0</td>\n",
              "      <td>1.0</td>\n",
              "      <td>1.0</td>\n",
              "      <td>0.0</td>\n",
              "      <td>0.0</td>\n",
              "      <td>...</td>\n",
              "      <td>0</td>\n",
              "      <td>0</td>\n",
              "      <td>0</td>\n",
              "      <td>1</td>\n",
              "      <td>0</td>\n",
              "      <td>0</td>\n",
              "      <td>0</td>\n",
              "      <td>1</td>\n",
              "      <td>0</td>\n",
              "      <td>0</td>\n",
              "    </tr>\n",
              "    <tr>\n",
              "      <th>2</th>\n",
              "      <td>3</td>\n",
              "      <td>145834</td>\n",
              "      <td>211552</td>\n",
              "      <td>76</td>\n",
              "      <td>1.0</td>\n",
              "      <td>0.0</td>\n",
              "      <td>1.0</td>\n",
              "      <td>1.0</td>\n",
              "      <td>0.0</td>\n",
              "      <td>0.0</td>\n",
              "      <td>...</td>\n",
              "      <td>0</td>\n",
              "      <td>0</td>\n",
              "      <td>0</td>\n",
              "      <td>1</td>\n",
              "      <td>0</td>\n",
              "      <td>0</td>\n",
              "      <td>0</td>\n",
              "      <td>1</td>\n",
              "      <td>0</td>\n",
              "      <td>0</td>\n",
              "    </tr>\n",
              "    <tr>\n",
              "      <th>3</th>\n",
              "      <td>3</td>\n",
              "      <td>145834</td>\n",
              "      <td>211552</td>\n",
              "      <td>76</td>\n",
              "      <td>1.0</td>\n",
              "      <td>0.0</td>\n",
              "      <td>1.0</td>\n",
              "      <td>1.0</td>\n",
              "      <td>0.0</td>\n",
              "      <td>0.0</td>\n",
              "      <td>...</td>\n",
              "      <td>0</td>\n",
              "      <td>0</td>\n",
              "      <td>0</td>\n",
              "      <td>1</td>\n",
              "      <td>0</td>\n",
              "      <td>0</td>\n",
              "      <td>0</td>\n",
              "      <td>1</td>\n",
              "      <td>0</td>\n",
              "      <td>0</td>\n",
              "    </tr>\n",
              "    <tr>\n",
              "      <th>4</th>\n",
              "      <td>3</td>\n",
              "      <td>145834</td>\n",
              "      <td>211552</td>\n",
              "      <td>76</td>\n",
              "      <td>1.0</td>\n",
              "      <td>0.0</td>\n",
              "      <td>1.0</td>\n",
              "      <td>1.0</td>\n",
              "      <td>0.0</td>\n",
              "      <td>0.0</td>\n",
              "      <td>...</td>\n",
              "      <td>0</td>\n",
              "      <td>0</td>\n",
              "      <td>0</td>\n",
              "      <td>1</td>\n",
              "      <td>0</td>\n",
              "      <td>0</td>\n",
              "      <td>0</td>\n",
              "      <td>1</td>\n",
              "      <td>0</td>\n",
              "      <td>0</td>\n",
              "    </tr>\n",
              "  </tbody>\n",
              "</table>\n",
              "<p>5 rows × 80 columns</p>\n",
              "</div>\n",
              "      <button class=\"colab-df-convert\" onclick=\"convertToInteractive('df-d5440af6-60d9-4127-a593-e4d954b4b179')\"\n",
              "              title=\"Convert this dataframe to an interactive table.\"\n",
              "              style=\"display:none;\">\n",
              "        \n",
              "  <svg xmlns=\"http://www.w3.org/2000/svg\" height=\"24px\"viewBox=\"0 0 24 24\"\n",
              "       width=\"24px\">\n",
              "    <path d=\"M0 0h24v24H0V0z\" fill=\"none\"/>\n",
              "    <path d=\"M18.56 5.44l.94 2.06.94-2.06 2.06-.94-2.06-.94-.94-2.06-.94 2.06-2.06.94zm-11 1L8.5 8.5l.94-2.06 2.06-.94-2.06-.94L8.5 2.5l-.94 2.06-2.06.94zm10 10l.94 2.06.94-2.06 2.06-.94-2.06-.94-.94-2.06-.94 2.06-2.06.94z\"/><path d=\"M17.41 7.96l-1.37-1.37c-.4-.4-.92-.59-1.43-.59-.52 0-1.04.2-1.43.59L10.3 9.45l-7.72 7.72c-.78.78-.78 2.05 0 2.83L4 21.41c.39.39.9.59 1.41.59.51 0 1.02-.2 1.41-.59l7.78-7.78 2.81-2.81c.8-.78.8-2.07 0-2.86zM5.41 20L4 18.59l7.72-7.72 1.47 1.35L5.41 20z\"/>\n",
              "  </svg>\n",
              "      </button>\n",
              "      \n",
              "  <style>\n",
              "    .colab-df-container {\n",
              "      display:flex;\n",
              "      flex-wrap:wrap;\n",
              "      gap: 12px;\n",
              "    }\n",
              "\n",
              "    .colab-df-convert {\n",
              "      background-color: #E8F0FE;\n",
              "      border: none;\n",
              "      border-radius: 50%;\n",
              "      cursor: pointer;\n",
              "      display: none;\n",
              "      fill: #1967D2;\n",
              "      height: 32px;\n",
              "      padding: 0 0 0 0;\n",
              "      width: 32px;\n",
              "    }\n",
              "\n",
              "    .colab-df-convert:hover {\n",
              "      background-color: #E2EBFA;\n",
              "      box-shadow: 0px 1px 2px rgba(60, 64, 67, 0.3), 0px 1px 3px 1px rgba(60, 64, 67, 0.15);\n",
              "      fill: #174EA6;\n",
              "    }\n",
              "\n",
              "    [theme=dark] .colab-df-convert {\n",
              "      background-color: #3B4455;\n",
              "      fill: #D2E3FC;\n",
              "    }\n",
              "\n",
              "    [theme=dark] .colab-df-convert:hover {\n",
              "      background-color: #434B5C;\n",
              "      box-shadow: 0px 1px 3px 1px rgba(0, 0, 0, 0.15);\n",
              "      filter: drop-shadow(0px 1px 2px rgba(0, 0, 0, 0.3));\n",
              "      fill: #FFFFFF;\n",
              "    }\n",
              "  </style>\n",
              "\n",
              "      <script>\n",
              "        const buttonEl =\n",
              "          document.querySelector('#df-d5440af6-60d9-4127-a593-e4d954b4b179 button.colab-df-convert');\n",
              "        buttonEl.style.display =\n",
              "          google.colab.kernel.accessAllowed ? 'block' : 'none';\n",
              "\n",
              "        async function convertToInteractive(key) {\n",
              "          const element = document.querySelector('#df-d5440af6-60d9-4127-a593-e4d954b4b179');\n",
              "          const dataTable =\n",
              "            await google.colab.kernel.invokeFunction('convertToInteractive',\n",
              "                                                     [key], {});\n",
              "          if (!dataTable) return;\n",
              "\n",
              "          const docLinkHtml = 'Like what you see? Visit the ' +\n",
              "            '<a target=\"_blank\" href=https://colab.research.google.com/notebooks/data_table.ipynb>data table notebook</a>'\n",
              "            + ' to learn more about interactive tables.';\n",
              "          element.innerHTML = '';\n",
              "          dataTable['output_type'] = 'display_data';\n",
              "          await google.colab.output.renderOutput(dataTable, element);\n",
              "          const docLink = document.createElement('div');\n",
              "          docLink.innerHTML = docLinkHtml;\n",
              "          element.appendChild(docLink);\n",
              "        }\n",
              "      </script>\n",
              "    </div>\n",
              "  </div>\n",
              "  "
            ]
          },
          "metadata": {},
          "execution_count": 37
        }
      ]
    },
    {
      "cell_type": "markdown",
      "source": [
        "##Save te output"
      ],
      "metadata": {
        "id": "2xR2nuFKVVLS"
      }
    },
    {
      "cell_type": "code",
      "source": [
        "df_dum.to_csv(DATA_FILEPATH +'preprocessed_data_398.csv')"
      ],
      "metadata": {
        "id": "TAq8niofVYA8"
      },
      "execution_count": null,
      "outputs": []
    }
  ]
}