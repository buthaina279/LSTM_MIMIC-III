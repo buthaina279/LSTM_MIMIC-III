{
  "cells": [
    {
      "cell_type": "markdown",
      "metadata": {
        "id": "view-in-github",
        "colab_type": "text"
      },
      "source": [
        "<a href=\"https://colab.research.google.com/github/buthaina279/LSTM_MIMIC-III/blob/main/LSTM_final_36.ipynb\" target=\"_parent\"><img src=\"https://colab.research.google.com/assets/colab-badge.svg\" alt=\"Open In Colab\"/></a>"
      ]
    },
    {
      "cell_type": "code",
      "execution_count": null,
      "metadata": {
        "colab": {
          "base_uri": "https://localhost:8080/"
        },
        "id": "Tg1HwYceP5cy",
        "outputId": "6c86d86f-5b2e-41a8-81ad-25dbe66a4518"
      },
      "outputs": [
        {
          "output_type": "stream",
          "name": "stdout",
          "text": [
            "Mounted at /content/drive\n"
          ]
        }
      ],
      "source": [
        "from google.colab import drive\n",
        "drive.mount('/content/drive')"
      ]
    },
    {
      "cell_type": "code",
      "execution_count": null,
      "metadata": {
        "id": "Sw7g8IA-QES0"
      },
      "outputs": [],
      "source": [
        "#for google drive\n",
        "DATA_FILEPATH = \"/content/drive/MyDrive/final_project/\""
      ]
    },
    {
      "cell_type": "code",
      "execution_count": null,
      "metadata": {
        "id": "E4i3zhoLQEfw"
      },
      "outputs": [],
      "source": [
        "from __future__ import division\n",
        "import warnings\n",
        "warnings.filterwarnings(\"ignore\")\n",
        "\n",
        "import numpy as np\n",
        "import pandas as pd\n",
        "from numpy import random\n",
        "from sklearn.metrics import accuracy_score, confusion_matrix, classification_report, roc_auc_score, roc_curve, auc, make_scorer, fbeta_score, average_precision_score\n",
        "import matplotlib.pyplot as plt\n",
        "from sklearn import preprocessing\n",
        "from keras import optimizers\n",
        "from keras.models import Sequential, Model\n",
        "from keras.layers import LSTM, Dense, Input, Activation, Bidirectional, Dropout\n",
        "from tensorflow.keras.callbacks import EarlyStopping"
      ]
    },
    {
      "cell_type": "markdown",
      "metadata": {
        "id": "gtvsOAXg8x8-"
      },
      "source": [
        "##Read "
      ]
    },
    {
      "cell_type": "code",
      "execution_count": null,
      "metadata": {
        "id": "bIrtzrDeQFGQ"
      },
      "outputs": [],
      "source": [
        "import pandas as pd, numpy as np\n",
        "train = pd.read_csv(DATA_FILEPATH + 'train_36.csv',index_col=0) \n",
        "validation = pd.read_csv(DATA_FILEPATH + 'validation_36.csv',index_col=0) \n",
        "test = pd.read_csv(DATA_FILEPATH + 'test_36.csv',index_col=0) "
      ]
    },
    {
      "cell_type": "code",
      "execution_count": null,
      "metadata": {
        "id": "Pp3BZLIYQZpF"
      },
      "outputs": [],
      "source": [
        "train_ids = pd.read_csv(DATA_FILEPATH + 'train_ids.csv',index_col=0) \n",
        "validation_ids = pd.read_csv(DATA_FILEPATH + 'validation_ids.csv',index_col=0) \n",
        "test_ids = pd.read_csv(DATA_FILEPATH + 'test_ids.csv',index_col=0) "
      ]
    },
    {
      "cell_type": "markdown",
      "source": [
        "Drop IDs and keep only the icustay_id because it is needed for the next operations"
      ],
      "metadata": {
        "id": "a24dKv34OYQS"
      }
    },
    {
      "cell_type": "code",
      "execution_count": null,
      "metadata": {
        "colab": {
          "base_uri": "https://localhost:8080/"
        },
        "id": "phWYOxaVUavm",
        "outputId": "a71ebaa9-775f-4e7d-a63c-0bf90aff0e08"
      },
      "outputs": [
        {
          "output_type": "stream",
          "name": "stdout",
          "text": [
            "train shape  (465471, 38)\n",
            "validation shape  (66629, 38)\n",
            "test shape  (133038, 38)\n"
          ]
        }
      ],
      "source": [
        "train.drop(['subject_id', 'hadm_id','hours_in'], axis=1, inplace=True)\n",
        "print(\"train shape \", train.shape)\n",
        "validation.drop(['subject_id', 'hadm_id','hours_in'], axis=1, inplace=True)\n",
        "print(\"validation shape \", validation.shape)\n",
        "test.drop(['subject_id', 'hadm_id','hours_in'], axis=1, inplace=True)\n",
        "print(\"test shape \", test.shape )"
      ]
    },
    {
      "cell_type": "markdown",
      "source": [
        "##Extract the labels"
      ],
      "metadata": {
        "id": "7i5UmohpOfmV"
      }
    },
    {
      "cell_type": "code",
      "execution_count": null,
      "metadata": {
        "id": "ryX_cuxtVDBd"
      },
      "outputs": [],
      "source": [
        "def get_lables_drop(train, test, validation):\n",
        "  # training labels\n",
        "  group_train = train.groupby('icustay_id')\n",
        "  train_goal_df = group_train.apply(lambda x: x['mort_icu'].unique())\n",
        "  train_goal_df = train_goal_df.apply(pd.Series)\n",
        "  print(\"train lables \\n\")\n",
        "  print(train_goal_df.shape)\n",
        "  #train_goal_df.head()\n",
        "\n",
        "  # Drop the label column now that labels have been extracted\n",
        "  train = train.drop(['mort_icu'],axis=1)\n",
        "  print(\"drop train lables \\n\")\n",
        "  print(train.shape)\n",
        "  train.head()\n",
        "\n",
        "  # validation labels\n",
        "  group_validation = validation.groupby('icustay_id')\n",
        "  validation_goal_df = group_validation.apply(lambda x: x['mort_icu'].unique())\n",
        "  validation_goal_df = validation_goal_df.apply(pd.Series)\n",
        "  print(\"validation lables \\n\")\n",
        "  print(validation_goal_df.shape)\n",
        "  validation_goal_df.head()\n",
        "\n",
        "  #Drop the label column now that labels have been extracted\n",
        "  validation = validation.drop(['mort_icu'],axis=1)\n",
        "  print(\"drop validation lables \\n\")\n",
        "  print(validation.shape)\n",
        "  validation.head()\n",
        "\n",
        "  # test labels\n",
        "  group_test = test.groupby('icustay_id')\n",
        "  test_goal_df = group_test.apply(lambda x: x['mort_icu'].unique())\n",
        "  test_goal_df = test_goal_df.apply(pd.Series)\n",
        "  print(\"test lables \\n\")\n",
        "  print(test_goal_df.shape)\n",
        "  #test_goal_df.head()\n",
        "\n",
        "  # Drop the label column now that labels have been extracted\n",
        "  test = test.drop(['mort_icu'],axis=1)\n",
        "  print(\"drop test lables \\n\")\n",
        "  print(test.shape)\n",
        "  test.head()\n",
        "\n",
        "  return train, test, validation,  train_goal_df, test_goal_df, validation_goal_df\n"
      ]
    },
    {
      "cell_type": "code",
      "execution_count": null,
      "metadata": {
        "colab": {
          "base_uri": "https://localhost:8080/"
        },
        "id": "_Nl8bNdYVTno",
        "outputId": "374bf52a-8568-4ac6-bc95-e35791ab3b08"
      },
      "outputs": [
        {
          "output_type": "stream",
          "name": "stdout",
          "text": [
            "train lables \n",
            "\n",
            "(19792, 1)\n",
            "drop train lables \n",
            "\n",
            "(465471, 37)\n",
            "validation lables \n",
            "\n",
            "(2827, 1)\n",
            "drop validation lables \n",
            "\n",
            "(66629, 37)\n",
            "test lables \n",
            "\n",
            "(5656, 1)\n",
            "drop test lables \n",
            "\n",
            "(133038, 37)\n"
          ]
        }
      ],
      "source": [
        "train, test, validation,  train_goal_df, test_goal_df, validation_goal_df = get_lables_drop(train, test, validation)"
      ]
    },
    {
      "cell_type": "code",
      "execution_count": null,
      "metadata": {
        "colab": {
          "base_uri": "https://localhost:8080/"
        },
        "id": "C3vC0kzvVsOp",
        "outputId": "fa675b14-8ced-4abe-c525-c98eaa1910b8"
      },
      "outputs": [
        {
          "output_type": "stream",
          "name": "stdout",
          "text": [
            "(19792,)\n",
            "[0 0 1 ... 0 0 0]\n",
            "\n",
            "\n",
            "(2827,)\n",
            "[0 0 0 ... 0 0 0]\n",
            "\n",
            "\n",
            "(5656,)\n",
            "[0 0 0 ... 0 0 0]\n"
          ]
        }
      ],
      "source": [
        "y_train = train_goal_df[0]\n",
        "y_validation = validation_goal_df[0]\n",
        "y_test = test_goal_df[0]\n",
        "\n",
        "y_train = np.asarray(y_train)\n",
        "y_validation = np.asarray(y_validation)\n",
        "y_test = np.asarray(y_test)\n",
        "\n",
        "print(y_train.shape)\n",
        "print(y_train)\n",
        "print('\\n')\n",
        "print(y_validation.shape)\n",
        "print(y_validation)\n",
        "print('\\n')\n",
        "print(y_test.shape)\n",
        "print(y_test)"
      ]
    },
    {
      "cell_type": "markdown",
      "source": [
        "##Feature Scaling"
      ],
      "metadata": {
        "id": "mSrktAxGOnIH"
      }
    },
    {
      "cell_type": "code",
      "execution_count": null,
      "metadata": {
        "colab": {
          "base_uri": "https://localhost:8080/"
        },
        "id": "mjBiYorTV1Nq",
        "outputId": "07b193dd-0868-4af4-f7a8-becf4e7cce35"
      },
      "outputs": [
        {
          "output_type": "stream",
          "name": "stdout",
          "text": [
            "['icustay_id', 'los_icu', 'fullcode', 'fullcode_first', 'admission_type_EMERGENCY', 'ethnicity_WHITE', 'cmo', 'cmo_last', 'insurance_Medicare', 'gender_M', 'dnr', 'gender_F', 'oxygen saturation_mean', 'first_careunit_CSRU', 'glucose_mean', 'temperature_mean', 'max_hours', 'systolic blood pressure_mean', 'first_careunit_MICU', 'insurance_Private', 'heart rate_mean', 'admission_type_ELECTIVE', 'mean blood pressure_mean', 'respiratory rate_mean', 'age', 'diastolic blood pressure_mean', 'dnr_first', 'readmission_30', 'first_careunit_SICU', 'cmo_first', 'ethnicity_UNKNOWN/NOT SPECIFIED', 'first_careunit_CCU', 'ethnicity_BLACK/AFRICAN AMERICAN', 'ethnicity_HISPANIC/LATINO - CENTRAL AMERICAN (OTHER)', 'ethnicity_ASIAN - JAPANESE', 'ethnicity_WHITE - OTHER EUROPEAN', 'admission_type_URGENT']\n"
          ]
        }
      ],
      "source": [
        "scaler_MinMaxScaler = preprocessing.MinMaxScaler()\n",
        "#scaler_StandardScaler = preprocessing.StandardScaler()\n",
        "\n",
        "# Get column names\n",
        "col_names = list(train.columns.values)\n",
        "print(col_names)"
      ]
    },
    {
      "cell_type": "code",
      "execution_count": null,
      "metadata": {
        "colab": {
          "base_uri": "https://localhost:8080/"
        },
        "id": "knLfPnkaV56Y",
        "outputId": "f3953f63-c088-4906-bf50-534697affc7c"
      },
      "outputs": [
        {
          "output_type": "stream",
          "name": "stdout",
          "text": [
            "   icustay_id   los_icu  fullcode  fullcode_first  admission_type_EMERGENCY  \\\n",
            "0      228783  0.066774       0.0             0.0                       1.0   \n",
            "1      228783  0.066774       0.0             0.0                       1.0   \n",
            "2      228783  0.066774       0.0             0.0                       1.0   \n",
            "3      228783  0.066774       0.0             0.0                       1.0   \n",
            "4      228783  0.066774       0.0             0.0                       1.0   \n",
            "\n",
            "   ethnicity_WHITE  cmo  cmo_last  insurance_Medicare  gender_M  ...  \\\n",
            "0              1.0  0.0       0.0                 0.0       1.0  ...   \n",
            "1              1.0  0.0       0.0                 0.0       1.0  ...   \n",
            "2              1.0  0.0       0.0                 0.0       1.0  ...   \n",
            "3              1.0  0.0       0.0                 0.0       1.0  ...   \n",
            "4              1.0  0.0       0.0                 0.0       1.0  ...   \n",
            "\n",
            "   readmission_30  first_careunit_SICU  cmo_first  \\\n",
            "0             0.0                  0.0        0.0   \n",
            "1             0.0                  0.0        0.0   \n",
            "2             0.0                  0.0        0.0   \n",
            "3             0.0                  0.0        0.0   \n",
            "4             0.0                  0.0        0.0   \n",
            "\n",
            "   ethnicity_UNKNOWN/NOT SPECIFIED  first_careunit_CCU  \\\n",
            "0                              0.0                 0.0   \n",
            "1                              0.0                 0.0   \n",
            "2                              0.0                 0.0   \n",
            "3                              0.0                 0.0   \n",
            "4                              0.0                 0.0   \n",
            "\n",
            "   ethnicity_BLACK/AFRICAN AMERICAN  \\\n",
            "0                               0.0   \n",
            "1                               0.0   \n",
            "2                               0.0   \n",
            "3                               0.0   \n",
            "4                               0.0   \n",
            "\n",
            "   ethnicity_HISPANIC/LATINO - CENTRAL AMERICAN (OTHER)  \\\n",
            "0                                                0.0      \n",
            "1                                                0.0      \n",
            "2                                                0.0      \n",
            "3                                                0.0      \n",
            "4                                                0.0      \n",
            "\n",
            "   ethnicity_ASIAN - JAPANESE  ethnicity_WHITE - OTHER EUROPEAN  \\\n",
            "0                         0.0                               0.0   \n",
            "1                         0.0                               0.0   \n",
            "2                         0.0                               0.0   \n",
            "3                         0.0                               0.0   \n",
            "4                         0.0                               0.0   \n",
            "\n",
            "   admission_type_URGENT  \n",
            "0                    0.0  \n",
            "1                    0.0  \n",
            "2                    0.0  \n",
            "3                    0.0  \n",
            "4                    0.0  \n",
            "\n",
            "[5 rows x 37 columns]\n",
            "   icustay_id   los_icu  fullcode  fullcode_first  admission_type_EMERGENCY  \\\n",
            "0      262203  0.624827       1.0             1.0                       1.0   \n",
            "1      262203  0.624827       1.0             1.0                       1.0   \n",
            "2      262203  0.624827       1.0             1.0                       1.0   \n",
            "3      262203  0.624827       1.0             1.0                       1.0   \n",
            "4      262203  0.624827       1.0             1.0                       1.0   \n",
            "\n",
            "   ethnicity_WHITE  cmo  cmo_last  insurance_Medicare  gender_M  ...  \\\n",
            "0              1.0  0.0       0.0                 0.0       0.0  ...   \n",
            "1              1.0  0.0       0.0                 0.0       0.0  ...   \n",
            "2              1.0  0.0       0.0                 0.0       0.0  ...   \n",
            "3              1.0  0.0       0.0                 0.0       0.0  ...   \n",
            "4              1.0  0.0       0.0                 0.0       0.0  ...   \n",
            "\n",
            "   readmission_30  first_careunit_SICU  cmo_first  \\\n",
            "0             0.0                  0.0        0.0   \n",
            "1             0.0                  0.0        0.0   \n",
            "2             0.0                  0.0        0.0   \n",
            "3             0.0                  0.0        0.0   \n",
            "4             0.0                  0.0        0.0   \n",
            "\n",
            "   ethnicity_UNKNOWN/NOT SPECIFIED  first_careunit_CCU  \\\n",
            "0                              0.0                 1.0   \n",
            "1                              0.0                 1.0   \n",
            "2                              0.0                 1.0   \n",
            "3                              0.0                 1.0   \n",
            "4                              0.0                 1.0   \n",
            "\n",
            "   ethnicity_BLACK/AFRICAN AMERICAN  \\\n",
            "0                               0.0   \n",
            "1                               0.0   \n",
            "2                               0.0   \n",
            "3                               0.0   \n",
            "4                               0.0   \n",
            "\n",
            "   ethnicity_HISPANIC/LATINO - CENTRAL AMERICAN (OTHER)  \\\n",
            "0                                                0.0      \n",
            "1                                                0.0      \n",
            "2                                                0.0      \n",
            "3                                                0.0      \n",
            "4                                                0.0      \n",
            "\n",
            "   ethnicity_ASIAN - JAPANESE  ethnicity_WHITE - OTHER EUROPEAN  \\\n",
            "0                         0.0                               0.0   \n",
            "1                         0.0                               0.0   \n",
            "2                         0.0                               0.0   \n",
            "3                         0.0                               0.0   \n",
            "4                         0.0                               0.0   \n",
            "\n",
            "   admission_type_URGENT  \n",
            "0                    0.0  \n",
            "1                    0.0  \n",
            "2                    0.0  \n",
            "3                    0.0  \n",
            "4                    0.0  \n",
            "\n",
            "[5 rows x 37 columns]\n"
          ]
        }
      ],
      "source": [
        "cols_to_norm = col_names[1:] # Columns to normalize\n",
        "\n",
        "\n",
        "###################\n",
        "# Fit training data on the scaler object\n",
        "fitted_scaler_MinMaxScaler = scaler_MinMaxScaler.fit(train[cols_to_norm])\n",
        "\n",
        "#fitted_scaler_StandardScaler = scaler_StandardScaler.fit(train[cols_to_norm])\n",
        "\n",
        "train[cols_to_norm] = fitted_scaler_MinMaxScaler.transform(train[cols_to_norm])\n",
        "# print(train.head())\n",
        "#train[cols_to_norm] = fitted_scaler_StandardScaler.transform(train[cols_to_norm])\n",
        "\n",
        "# Use the scalar object fitted on training data to normalize the validation set\n",
        "validation[cols_to_norm] = fitted_scaler_MinMaxScaler.transform(validation[cols_to_norm])\n",
        "\n",
        "#validation[cols_to_norm] = fitted_scaler_StandardScaler.transform(validation[cols_to_norm])\n",
        "print(validation.head())\n",
        "\n",
        "\n",
        "# Use the scalar object fitted on training data to normalize the test set\n",
        "test[cols_to_norm] = fitted_scaler_MinMaxScaler.transform(test[cols_to_norm])\n",
        "#test[cols_to_norm] = fitted_scaler_StandardScaler.transform(test[cols_to_norm])\n",
        "print(test.head())"
      ]
    },
    {
      "cell_type": "markdown",
      "source": [
        "##Padding with zero"
      ],
      "metadata": {
        "id": "qrWq81PrPIEP"
      }
    },
    {
      "cell_type": "code",
      "execution_count": null,
      "metadata": {
        "id": "ezHyoiMaV_u1"
      },
      "outputs": [],
      "source": [
        "#fill grouped train to have same length\n",
        "\n",
        "def fill_data(df):\n",
        "  df_fill = df.set_index([\"icustay_id\", df.groupby(\"icustay_id\").cumcount()])\n",
        "  index = pd.MultiIndex.from_product(df_fill.index.levels, names=df_fill.index.names)\n",
        "  output = df_fill.reindex(index, fill_value=0).reset_index(level=1, drop=True).reset_index()\n",
        "  return output"
      ]
    },
    {
      "cell_type": "code",
      "execution_count": null,
      "metadata": {
        "id": "iXuhLh5YWDz4"
      },
      "outputs": [],
      "source": [
        "df_fill_train = fill_data(train)\n",
        "df_fill_validation = fill_data(validation)\n",
        "df_fill_test = fill_data(test)"
      ]
    },
    {
      "cell_type": "code",
      "execution_count": null,
      "metadata": {
        "colab": {
          "base_uri": "https://localhost:8080/"
        },
        "id": "kE3sCjilsvDf",
        "outputId": "0fc73601-ecd3-4956-ae82-330d4e93ecd4"
      },
      "outputs": [
        {
          "output_type": "stream",
          "name": "stdout",
          "text": [
            "(475008, 37)\n",
            "(67848, 37)\n",
            "(135744, 37)\n"
          ]
        }
      ],
      "source": [
        "print(df_fill_train.shape)\n",
        "print(df_fill_validation.shape)\n",
        "print(df_fill_test.shape)"
      ]
    },
    {
      "cell_type": "code",
      "execution_count": null,
      "metadata": {
        "id": "F6AgXChgWMA_"
      },
      "outputs": [],
      "source": [
        "train_ids = train_ids['0'].values.tolist()\n",
        "validation_ids = validation_ids['0'].values.tolist()\n",
        "test_ids = test_ids['0'].values.tolist()"
      ]
    },
    {
      "cell_type": "markdown",
      "source": [
        "##Reshape Dataset to 3D array"
      ],
      "metadata": {
        "id": "AlliHE6sP3hz"
      }
    },
    {
      "cell_type": "code",
      "execution_count": null,
      "metadata": {
        "colab": {
          "base_uri": "https://localhost:8080/"
        },
        "id": "595jj9jFWRUV",
        "outputId": "172eadd0-35cb-495c-d9ef-210262b15a7d"
      },
      "outputs": [
        {
          "output_type": "stream",
          "name": "stdout",
          "text": [
            "(19792, 24, 36)\n",
            "[[[0.13451306 1.         1.         ... 0.         0.         0.        ]\n",
            "  [0.13451306 1.         1.         ... 0.         0.         0.        ]\n",
            "  [0.13451306 1.         1.         ... 0.         0.         0.        ]\n",
            "  ...\n",
            "  [0.13451306 1.         1.         ... 0.         0.         0.        ]\n",
            "  [0.13451306 1.         1.         ... 0.         0.         0.        ]\n",
            "  [0.13451306 1.         1.         ... 0.         0.         0.        ]]\n",
            "\n",
            " [[0.52467429 1.         1.         ... 0.         0.         0.        ]\n",
            "  [0.52467429 1.         1.         ... 0.         0.         0.        ]\n",
            "  [0.52467429 1.         1.         ... 0.         0.         0.        ]\n",
            "  ...\n",
            "  [0.52467429 1.         1.         ... 0.         0.         0.        ]\n",
            "  [0.52467429 1.         1.         ... 0.         0.         0.        ]\n",
            "  [0.52467429 1.         1.         ... 0.         0.         0.        ]]\n",
            "\n",
            " [[0.03338398 1.         1.         ... 0.         0.         0.        ]\n",
            "  [0.03338398 1.         1.         ... 0.         0.         0.        ]\n",
            "  [0.03338398 1.         1.         ... 0.         0.         0.        ]\n",
            "  ...\n",
            "  [0.         0.         0.         ... 0.         0.         0.        ]\n",
            "  [0.         0.         0.         ... 0.         0.         0.        ]\n",
            "  [0.         0.         0.         ... 0.         0.         0.        ]]\n",
            "\n",
            " ...\n",
            "\n",
            " [[0.47151823 0.         0.         ... 0.         0.         0.        ]\n",
            "  [0.47151823 0.         0.         ... 0.         0.         0.        ]\n",
            "  [0.47151823 0.         0.         ... 0.         0.         0.        ]\n",
            "  ...\n",
            "  [0.47151823 0.         0.         ... 0.         0.         0.        ]\n",
            "  [0.47151823 0.         0.         ... 0.         0.         0.        ]\n",
            "  [0.47151823 0.         0.         ... 0.         0.         0.        ]]\n",
            "\n",
            " [[0.14417492 1.         1.         ... 0.         0.         0.        ]\n",
            "  [0.14417492 1.         1.         ... 0.         0.         0.        ]\n",
            "  [0.14417492 1.         1.         ... 0.         0.         0.        ]\n",
            "  ...\n",
            "  [0.14417492 1.         1.         ... 0.         0.         0.        ]\n",
            "  [0.14417492 1.         1.         ... 0.         0.         0.        ]\n",
            "  [0.14417492 1.         1.         ... 0.         0.         0.        ]]\n",
            "\n",
            " [[0.14656907 1.         1.         ... 0.         0.         0.        ]\n",
            "  [0.14656907 1.         1.         ... 0.         0.         0.        ]\n",
            "  [0.14656907 1.         1.         ... 0.         0.         0.        ]\n",
            "  ...\n",
            "  [0.14656907 1.         1.         ... 0.         0.         0.        ]\n",
            "  [0.14656907 1.         1.         ... 0.         0.         0.        ]\n",
            "  [0.14656907 1.         1.         ... 0.         0.         0.        ]]]\n",
            "\n",
            "\n",
            "(2827, 24, 36)\n",
            "[[[0.06677405 0.         0.         ... 0.         0.         0.        ]\n",
            "  [0.06677405 0.         0.         ... 0.         0.         0.        ]\n",
            "  [0.06677405 0.         0.         ... 0.         0.         0.        ]\n",
            "  ...\n",
            "  [0.06677405 0.         0.         ... 0.         0.         0.        ]\n",
            "  [0.06677405 0.         0.         ... 0.         0.         0.        ]\n",
            "  [0.06677405 0.         0.         ... 0.         0.         0.        ]]\n",
            "\n",
            " [[0.07475696 1.         1.         ... 0.         0.         0.        ]\n",
            "  [0.07475696 1.         1.         ... 0.         0.         0.        ]\n",
            "  [0.07475696 1.         1.         ... 0.         0.         0.        ]\n",
            "  ...\n",
            "  [0.07475696 1.         1.         ... 0.         0.         0.        ]\n",
            "  [0.07475696 1.         1.         ... 0.         0.         0.        ]\n",
            "  [0.07475696 1.         1.         ... 0.         0.         0.        ]]\n",
            "\n",
            " [[0.16470241 1.         1.         ... 0.         0.         0.        ]\n",
            "  [0.16470241 1.         1.         ... 0.         0.         0.        ]\n",
            "  [0.16470241 1.         1.         ... 0.         0.         0.        ]\n",
            "  ...\n",
            "  [0.16470241 1.         1.         ... 0.         0.         0.        ]\n",
            "  [0.16470241 1.         1.         ... 0.         0.         0.        ]\n",
            "  [0.16470241 1.         1.         ... 0.         0.         0.        ]]\n",
            "\n",
            " ...\n",
            "\n",
            " [[0.12021278 1.         1.         ... 0.         0.         0.        ]\n",
            "  [0.12021278 1.         1.         ... 0.         0.         0.        ]\n",
            "  [0.12021278 1.         1.         ... 0.         0.         0.        ]\n",
            "  ...\n",
            "  [0.12021278 1.         1.         ... 0.         0.         0.        ]\n",
            "  [0.12021278 1.         1.         ... 0.         0.         0.        ]\n",
            "  [0.12021278 1.         1.         ... 0.         0.         0.        ]]\n",
            "\n",
            " [[0.25002284 1.         1.         ... 0.         0.         0.        ]\n",
            "  [0.25002284 1.         1.         ... 0.         0.         0.        ]\n",
            "  [0.25002284 1.         1.         ... 0.         0.         0.        ]\n",
            "  ...\n",
            "  [0.25002284 1.         1.         ... 0.         0.         0.        ]\n",
            "  [0.25002284 1.         1.         ... 0.         0.         0.        ]\n",
            "  [0.25002284 1.         1.         ... 0.         0.         0.        ]]\n",
            "\n",
            " [[0.69072547 1.         1.         ... 0.         0.         0.        ]\n",
            "  [0.69072547 1.         1.         ... 0.         0.         0.        ]\n",
            "  [0.69072547 1.         1.         ... 0.         0.         0.        ]\n",
            "  ...\n",
            "  [0.69072547 1.         1.         ... 0.         0.         0.        ]\n",
            "  [0.69072547 1.         1.         ... 0.         0.         0.        ]\n",
            "  [0.69072547 1.         1.         ... 0.         0.         0.        ]]]\n",
            "\n",
            "\n",
            "(5656, 24, 36)\n",
            "[[[0.62482745 1.         1.         ... 0.         0.         0.        ]\n",
            "  [0.62482745 1.         1.         ... 0.         0.         0.        ]\n",
            "  [0.62482745 1.         1.         ... 0.         0.         0.        ]\n",
            "  ...\n",
            "  [0.62482745 1.         1.         ... 0.         0.         0.        ]\n",
            "  [0.62482745 1.         1.         ... 0.         0.         0.        ]\n",
            "  [0.62482745 1.         1.         ... 0.         0.         0.        ]]\n",
            "\n",
            " [[0.28120031 1.         1.         ... 0.         0.         0.        ]\n",
            "  [0.28120031 1.         1.         ... 0.         0.         0.        ]\n",
            "  [0.28120031 1.         1.         ... 0.         0.         0.        ]\n",
            "  ...\n",
            "  [0.28120031 1.         1.         ... 0.         0.         0.        ]\n",
            "  [0.28120031 1.         1.         ... 0.         0.         0.        ]\n",
            "  [0.28120031 1.         1.         ... 0.         0.         0.        ]]\n",
            "\n",
            " [[0.1878458  1.         1.         ... 0.         0.         0.        ]\n",
            "  [0.1878458  1.         1.         ... 0.         0.         0.        ]\n",
            "  [0.1878458  1.         1.         ... 0.         0.         0.        ]\n",
            "  ...\n",
            "  [0.1878458  1.         1.         ... 0.         0.         0.        ]\n",
            "  [0.1878458  1.         1.         ... 0.         0.         0.        ]\n",
            "  [0.1878458  1.         1.         ... 0.         0.         0.        ]]\n",
            "\n",
            " ...\n",
            "\n",
            " [[0.16136889 0.         0.         ... 0.         0.         0.        ]\n",
            "  [0.16136889 0.         0.         ... 0.         0.         0.        ]\n",
            "  [0.16136889 0.         0.         ... 0.         0.         0.        ]\n",
            "  ...\n",
            "  [0.16136889 0.         0.         ... 0.         0.         0.        ]\n",
            "  [0.16136889 0.         0.         ... 0.         0.         0.        ]\n",
            "  [0.16136889 0.         0.         ... 0.         0.         0.        ]]\n",
            "\n",
            " [[0.29058681 1.         1.         ... 0.         0.         0.        ]\n",
            "  [0.29058681 1.         1.         ... 0.         0.         0.        ]\n",
            "  [0.29058681 1.         1.         ... 0.         0.         0.        ]\n",
            "  ...\n",
            "  [0.29058681 1.         1.         ... 0.         0.         0.        ]\n",
            "  [0.29058681 1.         1.         ... 0.         0.         0.        ]\n",
            "  [0.29058681 1.         1.         ... 0.         0.         0.        ]]\n",
            "\n",
            " [[0.22974025 1.         1.         ... 0.         0.         0.        ]\n",
            "  [0.22974025 1.         1.         ... 0.         0.         0.        ]\n",
            "  [0.22974025 1.         1.         ... 0.         0.         0.        ]\n",
            "  ...\n",
            "  [0.22974025 1.         1.         ... 0.         0.         0.        ]\n",
            "  [0.22974025 1.         1.         ... 0.         0.         0.        ]\n",
            "  [0.22974025 1.         1.         ... 0.         0.         0.        ]]]\n"
          ]
        }
      ],
      "source": [
        "nb_samples_train = len(train_ids)\n",
        "nb_samples_validation = len(validation_ids)\n",
        "nb_samples_test = len(test_ids)\n",
        "nb_timestps = 24\n",
        "nb_feat = 36 #48 #75 #36\n",
        "\n",
        "X_train = np.zeros((nb_samples_train, nb_timestps, nb_feat)) \n",
        "X_validation = np.zeros((nb_samples_validation, nb_timestps, nb_feat)) \n",
        "X_test = np.zeros((nb_samples_test, nb_timestps, nb_feat))\n",
        "\n",
        "# Create a mapper to map the time series IDs to indices in the 3-D array for the train and test set\n",
        "TrainId_mapper = dict(zip(train_ids,range(nb_samples_train))) \n",
        "ValidationId_mapper = dict(zip(validation_ids,range(nb_samples_validation))) \n",
        "TestId_mapper = dict(zip(test_ids,range(nb_samples_test)))\n",
        "\n",
        "grouped_train = df_fill_train.groupby('icustay_id')\n",
        "grouped_validation = df_fill_validation.groupby('icustay_id')\n",
        "grouped_test = df_fill_test.groupby('icustay_id')\n",
        "\n",
        "\n",
        "# Fill up the entries in the train and test data 3d array\n",
        "# train data\n",
        "for ID in train_ids:\n",
        "    grp_train = grouped_train.get_group(ID).reset_index(drop=True).drop(['icustay_id'],axis=1)\n",
        "    X_train[TrainId_mapper[ID],:,:] = grp_train.values\n",
        "\n",
        "# validation data\n",
        "for ID in validation_ids:\n",
        "    grp_validation = grouped_validation.get_group(ID).reset_index(drop=True).drop(['icustay_id'],axis=1)\n",
        "    X_validation[ValidationId_mapper[ID],:,:] = grp_validation.values\n",
        "\n",
        "\n",
        "# Test data\n",
        "for ID in test_ids:\n",
        "    grp_test = grouped_test.get_group(ID).reset_index(drop=True).drop(['icustay_id'],axis=1)\n",
        "    X_test[TestId_mapper[ID],:,:] = grp_test.values\n",
        "    \n",
        "print(X_train.shape) \n",
        "print(X_train) \n",
        "print('\\n')\n",
        "print(X_validation.shape) \n",
        "print(X_validation) \n",
        "print('\\n')\n",
        "print(X_test.shape) \n",
        "print(X_test)    "
      ]
    },
    {
      "cell_type": "markdown",
      "source": [
        "##Transform the target to be categorical feature with two columns"
      ],
      "metadata": {
        "id": "teYG8dHtPWwH"
      }
    },
    {
      "cell_type": "code",
      "execution_count": null,
      "metadata": {
        "colab": {
          "base_uri": "https://localhost:8080/"
        },
        "id": "SP7-ChOWWbRl",
        "outputId": "e9ec5f1b-63ab-4d3a-ceb2-3fa18c857630"
      },
      "outputs": [
        {
          "output_type": "stream",
          "name": "stdout",
          "text": [
            "(19792,)\n",
            "(2827,)\n",
            "(5656,)\n",
            "\n",
            "\n",
            "(19792, 2)\n",
            "(2827, 2)\n",
            "(5656, 2)\n"
          ]
        }
      ],
      "source": [
        "from keras.utils.np_utils import to_categorical\n",
        "num_classes = 2\n",
        "Y_train = to_categorical(y_train, num_classes)\n",
        "Y_validation = to_categorical(y_validation, num_classes)\n",
        "Y_test = to_categorical(y_test, num_classes)\n",
        "\n",
        "print(y_train.shape)\n",
        "print(y_validation.shape)\n",
        "print(y_test.shape)\n",
        "\n",
        "print('\\n')\n",
        "\n",
        "print(Y_train.shape)\n",
        "print(Y_validation.shape)\n",
        "print(Y_test.shape)"
      ]
    },
    {
      "cell_type": "markdown",
      "metadata": {
        "id": "nILjYrh1GpU2"
      },
      "source": [
        "##Functions"
      ]
    },
    {
      "cell_type": "code",
      "execution_count": null,
      "metadata": {
        "id": "9-O1Dg7HC0Tl"
      },
      "outputs": [],
      "source": [
        "import tensorflow as tf\n",
        "physical_devices = tf.config.list_physical_devices('GPU')\n",
        "tf.config.experimental.set_memory_growth(physical_devices[0], enable=True)"
      ]
    },
    {
      "cell_type": "code",
      "execution_count": null,
      "metadata": {
        "colab": {
          "base_uri": "https://localhost:8080/"
        },
        "id": "pnJDrz35EJ6F",
        "outputId": "48192ecf-3a1e-4653-a9fa-c545d8d931a6"
      },
      "outputs": [
        {
          "name": "stdout",
          "output_type": "stream",
          "text": [
            "Num GPUs Available:  1\n"
          ]
        }
      ],
      "source": [
        "print(\"Num GPUs Available: \", len(tf.config.list_physical_devices('GPU')))"
      ]
    },
    {
      "cell_type": "code",
      "execution_count": null,
      "metadata": {
        "id": "OHK2wmG6Wgxc"
      },
      "outputs": [],
      "source": [
        "from keras.callbacks import History\n",
        "\n",
        "def plot_loss(history):\n",
        "  plt.plot(history.history['loss'])\n",
        "  plt.plot(history.history['val_loss'])\n",
        "  plt.title('Model loss')\n",
        "  plt.ylabel('loss')\n",
        "  plt.xlabel('Epoch')\n",
        "  plt.legend(['Train', 'Validation'], loc='upper left')\n",
        "  plt.show()"
      ]
    },
    {
      "cell_type": "code",
      "execution_count": null,
      "metadata": {
        "id": "1kcwclNoXdEa"
      },
      "outputs": [],
      "source": [
        "def plot_metric(history):\n",
        "  plt.plot(history.history['auc'])\n",
        "  plt.plot(history.history['val_auc'])\n",
        "  plt.title('Model AUC ROC')\n",
        "  plt.ylabel('AUC ROC')\n",
        "  plt.xlabel('Epoch')\n",
        "  plt.legend(['Train', 'Validation'], loc='upper left')\n",
        "  plt.show()"
      ]
    },
    {
      "cell_type": "code",
      "execution_count": null,
      "metadata": {
        "id": "NoOZFS-pYGTp"
      },
      "outputs": [],
      "source": [
        "from sklearn import metrics\n",
        "def buildROC(target_test,test_preds):\n",
        "    fpr, tpr, threshold = metrics.roc_curve(target_test, test_preds)\n",
        "    roc_auc = metrics.auc(fpr, tpr)\n",
        "    plt.title('Receiver Operating Characteristic')\n",
        "    plt.plot(fpr, tpr, 'b', label = 'AUC = %0.2f' % roc_auc)\n",
        "    plt.legend(loc = 'lower right')\n",
        "    plt.plot([0, 1], [0, 1],'r--')\n",
        "    plt.ylabel('True Positive Rate')\n",
        "    plt.xlabel('False Positive Rate')\n",
        "    plt.gcf().savefig('roc.png')"
      ]
    },
    {
      "cell_type": "code",
      "execution_count": null,
      "metadata": {
        "colab": {
          "base_uri": "https://localhost:8080/"
        },
        "id": "DzVGPoVp_mS_",
        "outputId": "0779653b-62b5-4cd9-ab93-248552051af3"
      },
      "outputs": [
        {
          "output_type": "execute_result",
          "data": {
            "text/plain": [
              "{0: 0.5382648898558607, 1: 7.033404406538735}"
            ]
          },
          "metadata": {},
          "execution_count": 23
        }
      ],
      "source": [
        "from sklearn.utils.class_weight import compute_class_weight\n",
        "class_weights = compute_class_weight(class_weight = \"balanced\"\n",
        "                                    , classes= np.unique(y_train), y= y_train)\n",
        "class_weights = dict(zip(np.unique(y_train), class_weights))\n",
        "class_weights"
      ]
    },
    {
      "cell_type": "markdown",
      "metadata": {
        "id": "cZQtLV1_cTuR"
      },
      "source": [
        "#Experiments"
      ]
    },
    {
      "cell_type": "markdown",
      "metadata": {
        "id": "hyFGKrm4RrWu"
      },
      "source": [
        "##Experiment 1"
      ]
    },
    {
      "cell_type": "code",
      "execution_count": null,
      "metadata": {
        "id": "s0eVZYSAgkRM"
      },
      "outputs": [],
      "source": [
        "import tensorflow as tf\n",
        "\n",
        "def run_model(X_train, Y_train,X_validation, Y_validation, units1, units2, units3\n",
        "              , batch_sz, epoch_sz, dropout, learning_rate): \n",
        "  model = get_model(X_train, Y_train, units1, units2, units3, dropout)\n",
        "  model.summary()\n",
        "  model.compile(\n",
        "    optimizer = tf.keras.optimizers.Adam(learning_rate=learning_rate),\n",
        "    loss= 'binary_crossentropy',\n",
        "    metrics = [\"AUC\"]) # the default AUC is ROC\n",
        "\n",
        "  #by default: monitor='val_loss' and patience=0\n",
        "  early_stopping = EarlyStopping()\n",
        "  verbose = 1\n",
        "  history = model.fit(X_train, Y_train,\n",
        "          epochs=epoch_sz, \n",
        "          batch_size=batch_sz, \n",
        "          verbose=verbose, \n",
        "          validation_data = (X_validation, Y_validation),\n",
        "          callbacks=[early_stopping],\n",
        "          class_weight=class_weights)\n",
        "\n",
        "  return history, model\n",
        "\n"
      ]
    },
    {
      "cell_type": "code",
      "execution_count": null,
      "metadata": {
        "id": "pfWdDsinYmSJ"
      },
      "outputs": [],
      "source": [
        "def get_model(trainX, trainy, units1, units2, units3, dropout):\n",
        "  \n",
        "    model = Sequential()\n",
        "\n",
        "    model.add(LSTM(units1, activation = 'relu', input_shape = (nb_timestps, nb_feat))) \n",
        "    model.add(Dropout(dropout))\n",
        "\n",
        "    model.add(Dense(units2, activation = 'relu')) \n",
        "    model.add(Dropout(dropout))\n",
        "\n",
        "    model.add(Dense(units3, activation = 'relu')) \n",
        "    model.add(Dropout(dropout))\n",
        "\n",
        "    model.add(Dense(units = 2, activation = 'sigmoid'))\n",
        "    return model"
      ]
    },
    {
      "cell_type": "code",
      "execution_count": null,
      "metadata": {
        "colab": {
          "base_uri": "https://localhost:8080/"
        },
        "id": "cKm57SxFRzw-",
        "outputId": "903e64e9-7aed-40f6-ce21-366d958c0cd4"
      },
      "outputs": [
        {
          "output_type": "stream",
          "name": "stderr",
          "text": [
            "WARNING:tensorflow:Layer lstm_4 will not use cuDNN kernels since it doesn't meet the criteria. It will use a generic GPU kernel as fallback when running on GPU.\n"
          ]
        },
        {
          "output_type": "stream",
          "name": "stdout",
          "text": [
            "Model: \"sequential_4\"\n",
            "_________________________________________________________________\n",
            " Layer (type)                Output Shape              Param #   \n",
            "=================================================================\n",
            " lstm_4 (LSTM)               (None, 16)                3392      \n",
            "                                                                 \n",
            " dropout_12 (Dropout)        (None, 16)                0         \n",
            "                                                                 \n",
            " dense_12 (Dense)            (None, 32)                544       \n",
            "                                                                 \n",
            " dropout_13 (Dropout)        (None, 32)                0         \n",
            "                                                                 \n",
            " dense_13 (Dense)            (None, 64)                2112      \n",
            "                                                                 \n",
            " dropout_14 (Dropout)        (None, 64)                0         \n",
            "                                                                 \n",
            " dense_14 (Dense)            (None, 2)                 130       \n",
            "                                                                 \n",
            "=================================================================\n",
            "Total params: 6,178\n",
            "Trainable params: 6,178\n",
            "Non-trainable params: 0\n",
            "_________________________________________________________________\n",
            "Epoch 1/25\n",
            "495/495 [==============================] - 25s 46ms/step - loss: 0.6977 - auc: 0.5045 - val_loss: 0.7131 - val_auc: 0.0671\n",
            "Epoch 2/25\n",
            "495/495 [==============================] - 24s 49ms/step - loss: 0.6938 - auc: 0.3996 - val_loss: 0.6919 - val_auc: 0.5767\n"
          ]
        }
      ],
      "source": [
        "seed = 7\n",
        "tf.random.set_seed(seed)\n",
        "\n",
        "batch_size = 40\n",
        "dropout = 0.3\n",
        "learning_rate = 0.01\n",
        "units1 = 16\n",
        "units2 = 32\n",
        "units3 = 64\n",
        "epoch = 25\n",
        "\n",
        "history, model = run_model(X_train, Y_train,X_validation, Y_validation, units1,units2,units3\n",
        "                           , batch_size, epoch, dropout, learning_rate)\n"
      ]
    },
    {
      "cell_type": "code",
      "execution_count": null,
      "metadata": {
        "colab": {
          "base_uri": "https://localhost:8080/",
          "height": 573
        },
        "id": "ulqrJboHR85E",
        "outputId": "6be9f8a3-4e18-4d8e-c8db-e8eb9f2946cc"
      },
      "outputs": [
        {
          "output_type": "display_data",
          "data": {
            "text/plain": [
              "<Figure size 432x288 with 1 Axes>"
            ],
            "image/png": "[encoded data removed]"
          },
          "metadata": {
            "needs_background": "light"
          }
        },
        {
          "output_type": "display_data",
          "data": {
            "text/plain": [
              "<Figure size 432x288 with 1 Axes>"
            ],
            "image/png": "[encoded data removed]"
          },
          "metadata": {
            "needs_background": "light"
          }
        }
      ],
      "source": [
        "plot_loss(history)\n",
        "plot_metric(history)\n"
      ]
    },
    {
      "cell_type": "code",
      "execution_count": null,
      "metadata": {
        "colab": {
          "base_uri": "https://localhost:8080/",
          "height": 516
        },
        "id": "AY4MfRYsSPlO",
        "outputId": "8935bfea-f25e-464a-f2dd-5372a9afaa19"
      },
      "outputs": [
        {
          "output_type": "stream",
          "name": "stdout",
          "text": [
            "classification report:\n",
            "              precision    recall  f1-score   support\n",
            "\n",
            "           0       0.94      0.70      0.80      5279\n",
            "           1       0.07      0.32      0.12       377\n",
            "\n",
            "    accuracy                           0.68      5656\n",
            "   macro avg       0.50      0.51      0.46      5656\n",
            "weighted avg       0.88      0.68      0.76      5656\n",
            "\n",
            "===============================================================================\n",
            "AUROC 0.5098802471933486\n",
            "AUPRC 0.0679605073525619\n"
          ]
        },
        {
          "output_type": "display_data",
          "data": {
            "text/plain": [
              "<Figure size 432x288 with 2 Axes>"
            ],
            "image/png": "[encoded data removed]"
          },
          "metadata": {
            "needs_background": "light"
          }
        }
      ],
      "source": [
        "from sklearn.metrics import plot_confusion_matrix\n",
        "import seaborn as sns\n",
        "\n",
        "final_predictions= np.argmax(model.predict(X_test),axis=1)\n",
        "\n",
        "\n",
        "cm = confusion_matrix(y_test, final_predictions)\n",
        "# print('confusion matrix:')\n",
        "# print(cm)\n",
        "# #print('\\n')\n",
        "print('classification report:')\n",
        "print(classification_report(y_test, final_predictions))\n",
        "\n",
        "print('===============================================================================')\n",
        "print(\"AUROC\",roc_auc_score(y_test, final_predictions))\n",
        "print(\"AUPRC\",average_precision_score(y_test, final_predictions))\n",
        "\n",
        "\n",
        "\n",
        "ax= plt.subplot()\n",
        "sns.heatmap(cm, annot=True, fmt='g', ax=ax, cmap=\"YlGnBu\");  #annot=True to annotate cells, ftm='g' to disable scientific notation\n",
        "  # labels, title and ticks\n",
        "ax.set_xlabel('Predicted labels');ax.set_ylabel('True labels'); \n",
        "ax.set_title('Confusion Matrix'); \n",
        "ax.xaxis.set_ticklabels(['Live', 'dead']); ax.yaxis.set_ticklabels(['Live', 'dead']);\n",
        "\n"
      ]
    },
    {
      "cell_type": "code",
      "execution_count": null,
      "metadata": {
        "colab": {
          "base_uri": "https://localhost:8080/",
          "height": 295
        },
        "id": "t_BXVugoh1Vf",
        "outputId": "1ca7a060-a1c6-434a-a25e-e88ecc7055a6"
      },
      "outputs": [
        {
          "output_type": "display_data",
          "data": {
            "text/plain": [
              "<Figure size 432x288 with 1 Axes>"
            ],
            "image/png": "[encoded data removed]"
          },
          "metadata": {
            "needs_background": "light"
          }
        }
      ],
      "source": [
        "buildROC(y_test, final_predictions)"
      ]
    },
    {
      "cell_type": "markdown",
      "metadata": {
        "id": "AdAwoCzxyLzf"
      },
      "source": [
        "##Experiment 2"
      ]
    },
    {
      "cell_type": "code",
      "execution_count": null,
      "metadata": {
        "colab": {
          "base_uri": "https://localhost:8080/"
        },
        "id": "8D6lkAaSQcPv",
        "outputId": "17bad601-2c06-4cfb-c825-01639de24471"
      },
      "outputs": [
        {
          "name": "stdout",
          "output_type": "stream",
          "text": [
            "WARNING:tensorflow:Layer lstm_1 will not use cuDNN kernels since it doesn't meet the criteria. It will use a generic GPU kernel as fallback when running on GPU.\n",
            "Model: \"sequential_1\"\n",
            "_________________________________________________________________\n",
            " Layer (type)                Output Shape              Param #   \n",
            "=================================================================\n",
            " lstm_1 (LSTM)               (None, 64)                25856     \n",
            "                                                                 \n",
            " dropout_3 (Dropout)         (None, 64)                0         \n",
            "                                                                 \n",
            " dense_3 (Dense)             (None, 128)               8320      \n",
            "                                                                 \n",
            " dropout_4 (Dropout)         (None, 128)               0         \n",
            "                                                                 \n",
            " dense_4 (Dense)             (None, 256)               33024     \n",
            "                                                                 \n",
            " dropout_5 (Dropout)         (None, 256)               0         \n",
            "                                                                 \n",
            " dense_5 (Dense)             (None, 2)                 514       \n",
            "                                                                 \n",
            "=================================================================\n",
            "Total params: 67,714\n",
            "Trainable params: 67,714\n",
            "Non-trainable params: 0\n",
            "_________________________________________________________________\n",
            "Epoch 1/25\n",
            "495/495 [==============================] - 16s 29ms/step - loss: 147.7357 - auc: 0.3764 - val_loss: 0.7178 - val_auc: 0.0853\n",
            "Epoch 2/25\n",
            "495/495 [==============================] - 14s 28ms/step - loss: 0.6960 - auc: 0.4561 - val_loss: 0.6812 - val_auc: 0.9328\n"
          ]
        }
      ],
      "source": [
        "seed = 7\n",
        "tf.random.set_seed(seed)\n",
        "\n",
        "batch_size = 40\n",
        "dropout = 0.3\n",
        "learning_rate = 0.01\n",
        "units1 = 64\n",
        "units2 = 128\n",
        "units3 = 256\n",
        "epoch = 25\n",
        "class_weight = 1\n",
        "\n",
        "history, model = run_model(X_train, Y_train,X_validation, Y_validation, units1,units2,units3, batch_size, epoch, class_weight, dropout, learning_rate) # learning_rate, batch_size, epoch\n",
        "\n"
      ]
    },
    {
      "cell_type": "code",
      "execution_count": null,
      "metadata": {
        "colab": {
          "base_uri": "https://localhost:8080/",
          "height": 573
        },
        "id": "zUXzExigQtx-",
        "outputId": "8e93e1e0-d211-4bde-fd6a-8447bc1251e3"
      },
      "outputs": [
        {
          "data": {
            "image/png": "[encoded data removed]",
            "text/plain": [
              "<Figure size 432x288 with 1 Axes>"
            ]
          },
          "metadata": {},
          "output_type": "display_data"
        },
        {
          "data": {
            "image/png": "[encoded data removed]",
            "text/plain": [
              "<Figure size 432x288 with 1 Axes>"
            ]
          },
          "metadata": {},
          "output_type": "display_data"
        }
      ],
      "source": [
        "plot_loss(history)\n",
        "plot_metric(history)"
      ]
    },
    {
      "cell_type": "code",
      "execution_count": null,
      "metadata": {
        "colab": {
          "base_uri": "https://localhost:8080/",
          "height": 516
        },
        "id": "FigDPKkLQ2vV",
        "outputId": "b5bd51cf-4335-4126-c323-09f9710dec1f"
      },
      "outputs": [
        {
          "name": "stdout",
          "output_type": "stream",
          "text": [
            "classification report:\n",
            "              precision    recall  f1-score   support\n",
            "\n",
            "           0       0.93      1.00      0.97      5279\n",
            "           1       0.00      0.00      0.00       377\n",
            "\n",
            "    accuracy                           0.93      5656\n",
            "   macro avg       0.47      0.50      0.48      5656\n",
            "weighted avg       0.87      0.93      0.90      5656\n",
            "\n",
            "===============================================================================\n",
            "AUROC 0.5\n",
            "AUPRC 0.06665487977369165\n"
          ]
        },
        {
          "data": {
            "image/png": "[encoded data removed]",
            "text/plain": [
              "<Figure size 432x288 with 2 Axes>"
            ]
          },
          "metadata": {},
          "output_type": "display_data"
        }
      ],
      "source": [
        "from sklearn.metrics import plot_confusion_matrix\n",
        "from sklearn.metrics import average_precision_score\n",
        "import seaborn as sns\n",
        "\n",
        "final_predictions= np.argmax(model.predict(X_test),axis=1)\n",
        "\n",
        "\n",
        "cm = confusion_matrix(y_test, final_predictions)\n",
        "# print('confusion matrix:')\n",
        "# print(cm)\n",
        "# #print('\\n')\n",
        "print('classification report:')\n",
        "print(classification_report(y_test, final_predictions))\n",
        "\n",
        "print('===============================================================================')\n",
        "print(\"AUROC\",roc_auc_score(y_test, final_predictions))\n",
        "print(\"AUPRC\",average_precision_score(y_test, final_predictions))\n",
        "\n",
        "\n",
        "\n",
        "ax= plt.subplot()\n",
        "sns.heatmap(cm, annot=True, fmt='g', ax=ax, cmap=\"YlGnBu\");  #annot=True to annotate cells, ftm='g' to disable scientific notation\n",
        "  # labels, title and ticks\n",
        "ax.set_xlabel('Predicted labels');ax.set_ylabel('True labels'); \n",
        "ax.set_title('Confusion Matrix'); \n",
        "ax.xaxis.set_ticklabels(['Live', 'dead']); ax.yaxis.set_ticklabels(['Live', 'dead']);\n",
        "\n"
      ]
    },
    {
      "cell_type": "code",
      "execution_count": null,
      "metadata": {
        "colab": {
          "base_uri": "https://localhost:8080/",
          "height": 295
        },
        "id": "0ycpQsW4RmcH",
        "outputId": "8499347a-6c77-44e0-b355-81af1704e84d"
      },
      "outputs": [
        {
          "data": {
            "image/png": "[encoded data removed]",
            "text/plain": [
              "<Figure size 432x288 with 1 Axes>"
            ]
          },
          "metadata": {},
          "output_type": "display_data"
        }
      ],
      "source": [
        "buildROC(y_test, final_predictions)"
      ]
    },
    {
      "cell_type": "markdown",
      "metadata": {
        "id": "IpufBWUaLwsD"
      },
      "source": [
        "##Experiment 3"
      ]
    },
    {
      "cell_type": "code",
      "execution_count": null,
      "metadata": {
        "id": "m49xFnEwdhb-"
      },
      "outputs": [],
      "source": [
        "import tensorflow as tf\n",
        "#by default -> monitor='val_loss' and patience=0\n",
        "early_stopping = EarlyStopping()\n",
        "\n",
        "def run_model(X_train, Y_train,X_validation, Y_validation, units1, units2, units3, batch_sz, epoch_sz, cw, dropout, learning_rate): #, units, dropout, learning_rate, batch_size, epoch\n",
        "  model = get_model(X_train, Y_train, units1, units2, units3, dropout)\n",
        "  model.summary()\n",
        "  model.compile(\n",
        "    optimizer = tf.keras.optimizers.Adam(learning_rate=learning_rate),\n",
        "    loss= 'binary_crossentropy',\n",
        "    metrics = [\"AUC\"]) # the default AUC is ROC\n",
        "\n",
        "  #verbose, epochs, batch_size = 2, epoch_sz, batch_sz  #change the batch size to 40 as Msh and 250 as Purush\n",
        "  verbose = 1\n",
        "  if cw == 0: \n",
        "    history = model.fit(X_train, Y_train,\n",
        "          epochs=epoch_sz, \n",
        "          batch_size=batch_sz, \n",
        "          verbose=verbose, \n",
        "          validation_data = (X_validation, Y_validation),\n",
        "          callbacks=[early_stopping],)\n",
        "          #class_weight=class_weights)\n",
        "  else:\n",
        "    history = model.fit(X_train, Y_train,\n",
        "          epochs=epoch_sz, \n",
        "          batch_size=batch_sz, \n",
        "          verbose=verbose, \n",
        "          validation_data = (X_validation, Y_validation),\n",
        "          callbacks=[early_stopping],\n",
        "          class_weight=class_weights)\n",
        "\n",
        "  return history, model\n",
        "\n"
      ]
    },
    {
      "cell_type": "code",
      "execution_count": null,
      "metadata": {
        "id": "pXm-GT7tcwzC"
      },
      "outputs": [],
      "source": [
        "def get_model(trainX, trainy, units1, units2, units3, dropout):\n",
        "  \n",
        "    model = Sequential()\n",
        "\n",
        "    model.add(LSTM(units1, activation = 'relu', return_sequences= True,input_shape = (nb_timestps, nb_feat))) \n",
        "    model.add(Dropout(dropout))\n",
        "\n",
        "    # model.add(Dense(units2, activation = 'relu')) \n",
        "    # model.add(Dropout(dropout))\n",
        "\n",
        "    # model.add(Dense(units2, activation = 'relu')) \n",
        "    # model.add(Dropout(dropout))\n",
        "\n",
        "    model.add(Dense(units = 2, activation = 'sigmoid'))\n",
        "    return model"
      ]
    },
    {
      "cell_type": "code",
      "execution_count": null,
      "metadata": {
        "colab": {
          "base_uri": "https://localhost:8080/",
          "height": 573
        },
        "id": "a6yCBB5sIx_-",
        "outputId": "d4ace582-48b7-4a47-8e8f-67c6871043de"
      },
      "outputs": [
        {
          "data": {
            "image/png": "[encoded data removed]",
            "text/plain": [
              "<Figure size 432x288 with 1 Axes>"
            ]
          },
          "metadata": {},
          "output_type": "display_data"
        },
        {
          "data": {
            "image/png": "[encoded data removed]",
            "text/plain": [
              "<Figure size 432x288 with 1 Axes>"
            ]
          },
          "metadata": {},
          "output_type": "display_data"
        }
      ],
      "source": [
        "plot_loss(history)\n",
        "plot_metric(history)"
      ]
    },
    {
      "cell_type": "code",
      "execution_count": null,
      "metadata": {
        "colab": {
          "base_uri": "https://localhost:8080/",
          "height": 516
        },
        "id": "wHS3OQTrI5bb",
        "outputId": "4d76aec1-9033-46ec-8ddc-9e94e896368e"
      },
      "outputs": [
        {
          "name": "stdout",
          "output_type": "stream",
          "text": [
            "classification report:\n",
            "              precision    recall  f1-score   support\n",
            "\n",
            "           0       0.92      0.07      0.13      5279\n",
            "           1       0.07      0.91      0.12       377\n",
            "\n",
            "    accuracy                           0.13      5656\n",
            "   macro avg       0.49      0.49      0.13      5656\n",
            "weighted avg       0.86      0.13      0.13      5656\n",
            "\n",
            "===============================================================================\n",
            "AUROC 0.49260394647125416\n",
            "AUPRC 0.06574834942756617\n"
          ]
        },
        {
          "data": {
            "image/png": "[encoded data removed]",
            "text/plain": [
              "<Figure size 432x288 with 2 Axes>"
            ]
          },
          "metadata": {},
          "output_type": "display_data"
        }
      ],
      "source": [
        "from sklearn.metrics import plot_confusion_matrix\n",
        "import seaborn as sns\n",
        "\n",
        "final_predictions= np.argmax(model.predict(X_test),axis=1)\n",
        "\n",
        "\n",
        "cm = confusion_matrix(y_test, final_predictions)\n",
        "# print('confusion matrix:')\n",
        "# print(cm)\n",
        "# #print('\\n')\n",
        "print('classification report:')\n",
        "print(classification_report(y_test, final_predictions))\n",
        "\n",
        "print('===============================================================================')\n",
        "print(\"AUROC\",roc_auc_score(y_test, final_predictions))\n",
        "print(\"AUPRC\",average_precision_score(y_test, final_predictions))\n",
        "\n",
        "\n",
        "\n",
        "ax= plt.subplot()\n",
        "sns.heatmap(cm, annot=True, fmt='g', ax=ax, cmap=\"YlGnBu\");  #annot=True to annotate cells, ftm='g' to disable scientific notation\n",
        "  # labels, title and ticks\n",
        "ax.set_xlabel('Predicted labels');ax.set_ylabel('True labels'); \n",
        "ax.set_title('Confusion Matrix'); \n",
        "ax.xaxis.set_ticklabels(['Live', 'dead']); ax.yaxis.set_ticklabels(['Live', 'dead']);\n",
        "\n"
      ]
    },
    {
      "cell_type": "code",
      "execution_count": null,
      "metadata": {
        "colab": {
          "base_uri": "https://localhost:8080/",
          "height": 295
        },
        "id": "akEnzuxNJSRB",
        "outputId": "3322d37e-cc00-4953-85e0-541ada0e04a1"
      },
      "outputs": [
        {
          "data": {
            "image/png": "[encoded data removed]",
            "text/plain": [
              "<Figure size 432x288 with 1 Axes>"
            ]
          },
          "metadata": {},
          "output_type": "display_data"
        }
      ],
      "source": [
        "buildROC(y_test, final_predictions)\n"
      ]
    },
    {
      "cell_type": "markdown",
      "metadata": {
        "id": "9zD5V28D79Wk"
      },
      "source": [
        "##Experiment 4\n",
        "one layer"
      ]
    },
    {
      "cell_type": "code",
      "execution_count": null,
      "metadata": {
        "id": "6H4bEp-6MBaq"
      },
      "outputs": [],
      "source": [
        "def get_model(trainX, trainy, units1, units2, units3, dropout):\n",
        "  \n",
        "    model = Sequential()\n",
        "\n",
        "    model.add(LSTM(units1, activation = 'relu', return_sequences= True,input_shape = (nb_timestps, nb_feat))) \n",
        "    model.add(Dropout(dropout))\n",
        "\n",
        "    model.add(Dense(units2, activation = 'relu')) \n",
        "    model.add(Dropout(dropout))\n",
        "\n",
        "    # model.add(Dense(units2, activation = 'relu')) \n",
        "    # model.add(Dropout(dropout))\n",
        "\n",
        "    model.add(Dense(units = 2, activation = 'sigmoid'))\n",
        "    return model"
      ]
    },
    {
      "cell_type": "code",
      "execution_count": null,
      "metadata": {
        "colab": {
          "base_uri": "https://localhost:8080/"
        },
        "id": "Oo5u8Uey8rkd",
        "outputId": "d1051dfd-b2a1-4556-88ff-3a8d3293a53d"
      },
      "outputs": [
        {
          "name": "stdout",
          "output_type": "stream",
          "text": [
            "WARNING:tensorflow:Layer lstm_33 will not use cuDNN kernels since it doesn't meet the criteria. It will use a generic GPU kernel as fallback when running on GPU.\n"
          ]
        },
        {
          "name": "stderr",
          "output_type": "stream",
          "text": [
            "WARNING:tensorflow:Layer lstm_33 will not use cuDNN kernels since it doesn't meet the criteria. It will use a generic GPU kernel as fallback when running on GPU.\n"
          ]
        },
        {
          "name": "stdout",
          "output_type": "stream",
          "text": [
            "WARNING:tensorflow:Layer lstm_34 will not use cuDNN kernels since it doesn't meet the criteria. It will use a generic GPU kernel as fallback when running on GPU.\n"
          ]
        },
        {
          "name": "stderr",
          "output_type": "stream",
          "text": [
            "WARNING:tensorflow:Layer lstm_34 will not use cuDNN kernels since it doesn't meet the criteria. It will use a generic GPU kernel as fallback when running on GPU.\n"
          ]
        },
        {
          "name": "stdout",
          "output_type": "stream",
          "text": [
            "Model: \"sequential_33\"\n",
            "_________________________________________________________________\n",
            " Layer (type)                Output Shape              Param #   \n",
            "=================================================================\n",
            " lstm_33 (LSTM)              (None, 24, 16)            3392      \n",
            "                                                                 \n",
            " dropout_43 (Dropout)        (None, 24, 16)            0         \n",
            "                                                                 \n",
            " lstm_34 (LSTM)              (None, 32)                6272      \n",
            "                                                                 \n",
            " dropout_44 (Dropout)        (None, 32)                0         \n",
            "                                                                 \n",
            " dense_43 (Dense)            (None, 2)                 66        \n",
            "                                                                 \n",
            "=================================================================\n",
            "Total params: 9,730\n",
            "Trainable params: 9,730\n",
            "Non-trainable params: 0\n",
            "_________________________________________________________________\n",
            "Epoch 1/25\n",
            "495/495 [==============================] - 45s 85ms/step - loss: 0.7205 - auc: 0.4362 - val_loss: 0.7189 - val_auc: 0.0663\n",
            "Epoch 2/25\n",
            "495/495 [==============================] - 43s 86ms/step - loss: 0.6963 - auc: 0.3070 - val_loss: 0.6897 - val_auc: 0.6573\n"
          ]
        }
      ],
      "source": [
        "seed = 7\n",
        "tf.random.set_seed(seed)\n",
        "\n",
        "batch_size = 40\n",
        "dropout = 0.1\n",
        "learning_rate = 0.001\n",
        "units1 = 16\n",
        "units2 = 32\n",
        "units3 = 128\n",
        "epoch = 25\n",
        "class_weight = 1\n",
        "\n",
        "history, model = run_model(X_train, Y_train,X_validation, Y_validation, units1,units2,units3, batch_size, epoch, class_weight, dropout, learning_rate) # learning_rate, batch_size, epoch\n",
        "\n",
        "\n"
      ]
    },
    {
      "cell_type": "code",
      "execution_count": null,
      "metadata": {
        "colab": {
          "base_uri": "https://localhost:8080/",
          "height": 573
        },
        "id": "9ECaWezZT0EX",
        "outputId": "3580ffff-5f9f-43e5-9ec5-84d0fbd2a2bb"
      },
      "outputs": [
        {
          "data": {
            "image/png": "[encoded data removed]",
            "text/plain": [
              "<Figure size 432x288 with 1 Axes>"
            ]
          },
          "metadata": {},
          "output_type": "display_data"
        },
        {
          "data": {
            "image/png": "[encoded data removed]",
            "text/plain": [
              "<Figure size 432x288 with 1 Axes>"
            ]
          },
          "metadata": {},
          "output_type": "display_data"
        }
      ],
      "source": [
        "plot_loss(history)\n",
        "plot_metric(history)\n"
      ]
    },
    {
      "cell_type": "code",
      "execution_count": null,
      "metadata": {
        "colab": {
          "base_uri": "https://localhost:8080/",
          "height": 516
        },
        "id": "qUfMQtmaT8er",
        "outputId": "083892b1-a391-4a02-d6ec-86b95098d2e0"
      },
      "outputs": [
        {
          "name": "stdout",
          "output_type": "stream",
          "text": [
            "classification report:\n",
            "              precision    recall  f1-score   support\n",
            "\n",
            "           0       0.93      0.73      0.82      5279\n",
            "           1       0.06      0.25      0.10       377\n",
            "\n",
            "    accuracy                           0.70      5656\n",
            "   macro avg       0.50      0.49      0.46      5656\n",
            "weighted avg       0.87      0.70      0.77      5656\n",
            "\n",
            "===============================================================================\n",
            "AUROC 0.4871421371803497\n",
            "AUPRC 0.06519690905221397\n"
          ]
        },
        {
          "data": {
            "image/png": "[encoded data removed]",
            "text/plain": [
              "<Figure size 432x288 with 2 Axes>"
            ]
          },
          "metadata": {},
          "output_type": "display_data"
        }
      ],
      "source": [
        "from sklearn.metrics import plot_confusion_matrix\n",
        "import seaborn as sns\n",
        "\n",
        "final_predictions= np.argmax(model.predict(X_test),axis=1)\n",
        "\n",
        "\n",
        "cm = confusion_matrix(y_test, final_predictions)\n",
        "# print('confusion matrix:')\n",
        "# print(cm)\n",
        "# #print('\\n')\n",
        "print('classification report:')\n",
        "print(classification_report(y_test, final_predictions))\n",
        "\n",
        "print('===============================================================================')\n",
        "print(\"AUROC\",roc_auc_score(y_test, final_predictions))\n",
        "print(\"AUPRC\",average_precision_score(y_test, final_predictions))\n",
        "\n",
        "\n",
        "\n",
        "ax= plt.subplot()\n",
        "sns.heatmap(cm, annot=True, fmt='g', ax=ax, cmap=\"YlGnBu\");  #annot=True to annotate cells, ftm='g' to disable scientific notation\n",
        "  # labels, title and ticks\n",
        "ax.set_xlabel('Predicted labels');ax.set_ylabel('True labels'); \n",
        "ax.set_title('Confusion Matrix'); \n",
        "ax.xaxis.set_ticklabels(['Live', 'dead']); ax.yaxis.set_ticklabels(['Live', 'dead']);\n",
        "\n"
      ]
    },
    {
      "cell_type": "code",
      "execution_count": null,
      "metadata": {
        "colab": {
          "base_uri": "https://localhost:8080/",
          "height": 295
        },
        "id": "A2nGkmIjUDDa",
        "outputId": "3d75f844-e993-4e72-dc6f-f696c1e740f9"
      },
      "outputs": [
        {
          "data": {
            "image/png": "[encoded data removed]",
            "text/plain": [
              "<Figure size 432x288 with 1 Axes>"
            ]
          },
          "metadata": {},
          "output_type": "display_data"
        }
      ],
      "source": [
        "buildROC(y_test, final_predictions)"
      ]
    },
    {
      "cell_type": "markdown",
      "metadata": {
        "id": "aKT7tSAAIqqs"
      },
      "source": [
        "##Experiment 5"
      ]
    },
    {
      "cell_type": "code",
      "execution_count": null,
      "metadata": {
        "id": "-bJ-DCGvwYVP"
      },
      "outputs": [],
      "source": [
        "# from keras import callbacks\n",
        "# earlystopping = callbacks.EarlyStopping(monitor =\"val_loss\", \n",
        "#                                         mode =\"min\", patience = 2, \n",
        "#                                         restore_best_weights = True)\n",
        "  "
      ]
    },
    {
      "cell_type": "code",
      "execution_count": null,
      "metadata": {
        "id": "se9UouRLwjPQ"
      },
      "outputs": [],
      "source": [
        "import tensorflow as tf\n",
        "#by default -> monitor='val_loss' and patience=0\n",
        "early_stopping = EarlyStopping()\n",
        "\n",
        "def run_model(X_train, Y_train,X_validation, Y_validation, units1, units2, units3, batch_sz, epoch_sz, cw, dropout, learning_rate): #, units, dropout, learning_rate, batch_size, epoch\n",
        "  model = get_model(X_train, Y_train, units1, units2, units3, dropout)\n",
        "  model.summary()\n",
        "  model.compile(\n",
        "    optimizer = tf.keras.optimizers.Adam(learning_rate=learning_rate),\n",
        "    loss= 'binary_crossentropy',\n",
        "    metrics = [\"AUC\"]) # the default AUC is ROC\n",
        "\n",
        "  #verbose, epochs, batch_size = 2, epoch_sz, batch_sz  #change the batch size to 40 as Msh and 250 as Purush\n",
        "  verbose = 1\n",
        "  if cw == 0: \n",
        "    history = model.fit(X_train, Y_train,\n",
        "          epochs=epoch_sz, \n",
        "          batch_size=batch_sz, \n",
        "          verbose=verbose, \n",
        "          validation_data = (X_validation, Y_validation),\n",
        "          callbacks=[early_stopping],)\n",
        "          #class_weight=class_weights)\n",
        "  else:\n",
        "    history = model.fit(X_train, Y_train,\n",
        "          epochs=epoch_sz, \n",
        "          batch_size=batch_sz, \n",
        "          verbose=verbose, \n",
        "          validation_data = (X_validation, Y_validation),\n",
        "          callbacks=[early_stopping],\n",
        "          class_weight=class_weights)\n",
        "\n",
        "  return history, model\n",
        "\n"
      ]
    },
    {
      "cell_type": "code",
      "execution_count": null,
      "metadata": {
        "id": "ZpkHO-rfJCQj"
      },
      "outputs": [],
      "source": [
        "from keras.regularizers import l2\n",
        "\n",
        "def get_model(trainX, trainy, units1, units2, units3, dropout):\n",
        "  \n",
        "    model = Sequential()\n",
        "\n",
        "    model.add(LSTM(units1, activation = 'relu', input_shape = (nb_timestps, nb_feat), kernel_regularizer=l2(0.0001), recurrent_regularizer=l2(0.0001), bias_regularizer=l2(0.0001))) \n",
        "    model.add(Dropout(dropout))\n",
        "\n",
        "    # model.add(Dense(units2, activation = 'relu')) \n",
        "    # model.add(Dropout(dropout))\n",
        "\n",
        "    #model.add(Dense(units3, activation = 'relu')) \n",
        "    #model.add(Dropout(dropout))\n",
        "\n",
        "    model.add(Dense(units = 2, activation = 'sigmoid'))\n",
        "    return model"
      ]
    },
    {
      "cell_type": "code",
      "execution_count": null,
      "metadata": {
        "colab": {
          "base_uri": "https://localhost:8080/"
        },
        "id": "ChyOmwvqWaBr",
        "outputId": "de389ec8-a657-4366-8a8a-19218f29a28d"
      },
      "outputs": [
        {
          "name": "stdout",
          "output_type": "stream",
          "text": [
            "WARNING:tensorflow:Layer lstm will not use cuDNN kernels since it doesn't meet the criteria. It will use a generic GPU kernel as fallback when running on GPU.\n",
            "Model: \"sequential\"\n",
            "_________________________________________________________________\n",
            " Layer (type)                Output Shape              Param #   \n",
            "=================================================================\n",
            " lstm (LSTM)                 (None, 16)                3392      \n",
            "                                                                 \n",
            " dropout (Dropout)           (None, 16)                0         \n",
            "                                                                 \n",
            " dense (Dense)               (None, 2)                 34        \n",
            "                                                                 \n",
            "=================================================================\n",
            "Total params: 3,426\n",
            "Trainable params: 3,426\n",
            "Non-trainable params: 0\n",
            "_________________________________________________________________\n",
            "Epoch 1/25\n",
            "155/155 [==============================] - 13s 49ms/step - loss: 0.7016 - auc: 0.4501 - val_loss: 0.7002 - val_auc: 0.4575\n",
            "Epoch 2/25\n",
            "155/155 [==============================] - 7s 46ms/step - loss: 0.6982 - auc: 0.4785 - val_loss: 0.6877 - val_auc: 0.6929\n"
          ]
        }
      ],
      "source": [
        "seed = 7\n",
        "tf.random.set_seed(seed)\n",
        "\n",
        "batch_size = 128\n",
        "dropout = 0.1\n",
        "learning_rate = 0.001\n",
        "units1 = 16\n",
        "units2 = 32\n",
        "units3 = 64\n",
        "epoch = 25\n",
        "class_weight = 1\n",
        "\n",
        "history, model = run_model(X_train, Y_train,X_validation, Y_validation, units1,units2,units3, batch_size, epoch, class_weight, dropout, learning_rate) # learning_rate, batch_size, epoch\n",
        "\n",
        "\n"
      ]
    },
    {
      "cell_type": "code",
      "execution_count": null,
      "metadata": {
        "colab": {
          "base_uri": "https://localhost:8080/",
          "height": 573
        },
        "id": "Gwx_4XQzWkHF",
        "outputId": "a891b1ea-eb2b-4b32-945a-7fce83878c20"
      },
      "outputs": [
        {
          "data": {
            "image/png": "[encoded data removed]",
            "text/plain": [
              "<Figure size 432x288 with 1 Axes>"
            ]
          },
          "metadata": {},
          "output_type": "display_data"
        },
        {
          "data": {
            "image/png": "[encoded data removed]",
            "text/plain": [
              "<Figure size 432x288 with 1 Axes>"
            ]
          },
          "metadata": {},
          "output_type": "display_data"
        }
      ],
      "source": [
        "plot_loss(history)\n",
        "plot_metric(history)"
      ]
    },
    {
      "cell_type": "code",
      "execution_count": null,
      "metadata": {
        "colab": {
          "base_uri": "https://localhost:8080/",
          "height": 516
        },
        "id": "azlRoDVxWohg",
        "outputId": "32f8432b-e832-46ab-bbee-bfdbcca81d7a"
      },
      "outputs": [
        {
          "name": "stdout",
          "output_type": "stream",
          "text": [
            "classification report:\n",
            "              precision    recall  f1-score   support\n",
            "\n",
            "           0       0.94      0.68      0.79      5279\n",
            "           1       0.08      0.42      0.14       377\n",
            "\n",
            "    accuracy                           0.66      5656\n",
            "   macro avg       0.51      0.55      0.46      5656\n",
            "weighted avg       0.88      0.66      0.74      5656\n",
            "\n",
            "===============================================================================\n",
            "AUROC 0.5472077190891491\n",
            "AUPRC 0.07409254311912084\n"
          ]
        },
        {
          "data": {
            "image/png": "[encoded data removed]",
            "text/plain": [
              "<Figure size 432x288 with 2 Axes>"
            ]
          },
          "metadata": {},
          "output_type": "display_data"
        }
      ],
      "source": [
        "from sklearn.metrics import plot_confusion_matrix\n",
        "import seaborn as sns\n",
        "\n",
        "final_predictions= np.argmax(model.predict(X_test),axis=1)\n",
        "\n",
        "\n",
        "cm = confusion_matrix(y_test, final_predictions)\n",
        "# print('confusion matrix:')\n",
        "# print(cm)\n",
        "# #print('\\n')\n",
        "print('classification report:')\n",
        "print(classification_report(y_test, final_predictions))\n",
        "\n",
        "print('===============================================================================')\n",
        "print(\"AUROC\",roc_auc_score(y_test, final_predictions))\n",
        "print(\"AUPRC\",average_precision_score(y_test, final_predictions))\n",
        "\n",
        "\n",
        "\n",
        "ax= plt.subplot()\n",
        "sns.heatmap(cm, annot=True, fmt='g', ax=ax, cmap=\"YlGnBu\");  #annot=True to annotate cells, ftm='g' to disable scientific notation\n",
        "  # labels, title and ticks\n",
        "ax.set_xlabel('Predicted labels');ax.set_ylabel('True labels'); \n",
        "ax.set_title('Confusion Matrix'); \n",
        "ax.xaxis.set_ticklabels(['Live', 'dead']); ax.yaxis.set_ticklabels(['Live', 'dead']);\n",
        "\n",
        "\n"
      ]
    },
    {
      "cell_type": "code",
      "execution_count": null,
      "metadata": {
        "colab": {
          "base_uri": "https://localhost:8080/",
          "height": 295
        },
        "id": "S2ctsn9tJZ7Q",
        "outputId": "6ede9b6c-8137-41da-c65b-ea9e372fd91c"
      },
      "outputs": [
        {
          "data": {
            "image/png": "[encoded data removed]",
            "text/plain": [
              "<Figure size 432x288 with 1 Axes>"
            ]
          },
          "metadata": {},
          "output_type": "display_data"
        }
      ],
      "source": [
        "buildROC(y_test, final_predictions)"
      ]
    },
    {
      "cell_type": "markdown",
      "metadata": {
        "id": "AEOOwgVxJdm9"
      },
      "source": [
        "#Repeat some experiments again to check"
      ]
    },
    {
      "cell_type": "code",
      "execution_count": null,
      "metadata": {
        "id": "Oy3aH2pzJ1YC"
      },
      "outputs": [],
      "source": [
        "import tensorflow as tf\n",
        "\n",
        "\n",
        "\n",
        "def run_model(X_train, Y_train,X_validation, Y_validation, units1, units2, units3\n",
        "              , batch_sz, epoch_sz, dropout, learning_rate): \n",
        "  model = get_model(X_train, Y_train, units1, units2, units3, dropout)\n",
        "  model.summary()\n",
        "  model.compile(\n",
        "    optimizer = tf.keras.optimizers.Adam(learning_rate=learning_rate),\n",
        "    loss= 'binary_crossentropy',\n",
        "    metrics = [\"AUC\"]) # the default AUC is ROC\n",
        "\n",
        "  #by default: monitor='val_loss' and patience=0\n",
        "  early_stopping = EarlyStopping()\n",
        "  verbose = 1\n",
        "  history = model.fit(X_train, Y_train,\n",
        "          epochs=epoch_sz, \n",
        "          batch_size=batch_sz, \n",
        "          verbose=verbose, \n",
        "          validation_data = (X_validation, Y_validation),\n",
        "          callbacks=[early_stopping],\n",
        "          class_weight=class_weights)\n",
        "\n",
        "  return history, model\n",
        "\n"
      ]
    },
    {
      "cell_type": "code",
      "execution_count": null,
      "metadata": {
        "id": "ffXq6UzJJjPU"
      },
      "outputs": [],
      "source": [
        "def get_model(trainX, trainy, units1, units2, units3, dropout):\n",
        "  \n",
        "    model = Sequential()\n",
        "\n",
        "    model.add(LSTM(units1, activation = 'relu', input_shape = (nb_timestps, nb_feat))) \n",
        "    model.add(Dropout(dropout))\n",
        "\n",
        "    # model.add(Dense(units2, activation = 'relu')) \n",
        "    # model.add(Dropout(dropout))\n",
        "\n",
        "    # model.add(Dense(units3, activation = 'relu')) \n",
        "    # model.add(Dropout(dropout))\n",
        "\n",
        "    model.add(Dense(units = 2, activation = 'sigmoid'))\n",
        "    return model\n"
      ]
    },
    {
      "cell_type": "code",
      "execution_count": null,
      "metadata": {
        "colab": {
          "base_uri": "https://localhost:8080/"
        },
        "id": "Mq0VSQADJhNo",
        "outputId": "6561f4ed-6165-4d9d-d421-ff9a44805a9d"
      },
      "outputs": [
        {
          "name": "stderr",
          "output_type": "stream",
          "text": [
            "WARNING:tensorflow:Layer lstm will not use cuDNN kernels since it doesn't meet the criteria. It will use a generic GPU kernel as fallback when running on GPU.\n"
          ]
        },
        {
          "name": "stdout",
          "output_type": "stream",
          "text": [
            "Model: \"sequential\"\n",
            "_________________________________________________________________\n",
            " Layer (type)                Output Shape              Param #   \n",
            "=================================================================\n",
            " lstm (LSTM)                 (None, 16)                3392      \n",
            "                                                                 \n",
            " dropout (Dropout)           (None, 16)                0         \n",
            "                                                                 \n",
            " dense (Dense)               (None, 2)                 34        \n",
            "                                                                 \n",
            "=================================================================\n",
            "Total params: 3,426\n",
            "Trainable params: 3,426\n",
            "Non-trainable params: 0\n",
            "_________________________________________________________________\n",
            "Epoch 1/100\n",
            "310/310 [==============================] - 18s 42ms/step - loss: 0.6957 - auc: 0.4857 - val_loss: 0.6980 - val_auc: 0.4083\n",
            "Epoch 2/100\n",
            "310/310 [==============================] - 12s 40ms/step - loss: 0.6936 - auc: 0.4648 - val_loss: 0.6881 - val_auc: 0.6164\n"
          ]
        }
      ],
      "source": [
        "seed = 7\n",
        "tf.random.set_seed(seed)\n",
        "\n",
        "batch_size = 64\n",
        "dropout = 0.1\n",
        "learning_rate = 0.001\n",
        "units1 = 16\n",
        "units2 = 32\n",
        "units3 = 64\n",
        "epoch = 100\n",
        "\n",
        "history, model = run_model(X_train, Y_train,X_validation, Y_validation, units1,units2,units3\n",
        "                           , batch_size, epoch, dropout, learning_rate)\n"
      ]
    },
    {
      "cell_type": "code",
      "execution_count": null,
      "metadata": {
        "colab": {
          "base_uri": "https://localhost:8080/",
          "height": 573
        },
        "id": "Z59TovgHVthk",
        "outputId": "4041cf4a-14f4-4617-8631-8561f98a6026"
      },
      "outputs": [
        {
          "data": {
            "image/png": "[encoded data removed]",
            "text/plain": [
              "<Figure size 432x288 with 1 Axes>"
            ]
          },
          "metadata": {},
          "output_type": "display_data"
        },
        {
          "data": {
            "image/png": "[encoded data removed]",
            "text/plain": [
              "<Figure size 432x288 with 1 Axes>"
            ]
          },
          "metadata": {},
          "output_type": "display_data"
        }
      ],
      "source": [
        "plot_loss(history)\n",
        "plot_metric(history)"
      ]
    },
    {
      "cell_type": "code",
      "execution_count": null,
      "metadata": {
        "colab": {
          "base_uri": "https://localhost:8080/",
          "height": 516
        },
        "id": "eelNFJEYKAFm",
        "outputId": "a36d4c1a-2c38-4c62-ef56-40e6801d4037"
      },
      "outputs": [
        {
          "name": "stdout",
          "output_type": "stream",
          "text": [
            "classification report:\n",
            "              precision    recall  f1-score   support\n",
            "\n",
            "           0       0.94      0.62      0.75      5279\n",
            "           1       0.08      0.48      0.14       377\n",
            "\n",
            "    accuracy                           0.61      5656\n",
            "   macro avg       0.51      0.55      0.44      5656\n",
            "weighted avg       0.89      0.61      0.71      5656\n",
            "\n",
            "===============================================================================\n",
            "AUROC 0.5470238164028132\n",
            "AUPRC 0.07382375538468715\n"
          ]
        },
        {
          "data": {
            "image/png": "[encoded data removed]",
            "text/plain": [
              "<Figure size 432x288 with 2 Axes>"
            ]
          },
          "metadata": {},
          "output_type": "display_data"
        }
      ],
      "source": [
        "from sklearn.metrics import plot_confusion_matrix\n",
        "import seaborn as sns\n",
        "\n",
        "final_predictions= np.argmax(model.predict(X_test),axis=1)\n",
        "\n",
        "\n",
        "cm = confusion_matrix(y_test, final_predictions)\n",
        "# print('confusion matrix:')\n",
        "# print(cm)\n",
        "# #print('\\n')\n",
        "print('classification report:')\n",
        "print(classification_report(y_test, final_predictions))\n",
        "\n",
        "print('===============================================================================')\n",
        "print(\"AUROC\",roc_auc_score(y_test, final_predictions))\n",
        "print(\"AUPRC\",average_precision_score(y_test, final_predictions))\n",
        "\n",
        "\n",
        "\n",
        "ax= plt.subplot()\n",
        "sns.heatmap(cm, annot=True, fmt='g', ax=ax, cmap=\"YlGnBu\");  #annot=True to annotate cells, ftm='g' to disable scientific notation\n",
        "  # labels, title and ticks\n",
        "ax.set_xlabel('Predicted labels');ax.set_ylabel('True labels'); \n",
        "ax.set_title('Confusion Matrix'); \n",
        "ax.xaxis.set_ticklabels(['Live', 'dead']); ax.yaxis.set_ticklabels(['Live', 'dead']);\n",
        "\n"
      ]
    },
    {
      "cell_type": "code",
      "execution_count": null,
      "metadata": {
        "colab": {
          "base_uri": "https://localhost:8080/",
          "height": 295
        },
        "id": "w9KzWQqnd3CR",
        "outputId": "ec1e82b9-297b-4363-8191-7ca8cd146fcb"
      },
      "outputs": [
        {
          "data": {
            "image/png": "[encoded data removed]",
            "text/plain": [
              "<Figure size 432x288 with 1 Axes>"
            ]
          },
          "metadata": {},
          "output_type": "display_data"
        }
      ],
      "source": [
        "buildROC(y_test, final_predictions)"
      ]
    },
    {
      "cell_type": "code",
      "execution_count": null,
      "metadata": {
        "colab": {
          "base_uri": "https://localhost:8080/",
          "height": 422
        },
        "id": "LQ0I42HRgVmh",
        "outputId": "9197ff9a-70ce-42fb-8501-a8f2c26f3bd7"
      },
      "outputs": [
        {
          "data": {
            "image/png": "[encoded data removed]",
            "text/plain": [
              "<IPython.core.display.Image object>"
            ]
          },
          "execution_count": 32,
          "metadata": {},
          "output_type": "execute_result"
        }
      ],
      "source": [
        "from keras.utils.vis_utils import plot_model\n",
        "plot_model(model, to_file='model_plot.png', show_shapes=True, show_layer_names=True)"
      ]
    },
    {
      "cell_type": "markdown",
      "metadata": {
        "id": "d5xhB-zY9Y_v"
      },
      "source": [
        "#Prepare one sample from each class "
      ]
    },
    {
      "cell_type": "code",
      "execution_count": null,
      "metadata": {
        "id": "GAVKLaZk9dFQ"
      },
      "outputs": [],
      "source": [
        "alive = pd.read_csv(DATA_FILEPATH + '1_sample.csv') \n",
        "died = pd.read_csv(DATA_FILEPATH + '2_sample_d.csv') "
      ]
    },
    {
      "cell_type": "code",
      "execution_count": null,
      "metadata": {
        "colab": {
          "base_uri": "https://localhost:8080/"
        },
        "id": "AMHnRinw9hTt",
        "outputId": "8e47a950-cf3f-48b7-f06c-c4d784fb6158"
      },
      "outputs": [
        {
          "name": "stdout",
          "output_type": "stream",
          "text": [
            "alive shape  (24, 37)\n"
          ]
        }
      ],
      "source": [
        "alive.drop(['subject_id','hadm_id','hours_in', 'icustay_id'], axis=1, inplace=True)\n",
        "print(\"alive shape \", alive.shape)"
      ]
    },
    {
      "cell_type": "code",
      "execution_count": null,
      "metadata": {
        "colab": {
          "base_uri": "https://localhost:8080/"
        },
        "id": "g9RvecQkd7nl",
        "outputId": "e0256931-cfb5-413a-cf4b-2e695019f9ff"
      },
      "outputs": [
        {
          "name": "stdout",
          "output_type": "stream",
          "text": [
            "dead shape  (24, 37)\n"
          ]
        }
      ],
      "source": [
        "died.drop(['subject_id','hadm_id','hours_in', 'icustay_id'], axis=1, inplace=True)\n",
        "print(\"dead shape \", died.shape)"
      ]
    },
    {
      "cell_type": "code",
      "execution_count": null,
      "metadata": {
        "colab": {
          "base_uri": "https://localhost:8080/"
        },
        "id": "9ZBEseFd9zAa",
        "outputId": "48464a7b-94cb-4538-eaef-fe8638552636"
      },
      "outputs": [
        {
          "data": {
            "text/plain": [
              "subject_id\n",
              "30165    1\n",
              "30165    1\n",
              "30165    1\n",
              "30165    1\n",
              "30165    1\n",
              "30165    1\n",
              "30165    1\n",
              "30165    1\n",
              "30165    1\n",
              "30165    1\n",
              "30165    1\n",
              "30165    1\n",
              "30165    1\n",
              "30165    1\n",
              "30165    1\n",
              "30165    1\n",
              "30165    1\n",
              "30165    1\n",
              "30165    1\n",
              "30165    1\n",
              "30165    1\n",
              "30165    1\n",
              "30165    1\n",
              "30165    1\n",
              "Name: mort_icu, dtype: int64"
            ]
          },
          "execution_count": 149,
          "metadata": {},
          "output_type": "execute_result"
        }
      ],
      "source": [
        "train['mort_icu']"
      ]
    },
    {
      "cell_type": "code",
      "execution_count": null,
      "metadata": {
        "colab": {
          "base_uri": "https://localhost:8080/"
        },
        "id": "aNwMiAul959g",
        "outputId": "8b0b7b35-b61e-4590-faf8-197c5dfb746b"
      },
      "outputs": [
        {
          "name": "stdout",
          "output_type": "stream",
          "text": [
            "alive shape  (24, 36)\n"
          ]
        }
      ],
      "source": [
        "alive.drop(['mort_icu'], axis=1, inplace=True)\n",
        "print(\"alive shape \", alive.shape)"
      ]
    },
    {
      "cell_type": "code",
      "execution_count": null,
      "metadata": {
        "colab": {
          "base_uri": "https://localhost:8080/"
        },
        "id": "_khToBX_glvX",
        "outputId": "c9650b2b-3feb-4f0e-a5bd-9863bea63480"
      },
      "outputs": [
        {
          "name": "stdout",
          "output_type": "stream",
          "text": [
            "died shape  (24, 36)\n"
          ]
        }
      ],
      "source": [
        "died.drop(['mort_icu'], axis=1, inplace=True)\n",
        "print(\"died shape \", died.shape)"
      ]
    },
    {
      "cell_type": "markdown",
      "source": [
        "LSTM pre-processing"
      ],
      "metadata": {
        "id": "k2RoC-ArTnEq"
      }
    },
    {
      "cell_type": "code",
      "execution_count": null,
      "metadata": {
        "id": "NTFRjzlD9iRD"
      },
      "outputs": [],
      "source": [
        "#LSTM preprocessing\n",
        "\n",
        "#scale\n",
        "\n",
        "alive= fitted_scaler_MinMaxScaler.transform(alive)\n",
        "died= fitted_scaler_MinMaxScaler.transform(died)\n",
        "\n",
        "#reshape\n",
        "\n",
        "#fill x when you decide what are the features that user will enter\n",
        "\n",
        "alive = alive.reshape((1, 24, 36))\n",
        "died = died.reshape((1, 24, 36))\n"
      ]
    },
    {
      "cell_type": "markdown",
      "source": [
        "##Test on alive patient"
      ],
      "metadata": {
        "id": "l85z9drRTslH"
      }
    },
    {
      "cell_type": "code",
      "execution_count": null,
      "metadata": {
        "colab": {
          "base_uri": "https://localhost:8080/"
        },
        "id": "zLT2tnyf-DyC",
        "outputId": "ef6a42fd-8148-4b92-8d48-5d22cd462c45"
      },
      "outputs": [
        {
          "data": {
            "text/plain": [
              "array([[0.5376903 , 0.46168247]], dtype=float32)"
            ]
          },
          "execution_count": 49,
          "metadata": {},
          "output_type": "execute_result"
        }
      ],
      "source": [
        "final_predictions= model.predict(alive)\n",
        "final_predictions"
      ]
    },
    {
      "cell_type": "code",
      "execution_count": null,
      "metadata": {
        "colab": {
          "base_uri": "https://localhost:8080/"
        },
        "id": "9l3qiuUSCATt",
        "outputId": "e725c3d5-2a69-4ad7-a45c-ca3c130bda88"
      },
      "outputs": [
        {
          "data": {
            "text/plain": [
              "array([0])"
            ]
          },
          "execution_count": 50,
          "metadata": {},
          "output_type": "execute_result"
        }
      ],
      "source": [
        "np.argmax(final_predictions,axis=1)"
      ]
    },
    {
      "cell_type": "markdown",
      "metadata": {
        "id": "2-2BQxZ5CPF9"
      },
      "source": [
        "##Test on died patient"
      ]
    },
    {
      "cell_type": "code",
      "execution_count": null,
      "metadata": {
        "colab": {
          "base_uri": "https://localhost:8080/"
        },
        "id": "dEv88NZzCrDe",
        "outputId": "5b183d04-bddb-4532-a241-e3b4847472de"
      },
      "outputs": [
        {
          "data": {
            "text/plain": [
              "array([[0.5471366 , 0.46999678]], dtype=float32)"
            ]
          },
          "execution_count": 52,
          "metadata": {},
          "output_type": "execute_result"
        }
      ],
      "source": [
        "final_predictions= model.predict(died)\n",
        "final_predictions"
      ]
    },
    {
      "cell_type": "code",
      "execution_count": null,
      "metadata": {
        "colab": {
          "base_uri": "https://localhost:8080/"
        },
        "id": "W7C_M_b9C0NZ",
        "outputId": "f69a5aa5-7503-4f8a-bb2f-fcdc8a098d36"
      },
      "outputs": [
        {
          "data": {
            "text/plain": [
              "array([0])"
            ]
          },
          "execution_count": 53,
          "metadata": {},
          "output_type": "execute_result"
        }
      ],
      "source": [
        "np.argmax(final_predictions,axis=1)"
      ]
    }
  ],
  "metadata": {
    "accelerator": "GPU",
    "colab": {
      "background_execution": "on",
      "collapsed_sections": [],
      "machine_shape": "hm",
      "name": "LSTM_final_36.ipynb",
      "provenance": [],
      "toc_visible": true,
      "authorship_tag": "ABX9TyMnbBmv3mNlbwj8ITwN1cQT",
      "include_colab_link": true
    },
    "gpuClass": "standard",
    "kernelspec": {
      "display_name": "Python 3",
      "name": "python3"
    },
    "language_info": {
      "name": "python"
    }
  },
  "nbformat": 4,
  "nbformat_minor": 0
}