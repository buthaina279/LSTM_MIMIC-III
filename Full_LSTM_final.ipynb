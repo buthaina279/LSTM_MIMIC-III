{
  "cells": [
    {
      "cell_type": "markdown",
      "metadata": {
        "id": "view-in-github",
        "colab_type": "text"
      },
      "source": [
        "<a href=\"https://colab.research.google.com/github/buthaina279/LSTM_MIMIC-III/blob/main/Full_LSTM_final.ipynb\" target=\"_parent\"><img src=\"https://colab.research.google.com/assets/colab-badge.svg\" alt=\"Open In Colab\"/></a>"
      ]
    },
    {
      "cell_type": "code",
      "execution_count": null,
      "metadata": {
        "colab": {
          "base_uri": "https://localhost:8080/"
        },
        "id": "Tg1HwYceP5cy",
        "outputId": "ece5e6f8-5bcf-42f1-98ff-cd3417d19215"
      },
      "outputs": [
        {
          "output_type": "stream",
          "name": "stdout",
          "text": [
            "Mounted at /content/drive\n"
          ]
        }
      ],
      "source": [
        "from google.colab import drive\n",
        "drive.mount('/content/drive')"
      ]
    },
    {
      "cell_type": "code",
      "execution_count": null,
      "metadata": {
        "id": "Sw7g8IA-QES0"
      },
      "outputs": [],
      "source": [
        "#for google drive\n",
        "DATA_FILEPATH = \"/content/drive/MyDrive/final_project/\""
      ]
    },
    {
      "cell_type": "code",
      "execution_count": null,
      "metadata": {
        "id": "E4i3zhoLQEfw"
      },
      "outputs": [],
      "source": [
        "import warnings\n",
        "warnings.filterwarnings(\"ignore\")\n",
        "\n",
        "from __future__ import division\n",
        "import numpy as np\n",
        "import pandas as pd\n",
        "from numpy import random\n",
        "from sklearn.metrics import accuracy_score, confusion_matrix, classification_report, roc_auc_score, roc_curve, auc, make_scorer, fbeta_score, average_precision_score\n",
        "import matplotlib.pyplot as plt\n",
        "from keras import optimizers\n",
        "from sklearn import preprocessing\n",
        "from keras.models import Sequential, Model\n",
        "from keras.layers import LSTM, Dense, Input, Activation, Bidirectional, Dropout\n",
        "from tensorflow.keras.callbacks import EarlyStopping"
      ]
    },
    {
      "cell_type": "markdown",
      "metadata": {
        "id": "gtvsOAXg8x8-"
      },
      "source": [
        "##Read "
      ]
    },
    {
      "cell_type": "code",
      "execution_count": null,
      "metadata": {
        "id": "bIrtzrDeQFGQ"
      },
      "outputs": [],
      "source": [
        "import pandas as pd, numpy as np\n",
        "train = pd.read_csv(DATA_FILEPATH + 'train.csv',index_col=0) \n",
        "validation = pd.read_csv(DATA_FILEPATH + 'validation.csv',index_col=0) \n",
        "test = pd.read_csv(DATA_FILEPATH + 'test.csv',index_col=0) "
      ]
    },
    {
      "cell_type": "code",
      "execution_count": null,
      "metadata": {
        "id": "Pp3BZLIYQZpF"
      },
      "outputs": [],
      "source": [
        "train_ids = pd.read_csv(DATA_FILEPATH + 'train_ids.csv',index_col=0) \n",
        "validation_ids = pd.read_csv(DATA_FILEPATH + 'validation_ids.csv',index_col=0) \n",
        "test_ids = pd.read_csv(DATA_FILEPATH + 'test_ids.csv',index_col=0) "
      ]
    },
    {
      "cell_type": "markdown",
      "source": [
        "Drop IDs and keep only the icustay_id because it is needed for the next operations"
      ],
      "metadata": {
        "id": "9k5UZWRWMGTQ"
      }
    },
    {
      "cell_type": "code",
      "execution_count": null,
      "metadata": {
        "colab": {
          "base_uri": "https://localhost:8080/"
        },
        "id": "phWYOxaVUavm",
        "outputId": "7a4feb31-cacf-4855-e91a-6eb14d624684"
      },
      "outputs": [
        {
          "output_type": "stream",
          "name": "stdout",
          "text": [
            "train shape  (465471, 77)\n",
            "validation shape  (66629, 77)\n",
            "test shape  (133038, 77)\n"
          ]
        }
      ],
      "source": [
        "train.drop(['subject_id', 'hadm_id','hours_in'], axis=1, inplace=True)\n",
        "print(\"train shape \", train.shape)\n",
        "validation.drop(['subject_id', 'hadm_id','hours_in'], axis=1, inplace=True)\n",
        "print(\"validation shape \", validation.shape)\n",
        "test.drop(['subject_id', 'hadm_id','hours_in'], axis=1, inplace=True)\n",
        "print(\"test shape \", test.shape )"
      ]
    },
    {
      "cell_type": "markdown",
      "source": [
        "##Extract the labels"
      ],
      "metadata": {
        "id": "yRnlcTJAMSWP"
      }
    },
    {
      "cell_type": "code",
      "execution_count": null,
      "metadata": {
        "id": "ryX_cuxtVDBd"
      },
      "outputs": [],
      "source": [
        "def get_lables_drop(train, test, validation):\n",
        "  # training labels\n",
        "  group_train = train.groupby('icustay_id')\n",
        "  train_goal_df = group_train.apply(lambda x: x['mort_icu'].unique())\n",
        "  train_goal_df = train_goal_df.apply(pd.Series)\n",
        "  print(\"train lables \\n\")\n",
        "  print(train_goal_df.shape)\n",
        "  #train_goal_df.head()\n",
        "\n",
        "  # Drop the label column now that labels have been extracted\n",
        "  train = train.drop(['mort_icu'],axis=1)\n",
        "  print(\"drop train lables \\n\")\n",
        "  print(train.shape)\n",
        "  train.head()\n",
        "\n",
        "  # validation labels\n",
        "  group_validation = validation.groupby('icustay_id')\n",
        "  validation_goal_df = group_validation.apply(lambda x: x['mort_icu'].unique())\n",
        "  validation_goal_df = validation_goal_df.apply(pd.Series)\n",
        "  print(\"validation lables \\n\")\n",
        "  print(validation_goal_df.shape)\n",
        "  validation_goal_df.head()\n",
        "\n",
        "  #Drop the label column now that labels have been extracted\n",
        "  validation = validation.drop(['mort_icu'],axis=1)\n",
        "  print(\"drop validation lables \\n\")\n",
        "  print(validation.shape)\n",
        "  validation.head()\n",
        "\n",
        "  # test labels\n",
        "  group_test = test.groupby('icustay_id')\n",
        "  test_goal_df = group_test.apply(lambda x: x['mort_icu'].unique())\n",
        "  test_goal_df = test_goal_df.apply(pd.Series)\n",
        "  print(\"test lables \\n\")\n",
        "  print(test_goal_df.shape)\n",
        "  #test_goal_df.head()\n",
        "\n",
        "  # Drop the label column now that labels have been extracted\n",
        "  test = test.drop(['mort_icu'],axis=1)\n",
        "  print(\"drop test lables \\n\")\n",
        "  print(test.shape)\n",
        "  test.head()\n",
        "\n",
        "  return train, test, validation,  train_goal_df, test_goal_df, validation_goal_df\n"
      ]
    },
    {
      "cell_type": "code",
      "execution_count": null,
      "metadata": {
        "colab": {
          "base_uri": "https://localhost:8080/"
        },
        "id": "_Nl8bNdYVTno",
        "outputId": "cf6a7bc1-d424-4422-c997-b6cf7f614c3e"
      },
      "outputs": [
        {
          "output_type": "stream",
          "name": "stdout",
          "text": [
            "train lables \n",
            "\n",
            "(19792, 1)\n",
            "drop train lables \n",
            "\n",
            "(465471, 76)\n",
            "validation lables \n",
            "\n",
            "(2827, 1)\n",
            "drop validation lables \n",
            "\n",
            "(66629, 76)\n",
            "test lables \n",
            "\n",
            "(5656, 1)\n",
            "drop test lables \n",
            "\n",
            "(133038, 76)\n"
          ]
        }
      ],
      "source": [
        "train, test, validation,  train_goal_df, test_goal_df, validation_goal_df = get_lables_drop(train, test, validation)"
      ]
    },
    {
      "cell_type": "code",
      "execution_count": null,
      "metadata": {
        "colab": {
          "base_uri": "https://localhost:8080/"
        },
        "id": "C3vC0kzvVsOp",
        "outputId": "a33038e5-9476-40fc-b4b8-9df937304fe1"
      },
      "outputs": [
        {
          "output_type": "stream",
          "name": "stdout",
          "text": [
            "(19792,)\n",
            "[0 0 1 ... 0 0 0]\n",
            "\n",
            "\n",
            "(2827,)\n",
            "[0 0 0 ... 0 0 0]\n",
            "\n",
            "\n",
            "(5656,)\n",
            "[0 0 0 ... 0 0 0]\n"
          ]
        }
      ],
      "source": [
        "y_train = train_goal_df[0]\n",
        "y_validation = validation_goal_df[0]\n",
        "y_test = test_goal_df[0]\n",
        "\n",
        "y_train = np.asarray(y_train)\n",
        "y_validation = np.asarray(y_validation)\n",
        "y_test = np.asarray(y_test)\n",
        "\n",
        "print(y_train.shape)\n",
        "print(y_train)\n",
        "print('\\n')\n",
        "print(y_validation.shape)\n",
        "print(y_validation)\n",
        "print('\\n')\n",
        "print(y_test.shape)\n",
        "print(y_test)"
      ]
    },
    {
      "cell_type": "markdown",
      "source": [
        "##Feature Scaling"
      ],
      "metadata": {
        "id": "Au6vMeO0Mc2g"
      }
    },
    {
      "cell_type": "code",
      "execution_count": null,
      "metadata": {
        "colab": {
          "base_uri": "https://localhost:8080/"
        },
        "id": "mjBiYorTV1Nq",
        "outputId": "cdca7a35-a77e-46d8-a5fc-88392f32636f"
      },
      "outputs": [
        {
          "output_type": "stream",
          "name": "stdout",
          "text": [
            "['icustay_id', 'age', 'fullcode_first', 'dnr_first', 'fullcode', 'dnr', 'cmo_first', 'cmo_last', 'cmo', 'los_icu', 'readmission_30', 'max_hours', 'diastolic blood pressure_mean', 'glucose_mean', 'heart rate_mean', 'mean blood pressure_mean', 'oxygen saturation_mean', 'respiratory rate_mean', 'systolic blood pressure_mean', 'temperature_mean', 'gender_F', 'gender_M', 'ethnicity_AMERICAN INDIAN/ALASKA NATIVE', 'ethnicity_AMERICAN INDIAN/ALASKA NATIVE FEDERALLY RECOGNIZED TRIBE', 'ethnicity_ASIAN', 'ethnicity_ASIAN - ASIAN INDIAN', 'ethnicity_ASIAN - CAMBODIAN', 'ethnicity_ASIAN - CHINESE', 'ethnicity_ASIAN - FILIPINO', 'ethnicity_ASIAN - JAPANESE', 'ethnicity_ASIAN - KOREAN', 'ethnicity_ASIAN - OTHER', 'ethnicity_ASIAN - THAI', 'ethnicity_ASIAN - VIETNAMESE', 'ethnicity_BLACK/AFRICAN', 'ethnicity_BLACK/AFRICAN AMERICAN', 'ethnicity_BLACK/CAPE VERDEAN', 'ethnicity_BLACK/HAITIAN', 'ethnicity_CARIBBEAN ISLAND', 'ethnicity_HISPANIC OR LATINO', 'ethnicity_HISPANIC/LATINO - CENTRAL AMERICAN (OTHER)', 'ethnicity_HISPANIC/LATINO - COLOMBIAN', 'ethnicity_HISPANIC/LATINO - CUBAN', 'ethnicity_HISPANIC/LATINO - DOMINICAN', 'ethnicity_HISPANIC/LATINO - GUATEMALAN', 'ethnicity_HISPANIC/LATINO - HONDURAN', 'ethnicity_HISPANIC/LATINO - MEXICAN', 'ethnicity_HISPANIC/LATINO - PUERTO RICAN', 'ethnicity_HISPANIC/LATINO - SALVADORAN', 'ethnicity_MIDDLE EASTERN', 'ethnicity_MULTI RACE ETHNICITY', 'ethnicity_NATIVE HAWAIIAN OR OTHER PACIFIC ISLANDER', 'ethnicity_OTHER', 'ethnicity_PATIENT DECLINED TO ANSWER', 'ethnicity_PORTUGUESE', 'ethnicity_SOUTH AMERICAN', 'ethnicity_UNABLE TO OBTAIN', 'ethnicity_UNKNOWN/NOT SPECIFIED', 'ethnicity_WHITE', 'ethnicity_WHITE - BRAZILIAN', 'ethnicity_WHITE - EASTERN EUROPEAN', 'ethnicity_WHITE - OTHER EUROPEAN', 'ethnicity_WHITE - RUSSIAN', 'insurance_Government', 'insurance_Medicaid', 'insurance_Medicare', 'insurance_Private', 'insurance_Self Pay', 'admission_type_ELECTIVE', 'admission_type_EMERGENCY', 'admission_type_URGENT', 'first_careunit_CCU', 'first_careunit_CSRU', 'first_careunit_MICU', 'first_careunit_SICU', 'first_careunit_TSICU']\n"
          ]
        }
      ],
      "source": [
        "scaler_MinMaxScaler = preprocessing.MinMaxScaler()\n",
        "#scaler_StandardScaler = preprocessing.StandardScaler()\n",
        "\n",
        "# Get column names\n",
        "col_names = list(train.columns.values)\n",
        "print(col_names)"
      ]
    },
    {
      "cell_type": "code",
      "execution_count": null,
      "metadata": {
        "colab": {
          "base_uri": "https://localhost:8080/"
        },
        "id": "knLfPnkaV56Y",
        "outputId": "009645f6-6086-467d-fae2-c5593b62eb4d"
      },
      "outputs": [
        {
          "output_type": "stream",
          "name": "stdout",
          "text": [
            "   icustay_id       age  fullcode_first  dnr_first  fullcode  dnr  cmo_first  \\\n",
            "0      290512  0.786667             1.0        0.0       1.0  0.0        0.0   \n",
            "1      290512  0.786667             1.0        0.0       1.0  0.0        0.0   \n",
            "2      290512  0.786667             1.0        0.0       1.0  0.0        0.0   \n",
            "3      290512  0.786667             1.0        0.0       1.0  0.0        0.0   \n",
            "4      290512  0.786667             1.0        0.0       1.0  0.0        0.0   \n",
            "\n",
            "   cmo_last  cmo   los_icu  ...  insurance_Private  insurance_Self Pay  \\\n",
            "0       0.0  0.0  0.134513  ...                0.0                 0.0   \n",
            "1       0.0  0.0  0.134513  ...                0.0                 0.0   \n",
            "2       0.0  0.0  0.134513  ...                0.0                 0.0   \n",
            "3       0.0  0.0  0.134513  ...                0.0                 0.0   \n",
            "4       0.0  0.0  0.134513  ...                0.0                 0.0   \n",
            "\n",
            "   admission_type_ELECTIVE  admission_type_EMERGENCY  admission_type_URGENT  \\\n",
            "0                      0.0                       1.0                    0.0   \n",
            "1                      0.0                       1.0                    0.0   \n",
            "2                      0.0                       1.0                    0.0   \n",
            "3                      0.0                       1.0                    0.0   \n",
            "4                      0.0                       1.0                    0.0   \n",
            "\n",
            "   first_careunit_CCU  first_careunit_CSRU  first_careunit_MICU  \\\n",
            "0                 0.0                  0.0                  0.0   \n",
            "1                 0.0                  0.0                  0.0   \n",
            "2                 0.0                  0.0                  0.0   \n",
            "3                 0.0                  0.0                  0.0   \n",
            "4                 0.0                  0.0                  0.0   \n",
            "\n",
            "   first_careunit_SICU  first_careunit_TSICU  \n",
            "0                  1.0                   0.0  \n",
            "1                  1.0                   0.0  \n",
            "2                  1.0                   0.0  \n",
            "3                  1.0                   0.0  \n",
            "4                  1.0                   0.0  \n",
            "\n",
            "[5 rows x 76 columns]\n",
            "   icustay_id       age  fullcode_first  dnr_first  fullcode  dnr  cmo_first  \\\n",
            "0      228783  0.746667             0.0        1.0       0.0  1.0        0.0   \n",
            "1      228783  0.746667             0.0        1.0       0.0  1.0        0.0   \n",
            "2      228783  0.746667             0.0        1.0       0.0  1.0        0.0   \n",
            "3      228783  0.746667             0.0        1.0       0.0  1.0        0.0   \n",
            "4      228783  0.746667             0.0        1.0       0.0  1.0        0.0   \n",
            "\n",
            "   cmo_last  cmo   los_icu  ...  insurance_Private  insurance_Self Pay  \\\n",
            "0       0.0  0.0  0.066774  ...                1.0                 0.0   \n",
            "1       0.0  0.0  0.066774  ...                1.0                 0.0   \n",
            "2       0.0  0.0  0.066774  ...                1.0                 0.0   \n",
            "3       0.0  0.0  0.066774  ...                1.0                 0.0   \n",
            "4       0.0  0.0  0.066774  ...                1.0                 0.0   \n",
            "\n",
            "   admission_type_ELECTIVE  admission_type_EMERGENCY  admission_type_URGENT  \\\n",
            "0                      0.0                       1.0                    0.0   \n",
            "1                      0.0                       1.0                    0.0   \n",
            "2                      0.0                       1.0                    0.0   \n",
            "3                      0.0                       1.0                    0.0   \n",
            "4                      0.0                       1.0                    0.0   \n",
            "\n",
            "   first_careunit_CCU  first_careunit_CSRU  first_careunit_MICU  \\\n",
            "0                 0.0                  0.0                  1.0   \n",
            "1                 0.0                  0.0                  1.0   \n",
            "2                 0.0                  0.0                  1.0   \n",
            "3                 0.0                  0.0                  1.0   \n",
            "4                 0.0                  0.0                  1.0   \n",
            "\n",
            "   first_careunit_SICU  first_careunit_TSICU  \n",
            "0                  0.0                   0.0  \n",
            "1                  0.0                   0.0  \n",
            "2                  0.0                   0.0  \n",
            "3                  0.0                   0.0  \n",
            "4                  0.0                   0.0  \n",
            "\n",
            "[5 rows x 76 columns]\n",
            "   icustay_id       age  fullcode_first  dnr_first  fullcode  dnr  cmo_first  \\\n",
            "0      262203  0.626667             1.0        0.0       1.0  0.0        0.0   \n",
            "1      262203  0.626667             1.0        0.0       1.0  0.0        0.0   \n",
            "2      262203  0.626667             1.0        0.0       1.0  0.0        0.0   \n",
            "3      262203  0.626667             1.0        0.0       1.0  0.0        0.0   \n",
            "4      262203  0.626667             1.0        0.0       1.0  0.0        0.0   \n",
            "\n",
            "   cmo_last  cmo   los_icu  ...  insurance_Private  insurance_Self Pay  \\\n",
            "0       0.0  0.0  0.624827  ...                1.0                 0.0   \n",
            "1       0.0  0.0  0.624827  ...                1.0                 0.0   \n",
            "2       0.0  0.0  0.624827  ...                1.0                 0.0   \n",
            "3       0.0  0.0  0.624827  ...                1.0                 0.0   \n",
            "4       0.0  0.0  0.624827  ...                1.0                 0.0   \n",
            "\n",
            "   admission_type_ELECTIVE  admission_type_EMERGENCY  admission_type_URGENT  \\\n",
            "0                      0.0                       1.0                    0.0   \n",
            "1                      0.0                       1.0                    0.0   \n",
            "2                      0.0                       1.0                    0.0   \n",
            "3                      0.0                       1.0                    0.0   \n",
            "4                      0.0                       1.0                    0.0   \n",
            "\n",
            "   first_careunit_CCU  first_careunit_CSRU  first_careunit_MICU  \\\n",
            "0                 1.0                  0.0                  0.0   \n",
            "1                 1.0                  0.0                  0.0   \n",
            "2                 1.0                  0.0                  0.0   \n",
            "3                 1.0                  0.0                  0.0   \n",
            "4                 1.0                  0.0                  0.0   \n",
            "\n",
            "   first_careunit_SICU  first_careunit_TSICU  \n",
            "0                  0.0                   0.0  \n",
            "1                  0.0                   0.0  \n",
            "2                  0.0                   0.0  \n",
            "3                  0.0                   0.0  \n",
            "4                  0.0                   0.0  \n",
            "\n",
            "[5 rows x 76 columns]\n"
          ]
        }
      ],
      "source": [
        "cols_to_norm = col_names[1:] # Columns to normalize\n",
        "\n",
        "###################\n",
        "# Fit training data on the scaler object\n",
        "fitted_scaler_MinMaxScaler = scaler_MinMaxScaler.fit(train[cols_to_norm])\n",
        "\n",
        "\n",
        "train[cols_to_norm] = fitted_scaler_MinMaxScaler.transform(train[cols_to_norm])\n",
        "print(train.head())\n",
        "\n",
        "# Use the scalar object fitted on training data to normalize the validation set\n",
        "validation[cols_to_norm] = fitted_scaler_MinMaxScaler.transform(validation[cols_to_norm])\n",
        "print(validation.head())\n",
        "\n",
        "# Use the scalar object fitted on training data to normalize the test set\n",
        "test[cols_to_norm] = fitted_scaler_MinMaxScaler.transform(test[cols_to_norm])\n",
        "print(test.head())"
      ]
    },
    {
      "cell_type": "markdown",
      "source": [
        "##Padding with zero"
      ],
      "metadata": {
        "id": "vRwiRd3vMpBl"
      }
    },
    {
      "cell_type": "code",
      "execution_count": null,
      "metadata": {
        "id": "ezHyoiMaV_u1"
      },
      "outputs": [],
      "source": [
        "#fill grouped train, validation, test sets to have same length\n",
        "\n",
        "def fill_data(df):\n",
        "  df_fill = df.set_index([\"icustay_id\", df.groupby(\"icustay_id\").cumcount()])\n",
        "  index = pd.MultiIndex.from_product(df_fill.index.levels, names=df_fill.index.names)\n",
        "  output = df_fill.reindex(index, fill_value=0).reset_index(level=1, drop=True).reset_index()\n",
        "  return output"
      ]
    },
    {
      "cell_type": "code",
      "execution_count": null,
      "metadata": {
        "id": "iXuhLh5YWDz4"
      },
      "outputs": [],
      "source": [
        "df_fill_train = fill_data(train)\n",
        "df_fill_validation = fill_data(validation)\n",
        "df_fill_test = fill_data(test)"
      ]
    },
    {
      "cell_type": "code",
      "execution_count": null,
      "metadata": {
        "id": "F6AgXChgWMA_"
      },
      "outputs": [],
      "source": [
        "train_ids = train_ids['0'].values.tolist()\n",
        "validation_ids = validation_ids['0'].values.tolist()\n",
        "test_ids = test_ids['0'].values.tolist()"
      ]
    },
    {
      "cell_type": "markdown",
      "source": [
        "##Reshape Dataset to 3D array"
      ],
      "metadata": {
        "id": "TtZtYoTcPvzW"
      }
    },
    {
      "cell_type": "code",
      "execution_count": null,
      "metadata": {
        "colab": {
          "base_uri": "https://localhost:8080/"
        },
        "id": "595jj9jFWRUV",
        "outputId": "56650ea2-3041-405e-8eb6-af319209700d"
      },
      "outputs": [
        {
          "output_type": "stream",
          "name": "stdout",
          "text": [
            "(19792, 24, 75)\n",
            "[[[0.78666667 1.         0.         ... 0.         1.         0.        ]\n",
            "  [0.78666667 1.         0.         ... 0.         1.         0.        ]\n",
            "  [0.78666667 1.         0.         ... 0.         1.         0.        ]\n",
            "  ...\n",
            "  [0.78666667 1.         0.         ... 0.         1.         0.        ]\n",
            "  [0.78666667 1.         0.         ... 0.         1.         0.        ]\n",
            "  [0.78666667 1.         0.         ... 0.         1.         0.        ]]\n",
            "\n",
            " [[0.94666667 1.         0.         ... 1.         0.         0.        ]\n",
            "  [0.94666667 1.         0.         ... 1.         0.         0.        ]\n",
            "  [0.94666667 1.         0.         ... 1.         0.         0.        ]\n",
            "  ...\n",
            "  [0.94666667 1.         0.         ... 1.         0.         0.        ]\n",
            "  [0.94666667 1.         0.         ... 1.         0.         0.        ]\n",
            "  [0.94666667 1.         0.         ... 1.         0.         0.        ]]\n",
            "\n",
            " [[0.49333333 1.         0.         ... 0.         0.         0.        ]\n",
            "  [0.49333333 1.         0.         ... 0.         0.         0.        ]\n",
            "  [0.49333333 1.         0.         ... 0.         0.         0.        ]\n",
            "  ...\n",
            "  [0.         0.         0.         ... 0.         0.         0.        ]\n",
            "  [0.         0.         0.         ... 0.         0.         0.        ]\n",
            "  [0.         0.         0.         ... 0.         0.         0.        ]]\n",
            "\n",
            " ...\n",
            "\n",
            " [[0.97333333 0.         1.         ... 0.         0.         0.        ]\n",
            "  [0.97333333 0.         1.         ... 0.         0.         0.        ]\n",
            "  [0.97333333 0.         1.         ... 0.         0.         0.        ]\n",
            "  ...\n",
            "  [0.97333333 0.         1.         ... 0.         0.         0.        ]\n",
            "  [0.97333333 0.         1.         ... 0.         0.         0.        ]\n",
            "  [0.97333333 0.         1.         ... 0.         0.         0.        ]]\n",
            "\n",
            " [[0.38666667 1.         0.         ... 0.         0.         0.        ]\n",
            "  [0.38666667 1.         0.         ... 0.         0.         0.        ]\n",
            "  [0.38666667 1.         0.         ... 0.         0.         0.        ]\n",
            "  ...\n",
            "  [0.38666667 1.         0.         ... 0.         0.         0.        ]\n",
            "  [0.38666667 1.         0.         ... 0.         0.         0.        ]\n",
            "  [0.38666667 1.         0.         ... 0.         0.         0.        ]]\n",
            "\n",
            " [[0.64       1.         0.         ... 0.         0.         0.        ]\n",
            "  [0.64       1.         0.         ... 0.         0.         0.        ]\n",
            "  [0.64       1.         0.         ... 0.         0.         0.        ]\n",
            "  ...\n",
            "  [0.64       1.         0.         ... 0.         0.         0.        ]\n",
            "  [0.64       1.         0.         ... 0.         0.         0.        ]\n",
            "  [0.64       1.         0.         ... 0.         0.         0.        ]]]\n",
            "\n",
            "\n",
            "(2827, 24, 75)\n",
            "[[[0.74666667 0.         1.         ... 1.         0.         0.        ]\n",
            "  [0.74666667 0.         1.         ... 1.         0.         0.        ]\n",
            "  [0.74666667 0.         1.         ... 1.         0.         0.        ]\n",
            "  ...\n",
            "  [0.74666667 0.         1.         ... 1.         0.         0.        ]\n",
            "  [0.74666667 0.         1.         ... 1.         0.         0.        ]\n",
            "  [0.74666667 0.         1.         ... 1.         0.         0.        ]]\n",
            "\n",
            " [[0.84       1.         0.         ... 0.         0.         0.        ]\n",
            "  [0.84       1.         0.         ... 0.         0.         0.        ]\n",
            "  [0.84       1.         0.         ... 0.         0.         0.        ]\n",
            "  ...\n",
            "  [0.84       1.         0.         ... 0.         0.         0.        ]\n",
            "  [0.84       1.         0.         ... 0.         0.         0.        ]\n",
            "  [0.84       1.         0.         ... 0.         0.         0.        ]]\n",
            "\n",
            " [[0.88       1.         0.         ... 0.         0.         0.        ]\n",
            "  [0.88       1.         0.         ... 0.         0.         0.        ]\n",
            "  [0.88       1.         0.         ... 0.         0.         0.        ]\n",
            "  ...\n",
            "  [0.88       1.         0.         ... 0.         0.         0.        ]\n",
            "  [0.88       1.         0.         ... 0.         0.         0.        ]\n",
            "  [0.88       1.         0.         ... 0.         0.         0.        ]]\n",
            "\n",
            " ...\n",
            "\n",
            " [[1.         1.         0.         ... 0.         1.         0.        ]\n",
            "  [1.         1.         0.         ... 0.         1.         0.        ]\n",
            "  [1.         1.         0.         ... 0.         1.         0.        ]\n",
            "  ...\n",
            "  [1.         1.         0.         ... 0.         1.         0.        ]\n",
            "  [1.         1.         0.         ... 0.         1.         0.        ]\n",
            "  [1.         1.         0.         ... 0.         1.         0.        ]]\n",
            "\n",
            " [[0.84       1.         0.         ... 0.         0.         0.        ]\n",
            "  [0.84       1.         0.         ... 0.         0.         0.        ]\n",
            "  [0.84       1.         0.         ... 0.         0.         0.        ]\n",
            "  ...\n",
            "  [0.84       1.         0.         ... 0.         0.         0.        ]\n",
            "  [0.84       1.         0.         ... 0.         0.         0.        ]\n",
            "  [0.84       1.         0.         ... 0.         0.         0.        ]]\n",
            "\n",
            " [[0.69333333 1.         0.         ... 0.         0.         0.        ]\n",
            "  [0.69333333 1.         0.         ... 0.         0.         0.        ]\n",
            "  [0.69333333 1.         0.         ... 0.         0.         0.        ]\n",
            "  ...\n",
            "  [0.69333333 1.         0.         ... 0.         0.         0.        ]\n",
            "  [0.69333333 1.         0.         ... 0.         0.         0.        ]\n",
            "  [0.69333333 1.         0.         ... 0.         0.         0.        ]]]\n",
            "\n",
            "\n",
            "(5656, 24, 75)\n",
            "[[[0.62666667 1.         0.         ... 0.         0.         0.        ]\n",
            "  [0.62666667 1.         0.         ... 0.         0.         0.        ]\n",
            "  [0.62666667 1.         0.         ... 0.         0.         0.        ]\n",
            "  ...\n",
            "  [0.62666667 1.         0.         ... 0.         0.         0.        ]\n",
            "  [0.62666667 1.         0.         ... 0.         0.         0.        ]\n",
            "  [0.62666667 1.         0.         ... 0.         0.         0.        ]]\n",
            "\n",
            " [[0.76       1.         0.         ... 0.         0.         0.        ]\n",
            "  [0.76       1.         0.         ... 0.         0.         0.        ]\n",
            "  [0.76       1.         0.         ... 0.         0.         0.        ]\n",
            "  ...\n",
            "  [0.76       1.         0.         ... 0.         0.         0.        ]\n",
            "  [0.76       1.         0.         ... 0.         0.         0.        ]\n",
            "  [0.76       1.         0.         ... 0.         0.         0.        ]]\n",
            "\n",
            " [[0.65333333 1.         0.         ... 1.         0.         0.        ]\n",
            "  [0.65333333 1.         0.         ... 1.         0.         0.        ]\n",
            "  [0.65333333 1.         0.         ... 1.         0.         0.        ]\n",
            "  ...\n",
            "  [0.65333333 1.         0.         ... 1.         0.         0.        ]\n",
            "  [0.65333333 1.         0.         ... 1.         0.         0.        ]\n",
            "  [0.65333333 1.         0.         ... 1.         0.         0.        ]]\n",
            "\n",
            " ...\n",
            "\n",
            " [[0.65333333 0.         1.         ... 0.         1.         0.        ]\n",
            "  [0.65333333 0.         1.         ... 0.         1.         0.        ]\n",
            "  [0.65333333 0.         1.         ... 0.         1.         0.        ]\n",
            "  ...\n",
            "  [0.65333333 0.         1.         ... 0.         1.         0.        ]\n",
            "  [0.65333333 0.         1.         ... 0.         1.         0.        ]\n",
            "  [0.65333333 0.         1.         ... 0.         1.         0.        ]]\n",
            "\n",
            " [[0.36       1.         0.         ... 1.         0.         0.        ]\n",
            "  [0.36       1.         0.         ... 1.         0.         0.        ]\n",
            "  [0.36       1.         0.         ... 1.         0.         0.        ]\n",
            "  ...\n",
            "  [0.36       1.         0.         ... 1.         0.         0.        ]\n",
            "  [0.36       1.         0.         ... 1.         0.         0.        ]\n",
            "  [0.36       1.         0.         ... 1.         0.         0.        ]]\n",
            "\n",
            " [[0.48       1.         0.         ... 0.         1.         0.        ]\n",
            "  [0.48       1.         0.         ... 0.         1.         0.        ]\n",
            "  [0.48       1.         0.         ... 0.         1.         0.        ]\n",
            "  ...\n",
            "  [0.48       1.         0.         ... 0.         1.         0.        ]\n",
            "  [0.48       1.         0.         ... 0.         1.         0.        ]\n",
            "  [0.48       1.         0.         ... 0.         1.         0.        ]]]\n"
          ]
        }
      ],
      "source": [
        "nb_samples_train = len(train_ids)\n",
        "nb_samples_validation = len(validation_ids)\n",
        "nb_samples_test = len(test_ids)\n",
        "nb_timestps = 24\n",
        "nb_feat = 75 \n",
        "\n",
        "X_train = np.zeros((nb_samples_train, nb_timestps, nb_feat)) \n",
        "X_validation = np.zeros((nb_samples_validation, nb_timestps, nb_feat)) \n",
        "X_test = np.zeros((nb_samples_test, nb_timestps, nb_feat))\n",
        "\n",
        "# Create a mapper to map the time series IDs to indices in the 3-D array for the train and test set\n",
        "TrainId_mapper = dict(zip(train_ids,range(nb_samples_train))) \n",
        "ValidationId_mapper = dict(zip(validation_ids,range(nb_samples_validation))) \n",
        "TestId_mapper = dict(zip(test_ids,range(nb_samples_test)))\n",
        "\n",
        "grouped_train = df_fill_train.groupby('icustay_id')\n",
        "grouped_validation = df_fill_validation.groupby('icustay_id')\n",
        "grouped_test = df_fill_test.groupby('icustay_id')\n",
        "\n",
        "\n",
        "# Fill up the entries in the train and test data 3d array\n",
        "# train data\n",
        "for ID in train_ids:\n",
        "    grp_train = grouped_train.get_group(ID).reset_index(drop=True).drop(['icustay_id'],axis=1)\n",
        "    X_train[TrainId_mapper[ID],:,:] = grp_train.values\n",
        "\n",
        "# validation data\n",
        "for ID in validation_ids:\n",
        "    grp_validation = grouped_validation.get_group(ID).reset_index(drop=True).drop(['icustay_id'],axis=1)\n",
        "    X_validation[ValidationId_mapper[ID],:,:] = grp_validation.values\n",
        "\n",
        "\n",
        "# Test data\n",
        "for ID in test_ids:\n",
        "    grp_test = grouped_test.get_group(ID).reset_index(drop=True).drop(['icustay_id'],axis=1)\n",
        "    X_test[TestId_mapper[ID],:,:] = grp_test.values\n",
        "    \n",
        "print(X_train.shape) \n",
        "print(X_train) \n",
        "print('\\n')\n",
        "print(X_validation.shape) \n",
        "print(X_validation) \n",
        "print('\\n')\n",
        "print(X_test.shape) \n",
        "print(X_test)    "
      ]
    },
    {
      "cell_type": "markdown",
      "source": [
        "##Transform the target to be categorical feature with two columns"
      ],
      "metadata": {
        "id": "0K6yxe8hM7l4"
      }
    },
    {
      "cell_type": "code",
      "execution_count": null,
      "metadata": {
        "colab": {
          "base_uri": "https://localhost:8080/"
        },
        "id": "SP7-ChOWWbRl",
        "outputId": "3c660180-1f45-4b6d-81f0-350148507b08"
      },
      "outputs": [
        {
          "output_type": "stream",
          "name": "stdout",
          "text": [
            "(19792,)\n",
            "(2827,)\n",
            "(5656,)\n",
            "\n",
            "\n",
            "(19792, 2)\n",
            "(2827, 2)\n",
            "(5656, 2)\n"
          ]
        }
      ],
      "source": [
        "from keras.utils.np_utils import to_categorical\n",
        "num_classes = 2\n",
        "Y_train = to_categorical(y_train, num_classes)\n",
        "Y_validation = to_categorical(y_validation, num_classes)\n",
        "Y_test = to_categorical(y_test, num_classes)\n",
        "\n",
        "print(y_train.shape)\n",
        "print(y_validation.shape)\n",
        "print(y_test.shape)\n",
        "\n",
        "print('\\n')\n",
        "\n",
        "print(Y_train.shape)\n",
        "print(Y_validation.shape)\n",
        "print(Y_test.shape)"
      ]
    },
    {
      "cell_type": "markdown",
      "metadata": {
        "id": "nILjYrh1GpU2"
      },
      "source": [
        "##Functions"
      ]
    },
    {
      "cell_type": "code",
      "execution_count": null,
      "metadata": {
        "id": "9-O1Dg7HC0Tl"
      },
      "outputs": [],
      "source": [
        "import tensorflow as tf\n",
        "physical_devices = tf.config.list_physical_devices('GPU')\n",
        "tf.config.experimental.set_memory_growth(physical_devices[0], enable=True)"
      ]
    },
    {
      "cell_type": "code",
      "execution_count": null,
      "metadata": {
        "colab": {
          "base_uri": "https://localhost:8080/"
        },
        "id": "pnJDrz35EJ6F",
        "outputId": "cfaa1b45-f1e9-4755-d9ef-c81509efbc99"
      },
      "outputs": [
        {
          "output_type": "stream",
          "name": "stdout",
          "text": [
            "Num GPUs Available:  1\n"
          ]
        }
      ],
      "source": [
        "print(\"Num GPUs Available: \", len(tf.config.list_physical_devices('GPU')))"
      ]
    },
    {
      "cell_type": "code",
      "execution_count": null,
      "metadata": {
        "id": "OHK2wmG6Wgxc"
      },
      "outputs": [],
      "source": [
        "from keras.callbacks import History\n",
        "\n",
        "def plot_loss(history):\n",
        "  plt.plot(history.history['loss'])\n",
        "  plt.plot(history.history['val_loss'])\n",
        "  plt.title('Model loss')\n",
        "  plt.ylabel('loss')\n",
        "  plt.xlabel('Epoch')\n",
        "  plt.legend(['Train', 'Validation'], loc='upper left')\n",
        "  plt.show()"
      ]
    },
    {
      "cell_type": "code",
      "execution_count": null,
      "metadata": {
        "id": "1kcwclNoXdEa"
      },
      "outputs": [],
      "source": [
        "def plot_metric(history):\n",
        "  plt.plot(history.history['auc'])\n",
        "  plt.plot(history.history['val_auc'])\n",
        "  plt.title('Model AUC ROC')\n",
        "  plt.ylabel('AUC ROC')\n",
        "  plt.xlabel('Epoch')\n",
        "  plt.legend(['Train', 'Validation'], loc='upper left')\n",
        "  plt.show()"
      ]
    },
    {
      "cell_type": "code",
      "execution_count": null,
      "metadata": {
        "id": "NoOZFS-pYGTp"
      },
      "outputs": [],
      "source": [
        "from sklearn import metrics\n",
        "def buildROC(target_test,test_preds):\n",
        "    fpr, tpr, threshold = metrics.roc_curve(target_test, test_preds)\n",
        "    roc_auc = metrics.auc(fpr, tpr)\n",
        "    plt.title('Receiver Operating Characteristic')\n",
        "    plt.plot(fpr, tpr, 'b', label = 'AUC = %0.2f' % roc_auc)\n",
        "    plt.legend(loc = 'lower right')\n",
        "    plt.plot([0, 1], [0, 1],'r--')\n",
        "    plt.ylabel('True Positive Rate')\n",
        "    plt.xlabel('False Positive Rate')\n",
        "    plt.gcf().savefig('roc.png')"
      ]
    },
    {
      "cell_type": "code",
      "execution_count": null,
      "metadata": {
        "colab": {
          "base_uri": "https://localhost:8080/"
        },
        "id": "DzVGPoVp_mS_",
        "outputId": "aeb233d7-ea0d-45f2-ad9a-df2330e0661c"
      },
      "outputs": [
        {
          "output_type": "execute_result",
          "data": {
            "text/plain": [
              "{0: 0.5382648898558607, 1: 7.033404406538735}"
            ]
          },
          "metadata": {},
          "execution_count": 23
        }
      ],
      "source": [
        "from sklearn.utils.class_weight import compute_class_weight\n",
        "class_weights = compute_class_weight(class_weight = \"balanced\", classes= np.unique(y_train), y= y_train)\n",
        "class_weights = dict(zip(np.unique(y_train), class_weights))\n",
        "class_weights"
      ]
    },
    {
      "cell_type": "markdown",
      "source": [
        "#Experiments"
      ],
      "metadata": {
        "id": "cZQtLV1_cTuR"
      }
    },
    {
      "cell_type": "code",
      "source": [
        "import tensorflow as tf\n",
        "#by default -> monitor='val_loss' and patience=0\n",
        "early_stopping = EarlyStopping()\n",
        "\n",
        "def run_model(X_train, Y_train,X_validation, Y_validation, units1, units2, units3, batch_sz, epoch_sz, cw, dropout, learning_rate): #, units, dropout, learning_rate, batch_size, epoch\n",
        "  model = get_model(X_train, Y_train, units1, units2, units3, dropout)\n",
        "  model.summary()\n",
        "  model.compile(\n",
        "    optimizer = tf.keras.optimizers.Adam(learning_rate=learning_rate),\n",
        "    loss= 'binary_crossentropy',\n",
        "    metrics = [\"AUC\"]) # the default AUC is ROC\n",
        "\n",
        "  #verbose, epochs, batch_size = 2, epoch_sz, batch_sz  #change the batch size to 40 as Msh and 250 as Purush\n",
        "  verbose = 1\n",
        "  if cw == 0: \n",
        "    history = model.fit(X_train, Y_train,\n",
        "          epochs=epoch_sz, \n",
        "          batch_size=batch_sz, \n",
        "          verbose=verbose, \n",
        "          validation_data = (X_validation, Y_validation),\n",
        "          callbacks=[early_stopping],)\n",
        "          #class_weight=class_weights)\n",
        "  else:\n",
        "    history = model.fit(X_train, Y_train,\n",
        "          epochs=epoch_sz, \n",
        "          batch_size=batch_sz, \n",
        "          verbose=verbose, \n",
        "          validation_data = (X_validation, Y_validation),\n",
        "          callbacks=[early_stopping],\n",
        "          class_weight=class_weights)\n",
        "\n",
        "  return history, model\n",
        "\n",
        "\n"
      ],
      "metadata": {
        "id": "tAQdiGO3AHl0"
      },
      "execution_count": null,
      "outputs": []
    },
    {
      "cell_type": "code",
      "source": [
        "def get_model(trainX, trainy, units1, units2, units3, dropout):\n",
        "  \n",
        "    model = Sequential()\n",
        "\n",
        "    model.add(LSTM(units1, activation = 'relu', input_shape = (nb_timestps, nb_feat))) \n",
        "    model.add(Dropout(dropout))\n",
        "\n",
        "    model.add(Dense(units2, activation = 'relu')) \n",
        "    model.add(Dropout(dropout))\n",
        "\n",
        "    model.add(Dense(units3, activation = 'relu')) \n",
        "    model.add(Dropout(dropout))\n",
        "\n",
        "    model.add(Dense(units = 2, activation = 'sigmoid'))\n",
        "    return model"
      ],
      "metadata": {
        "id": "dsXCCq2H9Kg0"
      },
      "execution_count": null,
      "outputs": []
    },
    {
      "cell_type": "code",
      "source": [
        "seed = 7\n",
        "tf.random.set_seed(seed)\n",
        "\n",
        "batch_size = 40\n",
        "dropout = 0.3\n",
        "learning_rate = 0.01\n",
        "units1 = 16\n",
        "units2 = 32\n",
        "units3 = 64\n",
        "epoch = 25\n",
        "class_weight = 1\n",
        "\n",
        "history, model = run_model(X_train, Y_train,X_validation, Y_validation, units1,units2,units3, batch_size, epoch, class_weight, dropout, learning_rate) # learning_rate, batch_size, epoch\n",
        "\n"
      ],
      "metadata": {
        "id": "ZGcB8fd5f18q",
        "colab": {
          "base_uri": "https://localhost:8080/"
        },
        "outputId": "b21dc110-03ff-4a90-e0a6-05cae47b9a66"
      },
      "execution_count": null,
      "outputs": [
        {
          "output_type": "stream",
          "name": "stdout",
          "text": [
            "WARNING:tensorflow:Layer lstm will not use cuDNN kernels since it doesn't meet the criteria. It will use a generic GPU kernel as fallback when running on GPU.\n",
            "Model: \"sequential\"\n",
            "_________________________________________________________________\n",
            " Layer (type)                Output Shape              Param #   \n",
            "=================================================================\n",
            " lstm (LSTM)                 (None, 16)                5888      \n",
            "                                                                 \n",
            " dropout (Dropout)           (None, 16)                0         \n",
            "                                                                 \n",
            " dense (Dense)               (None, 32)                544       \n",
            "                                                                 \n",
            " dropout_1 (Dropout)         (None, 32)                0         \n",
            "                                                                 \n",
            " dense_1 (Dense)             (None, 64)                2112      \n",
            "                                                                 \n",
            " dropout_2 (Dropout)         (None, 64)                0         \n",
            "                                                                 \n",
            " dense_2 (Dense)             (None, 2)                 130       \n",
            "                                                                 \n",
            "=================================================================\n",
            "Total params: 8,674\n",
            "Trainable params: 8,674\n",
            "Non-trainable params: 0\n",
            "_________________________________________________________________\n",
            "Epoch 1/25\n",
            "495/495 [==============================] - 19s 29ms/step - loss: 0.8952 - auc: 0.3755 - val_loss: 0.7071 - val_auc: 0.0616\n",
            "Epoch 2/25\n",
            "495/495 [==============================] - 14s 28ms/step - loss: 0.6938 - auc: 0.3998 - val_loss: 0.6847 - val_auc: 0.9320\n"
          ]
        }
      ]
    },
    {
      "cell_type": "code",
      "source": [
        "plot_loss(history)\n",
        "plot_metric(history)"
      ],
      "metadata": {
        "colab": {
          "base_uri": "https://localhost:8080/",
          "height": 573
        },
        "id": "feqXx51_BaNW",
        "outputId": "101ac54d-714d-431d-be67-754abc4ef668"
      },
      "execution_count": null,
      "outputs": [
        {
          "output_type": "display_data",
          "data": {
            "text/plain": [
              "<Figure size 432x288 with 1 Axes>"
            ],
            "image/png": "[encoded data removed]"
          },
          "metadata": {
            "needs_background": "light"
          }
        },
        {
          "output_type": "display_data",
          "data": {
            "text/plain": [
              "<Figure size 432x288 with 1 Axes>"
            ],
            "image/png": "[encoded data removed]"
          },
          "metadata": {
            "needs_background": "light"
          }
        }
      ]
    },
    {
      "cell_type": "code",
      "source": [
        "from sklearn.metrics import plot_confusion_matrix\n",
        "from sklearn.metrics import average_precision_score\n",
        "import seaborn as sns\n",
        "\n",
        "final_predictions= np.argmax(model.predict(X_test),axis=1)\n",
        "\n",
        "\n",
        "cm = confusion_matrix(y_test, final_predictions)\n",
        "# print('confusion matrix:')\n",
        "# print(cm)\n",
        "# #print('\\n')\n",
        "print('classification report:')\n",
        "print(classification_report(y_test, final_predictions))\n",
        "\n",
        "print('===============================================================================')\n",
        "print(\"AUROC\",roc_auc_score(y_test, final_predictions))\n",
        "print(\"AUPRC\",average_precision_score(y_test, final_predictions))\n",
        "\n",
        "\n",
        "\n",
        "ax= plt.subplot()\n",
        "sns.heatmap(cm, annot=True, fmt='g', ax=ax, cmap=\"YlGnBu\");  #annot=True to annotate cells, ftm='g' to disable scientific notation\n",
        "  # labels, title and ticks\n",
        "ax.set_xlabel('Predicted labels');ax.set_ylabel('True labels'); \n",
        "ax.set_title('Confusion Matrix'); \n",
        "ax.xaxis.set_ticklabels(['Live', 'dead']); ax.yaxis.set_ticklabels(['Live', 'dead']);\n",
        "\n"
      ],
      "metadata": {
        "colab": {
          "base_uri": "https://localhost:8080/",
          "height": 516
        },
        "id": "Ev21cLfUBr-v",
        "outputId": "7d51dcb3-833b-4988-9232-da6b7f4c849a"
      },
      "execution_count": null,
      "outputs": [
        {
          "output_type": "stream",
          "name": "stdout",
          "text": [
            "classification report:\n",
            "              precision    recall  f1-score   support\n",
            "\n",
            "           0       0.93      1.00      0.97      5279\n",
            "           1       0.00      0.00      0.00       377\n",
            "\n",
            "    accuracy                           0.93      5656\n",
            "   macro avg       0.47      0.50      0.48      5656\n",
            "weighted avg       0.87      0.93      0.90      5656\n",
            "\n",
            "===============================================================================\n",
            "AUROC 0.5\n",
            "AUPRC 0.06665487977369165\n"
          ]
        },
        {
          "output_type": "display_data",
          "data": {
            "text/plain": [
              "<Figure size 432x288 with 2 Axes>"
            ],
            "image/png": "[encoded data removed]"
          },
          "metadata": {
            "needs_background": "light"
          }
        }
      ]
    },
    {
      "cell_type": "code",
      "source": [
        "buildROC(y_test, final_predictions)"
      ],
      "metadata": {
        "colab": {
          "base_uri": "https://localhost:8080/",
          "height": 295
        },
        "id": "Exnwr-3eBz7w",
        "outputId": "993b3822-dda0-4273-f792-b232229b5476"
      },
      "execution_count": null,
      "outputs": [
        {
          "output_type": "display_data",
          "data": {
            "text/plain": [
              "<Figure size 432x288 with 1 Axes>"
            ],
            "image/png": "[encoded data removed]"
          },
          "metadata": {
            "needs_background": "light"
          }
        }
      ]
    }
  ],
  "metadata": {
    "accelerator": "GPU",
    "colab": {
      "background_execution": "on",
      "collapsed_sections": [],
      "machine_shape": "hm",
      "name": "Full_LSTM_final.ipynb",
      "provenance": [],
      "authorship_tag": "ABX9TyOZEkUdl1VShCUoen2RLy1N",
      "include_colab_link": true
    },
    "gpuClass": "standard",
    "kernelspec": {
      "display_name": "Python 3",
      "name": "python3"
    },
    "language_info": {
      "name": "python"
    }
  },
  "nbformat": 4,
  "nbformat_minor": 0
}