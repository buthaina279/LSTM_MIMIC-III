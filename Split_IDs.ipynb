{
  "cells": [
    {
      "cell_type": "markdown",
      "metadata": {
        "id": "view-in-github",
        "colab_type": "text"
      },
      "source": [
        "<a href=\"https://colab.research.google.com/github/buthaina279/LSTM_MIMIC-III/blob/main/Split_IDs.ipynb\" target=\"_parent\"><img src=\"https://colab.research.google.com/assets/colab-badge.svg\" alt=\"Open In Colab\"/></a>"
      ]
    },
    {
      "cell_type": "code",
      "execution_count": null,
      "metadata": {
        "colab": {
          "base_uri": "https://localhost:8080/"
        },
        "id": "iVm0nBIYVoIQ",
        "outputId": "7c4fde3d-b030-4cdb-8b36-49bef10f763a"
      },
      "outputs": [
        {
          "output_type": "stream",
          "name": "stdout",
          "text": [
            "Mounted at /content/drive\n"
          ]
        }
      ],
      "source": [
        "from google.colab import drive\n",
        "drive.mount('/content/drive')"
      ]
    },
    {
      "cell_type": "code",
      "execution_count": null,
      "metadata": {
        "id": "zrzZUKdnV3hU"
      },
      "outputs": [],
      "source": [
        "#for google drive\n",
        "DATA_FILEPATH = \"/content/drive/MyDrive/final_project/\""
      ]
    },
    {
      "cell_type": "code",
      "execution_count": null,
      "metadata": {
        "id": "kKscpQPBV5Yv"
      },
      "outputs": [],
      "source": [
        "import warnings\n",
        "warnings.filterwarnings(\"ignore\")\n",
        "\n",
        "from __future__ import division\n",
        "import numpy as np\n",
        "import pandas as pd\n",
        "from pandas import DataFrame, concat\n",
        "import itertools\n",
        "from math import floor, ceil\n",
        "from numpy import random\n",
        "import matplotlib.pyplot as plt"
      ]
    },
    {
      "cell_type": "code",
      "execution_count": null,
      "metadata": {
        "id": "3bAauaaBV7ZA"
      },
      "outputs": [],
      "source": [
        "df = pd.read_csv(DATA_FILEPATH + 'preprocessed_data.csv',index_col=0) "
      ]
    },
    {
      "cell_type": "code",
      "source": [
        "train = pd.read_csv(DATA_FILEPATH + 'train.csv',index_col=0) \n",
        "validation = pd.read_csv(DATA_FILEPATH + 'validation.csv',index_col=0) \n",
        "test = pd.read_csv(DATA_FILEPATH + 'test.csv',index_col=0) "
      ],
      "metadata": {
        "id": "F1EL2yJB8afQ"
      },
      "execution_count": null,
      "outputs": []
    },
    {
      "cell_type": "code",
      "execution_count": null,
      "metadata": {
        "colab": {
          "base_uri": "https://localhost:8080/",
          "height": 314
        },
        "id": "pIyDupItV9z9",
        "outputId": "956d7e35-0fef-443e-dd15-15f826211ab9"
      },
      "outputs": [
        {
          "output_type": "execute_result",
          "data": {
            "text/plain": [
              "   subject_id  hadm_id  icustay_id  age  fullcode_first  dnr_first  fullcode  \\\n",
              "0           3   145834      211552   76             1.0        0.0       1.0   \n",
              "1           3   145834      211552   76             1.0        0.0       1.0   \n",
              "2           3   145834      211552   76             1.0        0.0       1.0   \n",
              "3           3   145834      211552   76             1.0        0.0       1.0   \n",
              "4           3   145834      211552   76             1.0        0.0       1.0   \n",
              "\n",
              "   dnr  cmo_first  cmo_last  ...  insurance_Private  insurance_Self Pay  \\\n",
              "0  1.0        0.0       0.0  ...                  0                   0   \n",
              "1  1.0        0.0       0.0  ...                  0                   0   \n",
              "2  1.0        0.0       0.0  ...                  0                   0   \n",
              "3  1.0        0.0       0.0  ...                  0                   0   \n",
              "4  1.0        0.0       0.0  ...                  0                   0   \n",
              "\n",
              "   admission_type_ELECTIVE  admission_type_EMERGENCY  admission_type_URGENT  \\\n",
              "0                        0                         1                      0   \n",
              "1                        0                         1                      0   \n",
              "2                        0                         1                      0   \n",
              "3                        0                         1                      0   \n",
              "4                        0                         1                      0   \n",
              "\n",
              "   first_careunit_CCU  first_careunit_CSRU  first_careunit_MICU  \\\n",
              "0                   0                    0                    1   \n",
              "1                   0                    0                    1   \n",
              "2                   0                    0                    1   \n",
              "3                   0                    0                    1   \n",
              "4                   0                    0                    1   \n",
              "\n",
              "   first_careunit_SICU  first_careunit_TSICU  \n",
              "0                    0                     0  \n",
              "1                    0                     0  \n",
              "2                    0                     0  \n",
              "3                    0                     0  \n",
              "4                    0                     0  \n",
              "\n",
              "[5 rows x 80 columns]"
            ],
            "text/html": [
              "\n",
              "  <div id=\"df-b8a153f9-07d0-451c-bbac-19f3bfe3c895\">\n",
              "    <div class=\"colab-df-container\">\n",
              "      <div>\n",
              "<style scoped>\n",
              "    .dataframe tbody tr th:only-of-type {\n",
              "        vertical-align: middle;\n",
              "    }\n",
              "\n",
              "    .dataframe tbody tr th {\n",
              "        vertical-align: top;\n",
              "    }\n",
              "\n",
              "    .dataframe thead th {\n",
              "        text-align: right;\n",
              "    }\n",
              "</style>\n",
              "<table border=\"1\" class=\"dataframe\">\n",
              "  <thead>\n",
              "    <tr style=\"text-align: right;\">\n",
              "      <th></th>\n",
              "      <th>subject_id</th>\n",
              "      <th>hadm_id</th>\n",
              "      <th>icustay_id</th>\n",
              "      <th>age</th>\n",
              "      <th>fullcode_first</th>\n",
              "      <th>dnr_first</th>\n",
              "      <th>fullcode</th>\n",
              "      <th>dnr</th>\n",
              "      <th>cmo_first</th>\n",
              "      <th>cmo_last</th>\n",
              "      <th>...</th>\n",
              "      <th>insurance_Private</th>\n",
              "      <th>insurance_Self Pay</th>\n",
              "      <th>admission_type_ELECTIVE</th>\n",
              "      <th>admission_type_EMERGENCY</th>\n",
              "      <th>admission_type_URGENT</th>\n",
              "      <th>first_careunit_CCU</th>\n",
              "      <th>first_careunit_CSRU</th>\n",
              "      <th>first_careunit_MICU</th>\n",
              "      <th>first_careunit_SICU</th>\n",
              "      <th>first_careunit_TSICU</th>\n",
              "    </tr>\n",
              "  </thead>\n",
              "  <tbody>\n",
              "    <tr>\n",
              "      <th>0</th>\n",
              "      <td>3</td>\n",
              "      <td>145834</td>\n",
              "      <td>211552</td>\n",
              "      <td>76</td>\n",
              "      <td>1.0</td>\n",
              "      <td>0.0</td>\n",
              "      <td>1.0</td>\n",
              "      <td>1.0</td>\n",
              "      <td>0.0</td>\n",
              "      <td>0.0</td>\n",
              "      <td>...</td>\n",
              "      <td>0</td>\n",
              "      <td>0</td>\n",
              "      <td>0</td>\n",
              "      <td>1</td>\n",
              "      <td>0</td>\n",
              "      <td>0</td>\n",
              "      <td>0</td>\n",
              "      <td>1</td>\n",
              "      <td>0</td>\n",
              "      <td>0</td>\n",
              "    </tr>\n",
              "    <tr>\n",
              "      <th>1</th>\n",
              "      <td>3</td>\n",
              "      <td>145834</td>\n",
              "      <td>211552</td>\n",
              "      <td>76</td>\n",
              "      <td>1.0</td>\n",
              "      <td>0.0</td>\n",
              "      <td>1.0</td>\n",
              "      <td>1.0</td>\n",
              "      <td>0.0</td>\n",
              "      <td>0.0</td>\n",
              "      <td>...</td>\n",
              "      <td>0</td>\n",
              "      <td>0</td>\n",
              "      <td>0</td>\n",
              "      <td>1</td>\n",
              "      <td>0</td>\n",
              "      <td>0</td>\n",
              "      <td>0</td>\n",
              "      <td>1</td>\n",
              "      <td>0</td>\n",
              "      <td>0</td>\n",
              "    </tr>\n",
              "    <tr>\n",
              "      <th>2</th>\n",
              "      <td>3</td>\n",
              "      <td>145834</td>\n",
              "      <td>211552</td>\n",
              "      <td>76</td>\n",
              "      <td>1.0</td>\n",
              "      <td>0.0</td>\n",
              "      <td>1.0</td>\n",
              "      <td>1.0</td>\n",
              "      <td>0.0</td>\n",
              "      <td>0.0</td>\n",
              "      <td>...</td>\n",
              "      <td>0</td>\n",
              "      <td>0</td>\n",
              "      <td>0</td>\n",
              "      <td>1</td>\n",
              "      <td>0</td>\n",
              "      <td>0</td>\n",
              "      <td>0</td>\n",
              "      <td>1</td>\n",
              "      <td>0</td>\n",
              "      <td>0</td>\n",
              "    </tr>\n",
              "    <tr>\n",
              "      <th>3</th>\n",
              "      <td>3</td>\n",
              "      <td>145834</td>\n",
              "      <td>211552</td>\n",
              "      <td>76</td>\n",
              "      <td>1.0</td>\n",
              "      <td>0.0</td>\n",
              "      <td>1.0</td>\n",
              "      <td>1.0</td>\n",
              "      <td>0.0</td>\n",
              "      <td>0.0</td>\n",
              "      <td>...</td>\n",
              "      <td>0</td>\n",
              "      <td>0</td>\n",
              "      <td>0</td>\n",
              "      <td>1</td>\n",
              "      <td>0</td>\n",
              "      <td>0</td>\n",
              "      <td>0</td>\n",
              "      <td>1</td>\n",
              "      <td>0</td>\n",
              "      <td>0</td>\n",
              "    </tr>\n",
              "    <tr>\n",
              "      <th>4</th>\n",
              "      <td>3</td>\n",
              "      <td>145834</td>\n",
              "      <td>211552</td>\n",
              "      <td>76</td>\n",
              "      <td>1.0</td>\n",
              "      <td>0.0</td>\n",
              "      <td>1.0</td>\n",
              "      <td>1.0</td>\n",
              "      <td>0.0</td>\n",
              "      <td>0.0</td>\n",
              "      <td>...</td>\n",
              "      <td>0</td>\n",
              "      <td>0</td>\n",
              "      <td>0</td>\n",
              "      <td>1</td>\n",
              "      <td>0</td>\n",
              "      <td>0</td>\n",
              "      <td>0</td>\n",
              "      <td>1</td>\n",
              "      <td>0</td>\n",
              "      <td>0</td>\n",
              "    </tr>\n",
              "  </tbody>\n",
              "</table>\n",
              "<p>5 rows × 80 columns</p>\n",
              "</div>\n",
              "      <button class=\"colab-df-convert\" onclick=\"convertToInteractive('df-b8a153f9-07d0-451c-bbac-19f3bfe3c895')\"\n",
              "              title=\"Convert this dataframe to an interactive table.\"\n",
              "              style=\"display:none;\">\n",
              "        \n",
              "  <svg xmlns=\"http://www.w3.org/2000/svg\" height=\"24px\"viewBox=\"0 0 24 24\"\n",
              "       width=\"24px\">\n",
              "    <path d=\"M0 0h24v24H0V0z\" fill=\"none\"/>\n",
              "    <path d=\"M18.56 5.44l.94 2.06.94-2.06 2.06-.94-2.06-.94-.94-2.06-.94 2.06-2.06.94zm-11 1L8.5 8.5l.94-2.06 2.06-.94-2.06-.94L8.5 2.5l-.94 2.06-2.06.94zm10 10l.94 2.06.94-2.06 2.06-.94-2.06-.94-.94-2.06-.94 2.06-2.06.94z\"/><path d=\"M17.41 7.96l-1.37-1.37c-.4-.4-.92-.59-1.43-.59-.52 0-1.04.2-1.43.59L10.3 9.45l-7.72 7.72c-.78.78-.78 2.05 0 2.83L4 21.41c.39.39.9.59 1.41.59.51 0 1.02-.2 1.41-.59l7.78-7.78 2.81-2.81c.8-.78.8-2.07 0-2.86zM5.41 20L4 18.59l7.72-7.72 1.47 1.35L5.41 20z\"/>\n",
              "  </svg>\n",
              "      </button>\n",
              "      \n",
              "  <style>\n",
              "    .colab-df-container {\n",
              "      display:flex;\n",
              "      flex-wrap:wrap;\n",
              "      gap: 12px;\n",
              "    }\n",
              "\n",
              "    .colab-df-convert {\n",
              "      background-color: #E8F0FE;\n",
              "      border: none;\n",
              "      border-radius: 50%;\n",
              "      cursor: pointer;\n",
              "      display: none;\n",
              "      fill: #1967D2;\n",
              "      height: 32px;\n",
              "      padding: 0 0 0 0;\n",
              "      width: 32px;\n",
              "    }\n",
              "\n",
              "    .colab-df-convert:hover {\n",
              "      background-color: #E2EBFA;\n",
              "      box-shadow: 0px 1px 2px rgba(60, 64, 67, 0.3), 0px 1px 3px 1px rgba(60, 64, 67, 0.15);\n",
              "      fill: #174EA6;\n",
              "    }\n",
              "\n",
              "    [theme=dark] .colab-df-convert {\n",
              "      background-color: #3B4455;\n",
              "      fill: #D2E3FC;\n",
              "    }\n",
              "\n",
              "    [theme=dark] .colab-df-convert:hover {\n",
              "      background-color: #434B5C;\n",
              "      box-shadow: 0px 1px 3px 1px rgba(0, 0, 0, 0.15);\n",
              "      filter: drop-shadow(0px 1px 2px rgba(0, 0, 0, 0.3));\n",
              "      fill: #FFFFFF;\n",
              "    }\n",
              "  </style>\n",
              "\n",
              "      <script>\n",
              "        const buttonEl =\n",
              "          document.querySelector('#df-b8a153f9-07d0-451c-bbac-19f3bfe3c895 button.colab-df-convert');\n",
              "        buttonEl.style.display =\n",
              "          google.colab.kernel.accessAllowed ? 'block' : 'none';\n",
              "\n",
              "        async function convertToInteractive(key) {\n",
              "          const element = document.querySelector('#df-b8a153f9-07d0-451c-bbac-19f3bfe3c895');\n",
              "          const dataTable =\n",
              "            await google.colab.kernel.invokeFunction('convertToInteractive',\n",
              "                                                     [key], {});\n",
              "          if (!dataTable) return;\n",
              "\n",
              "          const docLinkHtml = 'Like what you see? Visit the ' +\n",
              "            '<a target=\"_blank\" href=https://colab.research.google.com/notebooks/data_table.ipynb>data table notebook</a>'\n",
              "            + ' to learn more about interactive tables.';\n",
              "          element.innerHTML = '';\n",
              "          dataTable['output_type'] = 'display_data';\n",
              "          await google.colab.output.renderOutput(dataTable, element);\n",
              "          const docLink = document.createElement('div');\n",
              "          docLink.innerHTML = docLinkHtml;\n",
              "          element.appendChild(docLink);\n",
              "        }\n",
              "      </script>\n",
              "    </div>\n",
              "  </div>\n",
              "  "
            ]
          },
          "metadata": {},
          "execution_count": 6
        }
      ],
      "source": [
        "df.head()"
      ]
    },
    {
      "cell_type": "markdown",
      "metadata": {
        "id": "iCyeYe7EZkpe"
      },
      "source": [
        "##Split the dataset using the \"icustay_id\""
      ]
    },
    {
      "cell_type": "code",
      "execution_count": null,
      "metadata": {
        "id": "ZCg9_J_WXffC"
      },
      "outputs": [],
      "source": [
        "\n",
        "import numpy as np\n",
        "\n",
        "def split_df(df):\n",
        "  IDs = list(set(df['icustay_id'].tolist())) # get all the time series ID's\n",
        "  num_samples = len(IDs)\n",
        "  \n",
        "# train \n",
        "  split_ratio = 0.70\n",
        "  train_sz = int(split_ratio * num_samples)\n",
        "  train_sz\n",
        "\n",
        "  np.random.seed(0)\n",
        "  train_ids = random.choice(IDs, train_sz, replace=False) # Get random timeseries IDs for train\n",
        "  group = df.groupby('icustay_id')\n",
        "  train = []\n",
        "  for ID in train_ids:\n",
        "      train_subset = group.get_group(ID)\n",
        "      train.append(train_subset)\n",
        "  train = pd.concat(train).reset_index(drop=True)\n",
        "\n",
        "\n",
        "  remain_ids = [ID for ID in IDs if ID not in train_ids]\n",
        "  \n",
        "\n",
        "  #10% validation\n",
        "  split_ratio = 0.10\n",
        "  validation_sz = int(split_ratio * num_samples)\n",
        "  #20% test\n",
        "  test_sz = num_samples - (train_sz + validation_sz)\n",
        "\n",
        "  #IDs\n",
        "  test_ids = remain_ids[:test_sz]\n",
        "  validation_ids = remain_ids[test_sz:]\n",
        "  #append to test set\n",
        "  test = []\n",
        "  for ID in test_ids:\n",
        "      test_subset = group.get_group(ID)\n",
        "      test.append(test_subset)\n",
        "  test = pd.concat(test).reset_index(drop=True)\n",
        "\n",
        "  #append to validation set\n",
        "  validation = []\n",
        "  for ID in validation_ids:\n",
        "      validation_subset = group.get_group(ID)\n",
        "      validation.append(validation_subset)\n",
        "  validation = pd.concat(validation).reset_index(drop=True)\n",
        "\n",
        "\n",
        "  print('number of the ICU stay IDs in the whole set',num_samples)\n",
        "\n",
        "  print(\"#########################\")\n",
        "  print(\"train set\")\n",
        "  print(\"length of ICU stay train IDs \", len(train_ids))\n",
        "  print('train shape',train.shape)\n",
        "\n",
        "  print(\"#########################\")\n",
        "  print(\"remain IDs for validation and test set \",len(remain_ids))\n",
        "\n",
        "  print(\"#########################\")\n",
        "  print(\"validation set\")\n",
        "  print('length of ICU stay validation IDs',len(validation_ids))\n",
        "  print('validation shape',validation.shape)\n",
        "\n",
        "  print(\"#########################\")\n",
        "  print(\"test set\")\n",
        "  print('length of ICU stay test IDs',len(test_ids))\n",
        "  print('test shape',test.shape)\n",
        "\n",
        "  return train, validation, test, train_ids, validation_ids, test_ids"
      ]
    },
    {
      "cell_type": "code",
      "execution_count": null,
      "metadata": {
        "colab": {
          "base_uri": "https://localhost:8080/"
        },
        "id": "mdqToCF3QXJw",
        "outputId": "23e29e37-7c1a-4a8a-b247-5c40fb83a2cb"
      },
      "outputs": [
        {
          "name": "stdout",
          "output_type": "stream",
          "text": [
            "number of the ICU stay IDs in the whole set 28275\n",
            "#########################\n",
            "train set\n",
            "length of ICU stay train IDs  19792\n",
            "train shape (465471, 80)\n",
            "#########################\n",
            "remain IDs for validation and test set  8483\n",
            "#########################\n",
            "validation set\n",
            "length of ICU stay validation IDs 2827\n",
            "validation shape (66629, 80)\n",
            "#########################\n",
            "test set\n",
            "length of ICU stay test IDs 5656\n",
            "test shape (133038, 80)\n"
          ]
        }
      ],
      "source": [
        "train, validation, test, train_ids, validation_ids, test_ids =  split_df(df)"
      ]
    },
    {
      "cell_type": "markdown",
      "metadata": {
        "id": "BumTNlaisabX"
      },
      "source": [
        "#Check the distribution of the target "
      ]
    },
    {
      "cell_type": "code",
      "execution_count": null,
      "metadata": {
        "id": "dxV3OQIbsf-C"
      },
      "outputs": [],
      "source": [
        "def check_imbalance(df):\n",
        "  nnz_df = np.count_nonzero(df['mort_icu']) # class 1 population\n",
        "  nz_df = len(df['mort_icu']) - nnz_df # class 0 population\n",
        "  class_0_ratio = 100* (nz_df/ len(df['mort_icu']))\n",
        "  class_1_ratio = 100* (nnz_df / len(df['mort_icu']))\n",
        "  print('%0.2f percent of  data belong to the negative class' % class_0_ratio)\n",
        "  print('%0.2f percent of  data belong to the positive class' % class_1_ratio)\n",
        "\n",
        "  # Find out imbalance ratio\n",
        "  imbalance_ratio = nz_df / nnz_df\n",
        "  print('imbalance ratio: %0.2f' % (imbalance_ratio))"
      ]
    },
    {
      "cell_type": "markdown",
      "source": [
        "Full dataset"
      ],
      "metadata": {
        "id": "0zwyJMap78Pb"
      }
    },
    {
      "cell_type": "code",
      "source": [
        "print(\"full dataset\")\n",
        "check_imbalance(df)\n",
        "print(\"###################################\")"
      ],
      "metadata": {
        "colab": {
          "base_uri": "https://localhost:8080/"
        },
        "id": "xxDK2OYV7--K",
        "outputId": "33589633-3ace-4b23-fd8d-d85a68c9462e"
      },
      "execution_count": null,
      "outputs": [
        {
          "output_type": "stream",
          "name": "stdout",
          "text": [
            "full dataset\n",
            "93.12 percent of  data belong to the negative class\n",
            "6.88 percent of  data belong to the positive class\n",
            "imbalance ratio: 13.53\n",
            "###################################\n"
          ]
        }
      ]
    },
    {
      "cell_type": "code",
      "source": [
        "#plt.tight_layout()\n",
        "import seaborn as sns\n",
        "sns.countplot(df['mort_icu'], palette=['#0047AB']).set_title('full dataset')"
      ],
      "metadata": {
        "colab": {
          "base_uri": "https://localhost:8080/",
          "height": 313
        },
        "id": "7M9K7eLo8BTV",
        "outputId": "33fbc936-216b-4893-cc3b-a4a3e02d01a9"
      },
      "execution_count": null,
      "outputs": [
        {
          "output_type": "execute_result",
          "data": {
            "text/plain": [
              "Text(0.5, 1.0, 'full dataset')"
            ]
          },
          "metadata": {},
          "execution_count": 11
        },
        {
          "output_type": "display_data",
          "data": {
            "text/plain": [
              "<Figure size 432x288 with 1 Axes>"
            ],
            "image/png": "[encoded data removed]"
          },
          "metadata": {
            "needs_background": "light"
          }
        }
      ]
    },
    {
      "cell_type": "markdown",
      "source": [
        "After split"
      ],
      "metadata": {
        "id": "4kHO7bag8p83"
      }
    },
    {
      "cell_type": "code",
      "execution_count": null,
      "metadata": {
        "colab": {
          "base_uri": "https://localhost:8080/"
        },
        "id": "y1cGFVzjt5yK",
        "outputId": "ef19dd75-0ccf-4d91-d00e-80635c3892a2"
      },
      "outputs": [
        {
          "output_type": "stream",
          "name": "stdout",
          "text": [
            "train set\n",
            "93.00 percent of  data belong to the negative class\n",
            "7.00 percent of  data belong to the positive class\n",
            "imbalance ratio: 13.28\n",
            "###################################\n",
            "test set\n",
            "93.42 percent of  data belong to the negative class\n",
            "6.58 percent of  data belong to the positive class\n",
            "imbalance ratio: 14.20\n",
            "###################################\n",
            "validation set\n",
            "93.37 percent of  data belong to the negative class\n",
            "6.63 percent of  data belong to the positive class\n",
            "imbalance ratio: 14.07\n"
          ]
        }
      ],
      "source": [
        "print(\"train set\")\n",
        "check_imbalance(train)\n",
        "\n",
        "print(\"###################################\")\n",
        "print(\"test set\")\n",
        "check_imbalance(test)\n",
        "\n",
        "print(\"###################################\")\n",
        "print(\"validation set\")\n",
        "check_imbalance(validation)"
      ]
    },
    {
      "cell_type": "code",
      "source": [
        "#plt.tight_layout()\n",
        "import seaborn as sns\n",
        "sns.countplot(train['mort_icu'], palette=['#0047AB']).set_title('train set')"
      ],
      "metadata": {
        "colab": {
          "base_uri": "https://localhost:8080/",
          "height": 313
        },
        "id": "OMBrjqCT7n1X",
        "outputId": "86d8a96f-f285-47ba-d135-c31724eb1cb9"
      },
      "execution_count": null,
      "outputs": [
        {
          "output_type": "execute_result",
          "data": {
            "text/plain": [
              "Text(0.5, 1.0, 'train set')"
            ]
          },
          "metadata": {},
          "execution_count": 13
        },
        {
          "output_type": "display_data",
          "data": {
            "text/plain": [
              "<Figure size 432x288 with 1 Axes>"
            ],
            "image/png": "[encoded data removed]"
          },
          "metadata": {
            "needs_background": "light"
          }
        }
      ]
    },
    {
      "cell_type": "code",
      "source": [
        "#plt.tight_layout()\n",
        "import seaborn as sns\n",
        "sns.countplot(validation['mort_icu'], palette=['#0047AB']).set_title('validation set')"
      ],
      "metadata": {
        "colab": {
          "base_uri": "https://localhost:8080/",
          "height": 313
        },
        "id": "KqNYQ0PI7pY0",
        "outputId": "029956cb-d007-425a-c5fa-7ad516c1d5fe"
      },
      "execution_count": null,
      "outputs": [
        {
          "output_type": "execute_result",
          "data": {
            "text/plain": [
              "Text(0.5, 1.0, 'validation set')"
            ]
          },
          "metadata": {},
          "execution_count": 14
        },
        {
          "output_type": "display_data",
          "data": {
            "text/plain": [
              "<Figure size 432x288 with 1 Axes>"
            ],
            "image/png": "[encoded data removed]"
          },
          "metadata": {
            "needs_background": "light"
          }
        }
      ]
    },
    {
      "cell_type": "code",
      "source": [
        "#plt.tight_layout()\n",
        "import seaborn as sns\n",
        "sns.countplot(test['mort_icu'], palette=['#0047AB']).set_title('test set')"
      ],
      "metadata": {
        "colab": {
          "base_uri": "https://localhost:8080/",
          "height": 313
        },
        "id": "0KD2K7mS7puM",
        "outputId": "5280f4aa-4436-4339-d9f3-3e20b6428287"
      },
      "execution_count": null,
      "outputs": [
        {
          "output_type": "execute_result",
          "data": {
            "text/plain": [
              "Text(0.5, 1.0, 'test set')"
            ]
          },
          "metadata": {},
          "execution_count": 15
        },
        {
          "output_type": "display_data",
          "data": {
            "text/plain": [
              "<Figure size 432x288 with 1 Axes>"
            ],
            "image/png": "[encoded data removed]"
          },
          "metadata": {
            "needs_background": "light"
          }
        }
      ]
    },
    {
      "cell_type": "markdown",
      "metadata": {
        "id": "7S_DwjNHYuo8"
      },
      "source": [
        "##Save output"
      ]
    },
    {
      "cell_type": "code",
      "execution_count": null,
      "metadata": {
        "id": "ZHGpd9cgYxPG"
      },
      "outputs": [],
      "source": [
        "train.to_csv(DATA_FILEPATH +'train.csv') # 70%\n",
        "validation.to_csv(DATA_FILEPATH +'validation.csv') # 10%\n",
        "test.to_csv(DATA_FILEPATH +'test.csv')# 20%"
      ]
    },
    {
      "cell_type": "code",
      "execution_count": null,
      "metadata": {
        "id": "W5G1GMf9ZS3u"
      },
      "outputs": [],
      "source": [
        "#save the IDs\n",
        "pd.DataFrame(train_ids).to_csv(DATA_FILEPATH +'train_ids.csv') # 70%\n",
        "pd.DataFrame(validation_ids).to_csv(DATA_FILEPATH +'validation_ids.csv') # 10%\n",
        "pd.DataFrame(test_ids).to_csv(DATA_FILEPATH +'test_ids.csv') # 20%"
      ]
    }
  ],
  "metadata": {
    "colab": {
      "collapsed_sections": [],
      "name": "Split_IDs.ipynb",
      "provenance": [],
      "authorship_tag": "ABX9TyOA3uWmB9kd8YtoTRm3y1eB",
      "include_colab_link": true
    },
    "kernelspec": {
      "display_name": "Python 3",
      "name": "python3"
    },
    "language_info": {
      "name": "python"
    }
  },
  "nbformat": 4,
  "nbformat_minor": 0
}